{
 "metadata": {
  "name": "",
  "signature": "sha256:60c23a8f50ffb51e0da71a6e8b36475b7941871a6f534003180327a651bb1c1c"
 },
 "nbformat": 3,
 "nbformat_minor": 0,
 "worksheets": [
  {
   "cells": [
    {
     "cell_type": "heading",
     "level": 1,
     "metadata": {},
     "source": [
      "Chapter 13: Persistent Data: File Input and Output"
     ]
    },
    {
     "cell_type": "heading",
     "level": 2,
     "metadata": {},
     "source": [
      "example 13.1, page no. 296"
     ]
    },
    {
     "cell_type": "code",
     "collapsed": false,
     "input": [
      "\n",
      "\n",
      "try:\n",
      "    if(fp):\n",
      "        print \"infile = \", fp\n",
      "        print \"0\"\n",
      "except IOError:\n",
      "    print \"1\""
     ],
     "language": "python",
     "metadata": {},
     "outputs": [
      {
       "ename": "NameError",
       "evalue": "name 'fp' is not defined",
       "output_type": "pyerr",
       "traceback": [
        "\u001b[1;31m---------------------------------------------------------------------------\u001b[0m\n\u001b[1;31mNameError\u001b[0m                                 Traceback (most recent call last)",
        "\u001b[1;32m<ipython-input-1-112e202a5944>\u001b[0m in \u001b[0;36m<module>\u001b[1;34m()\u001b[0m\n\u001b[0;32m      4\u001b[0m \u001b[1;33m\u001b[0m\u001b[0m\n\u001b[0;32m      5\u001b[0m \u001b[1;32mtry\u001b[0m\u001b[1;33m:\u001b[0m\u001b[1;33m\u001b[0m\u001b[0m\n\u001b[1;32m----> 6\u001b[1;33m     \u001b[1;32mif\u001b[0m\u001b[1;33m(\u001b[0m\u001b[0mfp\u001b[0m\u001b[1;33m)\u001b[0m\u001b[1;33m:\u001b[0m\u001b[1;33m\u001b[0m\u001b[0m\n\u001b[0m\u001b[0;32m      7\u001b[0m         \u001b[1;32mprint\u001b[0m \u001b[1;34m\"infile = \"\u001b[0m\u001b[1;33m,\u001b[0m \u001b[0mfp\u001b[0m\u001b[1;33m\u001b[0m\u001b[0m\n\u001b[0;32m      8\u001b[0m         \u001b[1;32mprint\u001b[0m \u001b[1;34m\"0\"\u001b[0m\u001b[1;33m\u001b[0m\u001b[0m\n",
        "\u001b[1;31mNameError\u001b[0m: name 'fp' is not defined"
       ]
      }
     ],
     "prompt_number": 1
    },
    {
     "cell_type": "heading",
     "level": 2,
     "metadata": {},
     "source": [
      "example 13.2, page no. 296"
     ]
    },
    {
     "cell_type": "code",
     "collapsed": false,
     "input": [
      "\n",
      "\n",
      "try:\n",
      "    fp = open(\"students.dat\", \"w\")\n",
      "    if(fp):\n",
      "        print \"infile = \", fp\n",
      "        print \"0\"\n",
      "except IOError:\n",
      "    print \"1\""
     ],
     "language": "python",
     "metadata": {},
     "outputs": [
      {
       "output_type": "stream",
       "stream": "stdout",
       "text": [
        "infile =  <open file 'students.dat', mode 'w' at 0x2d80a50>\n",
        "0\n"
       ]
      }
     ],
     "prompt_number": 2
    },
    {
     "cell_type": "heading",
     "level": 2,
     "metadata": {},
     "source": [
      "example 13.3, page no. 299"
     ]
    },
    {
     "cell_type": "code",
     "collapsed": false,
     "input": [
      "\n",
      "fp = open(\"students.dat\", \"w\")\n",
      "print \"Writing to the file\"\n",
      "print \"===================\"\n",
      "print \"Enter class name: \",\n",
      "data = raw_input()\n",
      "fp.write(data)\n",
      "fp.write(\"\\n\")\n",
      "print \"Enter number of students: \",\n",
      "data = raw_input()\n",
      "fp.write(data)\n",
      "fp.close()"
     ],
     "language": "python",
     "metadata": {},
     "outputs": [
      {
       "output_type": "stream",
       "stream": "stdout",
       "text": [
        "Writing to the file\n",
        "===================\n",
        "Enter class name: "
       ]
      },
      {
       "name": "stdout",
       "output_type": "stream",
       "stream": "stdout",
       "text": [
        "C++\n"
       ]
      },
      {
       "output_type": "stream",
       "stream": "stdout",
       "text": [
        " Enter number of students: "
       ]
      },
      {
       "name": "stdout",
       "output_type": "stream",
       "stream": "stdout",
       "text": [
        "32\n"
       ]
      },
      {
       "output_type": "stream",
       "stream": "stdout",
       "text": [
        "\n"
       ]
      }
     ],
     "prompt_number": 3
    },
    {
     "cell_type": "heading",
     "level": 2,
     "metadata": {},
     "source": [
      "example 13.4, page no. 301"
     ]
    },
    {
     "cell_type": "code",
     "collapsed": false,
     "input": [
      "\n",
      "\n",
      "fp = open(\"students.dat\", \"w\")\n",
      "print \"Writing to the file\"\n",
      "print \"===================\"\n",
      "print \"Enter class name: \",\n",
      "data = raw_input()\n",
      "fp.write(data)\n",
      "fp.write(\"\\n\")\n",
      "print \"Enter number of students: \",\n",
      "data = raw_input()\n",
      "fp.write(data)\n",
      "fp.close()\n",
      "fp = open(\"students.dat\", \"r\")\n",
      "print \"Reading from the file\"\n",
      "print \"=====================\"\n",
      "lines = fp.readlines()\n",
      "for line in lines:\n",
      "    print line\n",
      "fp.close()"
     ],
     "language": "python",
     "metadata": {},
     "outputs": [
      {
       "output_type": "stream",
       "stream": "stdout",
       "text": [
        "Writing to the file\n",
        "===================\n",
        "Enter class name: "
       ]
      },
      {
       "name": "stdout",
       "output_type": "stream",
       "stream": "stdout",
       "text": [
        "C++\n"
       ]
      },
      {
       "output_type": "stream",
       "stream": "stdout",
       "text": [
        " Enter number of students: "
       ]
      },
      {
       "name": "stdout",
       "output_type": "stream",
       "stream": "stdout",
       "text": [
        "32\n"
       ]
      },
      {
       "output_type": "stream",
       "stream": "stdout",
       "text": [
        " Reading from the file\n",
        "=====================\n",
        "C++\n",
        "\n",
        "32\n"
       ]
      }
     ],
     "prompt_number": 4
    },
    {
     "cell_type": "heading",
     "level": 1,
     "metadata": {},
     "source": [
      "example 13.5, page no. 303"
     ]
    },
    {
     "cell_type": "code",
     "collapsed": false,
     "input": [
      "\n",
      "fp = open(\"students.dat\", \"w\")\n",
      "print \"Writing to the file\"\n",
      "print \"===================\"\n",
      "print \"Enter class name: \",\n",
      "data = raw_input()\n",
      "fp.write(data)\n",
      "fp.write(\"\\n\")\n",
      "print \"Enter number of students: \",\n",
      "data = raw_input()\n",
      "fp.write(data)\n",
      "fp.close()\n",
      "fp = open(\"students.dat\", \"r\")\n",
      "print \"Reading from the file\"\n",
      "print \"=====================\"\n",
      "lines = fp.readlines()\n",
      "for line in lines:\n",
      "    print line\n",
      "fp.close()"
     ],
     "language": "python",
     "metadata": {},
     "outputs": [
      {
       "output_type": "stream",
       "stream": "stdout",
       "text": [
        "Writing to the file\n",
        "===================\n",
        "Enter class name: "
       ]
      },
      {
       "name": "stdout",
       "output_type": "stream",
       "stream": "stdout",
       "text": [
        "C++\n"
       ]
      },
      {
       "output_type": "stream",
       "stream": "stdout",
       "text": [
        " Enter number of students: "
       ]
      },
      {
       "name": "stdout",
       "output_type": "stream",
       "stream": "stdout",
       "text": [
        "32\n"
       ]
      },
      {
       "output_type": "stream",
       "stream": "stdout",
       "text": [
        " Reading from the file\n",
        "=====================\n",
        "C++\n",
        "\n",
        "32\n"
       ]
      }
     ],
     "prompt_number": 5
    },
    {
     "cell_type": "heading",
     "level": 2,
     "metadata": {},
     "source": [
      "example 13.6, page no. 305"
     ]
    },
    {
     "cell_type": "code",
     "collapsed": false,
     "input": [
      "\n",
      "\n",
      "fp = open(\"students.dat\", \"w\")\n",
      "print \"Writing to the file\"\n",
      "print \"===================\"\n",
      "print \"Enter class name: \",\n",
      "data = raw_input()\n",
      "fp.write(data)\n",
      "fp.write(\"\\n\")\n",
      "print \"Enter number of students: \",\n",
      "data = raw_input()\n",
      "fp.write(data)\n",
      "fp.close()\n",
      "fp = open(\"students.dat\", \"r\")\n",
      "print \"Reading from the file\"\n",
      "print \"=====================\"\n",
      "while(fp.readline()):\n",
      "    print fp.readline()"
     ],
     "language": "python",
     "metadata": {},
     "outputs": [
      {
       "output_type": "stream",
       "stream": "stdout",
       "text": [
        "Writing to the file\n",
        "===================\n",
        "Enter class name: "
       ]
      },
      {
       "name": "stdout",
       "output_type": "stream",
       "stream": "stdout",
       "text": [
        "C++\n"
       ]
      },
      {
       "output_type": "stream",
       "stream": "stdout",
       "text": [
        " Enter number of students: "
       ]
      },
      {
       "name": "stdout",
       "output_type": "stream",
       "stream": "stdout",
       "text": [
        "32\n"
       ]
      },
      {
       "output_type": "stream",
       "stream": "stdout",
       "text": [
        " Reading from the file\n",
        "=====================\n",
        "32\n"
       ]
      }
     ],
     "prompt_number": 6
    },
    {
     "cell_type": "code",
     "collapsed": false,
     "input": [],
     "language": "python",
     "metadata": {},
     "outputs": []
    }
   ],
   "metadata": {}
  }
 ]
}