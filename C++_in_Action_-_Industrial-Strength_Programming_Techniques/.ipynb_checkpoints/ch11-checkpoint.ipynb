{
 "metadata": {
  "name": "",
  "signature": "sha256:d4deb246a9bd56a3c6cdfb40f5c92d61fa63821825ffc120e7cc6ecddafbf829"
 },
 "nbformat": 3,
 "nbformat_minor": 0,
 "worksheets": [
  {
   "cells": [
    {
     "cell_type": "markdown",
     "metadata": {},
     "source": [
      "<h1>Chapter 11 : Assertions"
     ]
    },
    {
     "cell_type": "markdown",
     "metadata": {},
     "source": [
      "<h3>EXAMPLE 11.1 page no : 130"
     ]
    },
    {
     "cell_type": "code",
     "collapsed": true,
     "input": [
      "\n",
      "\n",
      "def check(answer):\n",
      "    assert answer ==42"
     ],
     "language": "python",
     "metadata": {},
     "outputs": [],
     "prompt_number": 1
    },
    {
     "cell_type": "markdown",
     "metadata": {},
     "source": [
      "<h3>EXAMPLE 11.2 page no : 131"
     ]
    },
    {
     "cell_type": "code",
     "collapsed": true,
     "input": [
      "\n",
      "class EmcString:\n",
      "    def at(self,index):\n",
      "        if (index >= self.lengthM):\n",
      "            raise Exception;\n",
      "        return self.cpM[index];\n",
      "\n",
      "    # Unchecked version\n",
      "    def operator(self,index):\n",
      "        assert(index < self.lengthM)\n",
      "        return self.cpM[index];"
     ],
     "language": "python",
     "metadata": {},
     "outputs": [],
     "prompt_number": 2
    },
    {
     "cell_type": "code",
     "collapsed": true,
     "input": [],
     "language": "python",
     "metadata": {},
     "outputs": []
    }
   ],
   "metadata": {}
  }
 ]
}