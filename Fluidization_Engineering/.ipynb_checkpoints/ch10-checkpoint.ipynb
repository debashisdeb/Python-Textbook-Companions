{
 "metadata": {
  "name": "",
  "signature": "sha256:89c91579d721ed0f833b399593203d4eb19421ab1695bc830f1be612e46bd826"
 },
 "nbformat": 3,
 "nbformat_minor": 0,
 "worksheets": [
  {
   "cells": [
    {
     "cell_type": "heading",
     "level": 1,
     "metadata": {},
     "source": [
      "Chapter 10 : Gas Dispersion and Gas Interchange in Bubbling Beds"
     ]
    },
    {
     "cell_type": "code",
     "collapsed": false,
     "input": [
      "%pylab inline"
     ],
     "language": "python",
     "metadata": {},
     "outputs": [
      {
       "output_type": "stream",
       "stream": "stdout",
       "text": [
        "\n",
        "Welcome to pylab, a matplotlib-based Python environment [backend: module://IPython.zmq.pylab.backend_inline].\n",
        "For more information, type 'help(pylab)'.\n"
       ]
      }
     ],
     "prompt_number": 2
    },
    {
     "cell_type": "heading",
     "level": 3,
     "metadata": {},
     "source": [
      "Example 1, Page 253\n"
     ]
    },
    {
     "cell_type": "code",
     "collapsed": false,
     "input": [
      "\n",
      "from numpy import *\n",
      "%pylab inline\n",
      "#Variable declaration\n",
      "umf=[0.01,0.045];     #Velocity at minimum fluidization condition in m/s\n",
      "ephsilonmf=[0.5,0.5]; #Void fraction at minimum fluidization condition\n",
      "D=[2E-5,7E-5];        #Diffusion coefficient of gas in m**2/s\n",
      "g=9.81;               #Acceleration due to gravity in m/s**2\n",
      "\n",
      "#CALCULATION\n",
      "db=[5.,10.,15.,20.];\n",
      "n=len(umf);\n",
      "m=len(db)\n",
      "Kbc = zeros((n,m))\n",
      "Kce = zeros((n,m))\n",
      "Kbe = zeros((n,m))\n",
      "    \n",
      "for i in range(n):\n",
      "    for j in range(m):\n",
      "            Kbc[i][j]=4.5*(umf[i]/db[j])+5.85*((D[i]**0.5*g**0.25)/db[j]**(5.0/4));#Gas interchange coefficient between bubble and cloud from Eqn.(27)\n",
      "            Kce[i][j]=6.77*((D[i]*ephsilonmf[i]*0.711*(g*db[j])**0.5)/db[j]**3)**0.5;#Gas interchange coefficient between emulsion and cloud from Eqn.(34)\n",
      "            Kbe[i][j]=(Kbc[i][j]*Kce[i][j])/(Kbc[i][j]+Kce[i][j]);#Gas interchange coefficient between bubble and emulsion from Eqn.(14)\n",
      "\n",
      "#OUTPUT\n",
      "i=0;\n",
      "j=0;\n",
      "k=0;\n",
      "while k<m*n:\n",
      "    print '\\t\\tKbc for fine particles and He',\n",
      "    print '\\tKbc for coarse particles and ozone',\n",
      "    print '\\tKbe for fine particles and He',\n",
      "    print '\\tKbe for coarse particles and ozone'\n",
      "    j = 0\n",
      "    while j<m:\n",
      "        print 'db=%fm'%(db[j]*10**-2);\n",
      "        while i<n:\n",
      "            print '\\t%f'%Kbc[i][j],\n",
      "            print '\\t\\t\\t%f'%Kbe[i][j],\n",
      "            i=i+1;   \n",
      "            k=k+1;\n",
      "            print '\\t\\t\\t',\n",
      "        i=0;\n",
      "        j=j+1;\n",
      "import numpy\n",
      "import matplotlib.pyplot as plt\n",
      "a = numpy.matrix(Kbe)\n",
      "b = numpy.matrix(Kbc)\n",
      "db = array(db).T\n",
      "Kbe=a.T\n",
      "Kbc=b.T\n",
      "\n",
      "plt.plot(db,Kbc,db,Kbe)\n",
      "#plt.plot(db,Kbe);\n",
      "#Note : Python does not have plot2d function. so we can plot it \n",
      "#plt.title('Plot of Kbc,Kbe vs db','db');\n",
      "plt.show()\n",
      "print 'Comparing the points with the plot of Kbc,Kbe vs db in Fig.(12), we can conlcude the following:'\n",
      "print 'Kbc for fine particles and helium: line 2 in Fig.(12)'\n",
      "print 'Kbc for coarser particles and ozone: line 3 in Fig.(12)'\n",
      "print 'Kbe for fine particles and helium: line 4 in Fig.(12)'\n",
      "print 'Kbe for coarser particles and ozone: line 5 in Fig.(12)'\n",
      "\n"
     ],
     "language": "python",
     "metadata": {},
     "outputs": [
      {
       "output_type": "stream",
       "stream": "stdout",
       "text": [
        "\n",
        "Welcome to pylab, a matplotlib-based Python environment [backend: module://IPython.zmq.pylab.backend_inline].\n",
        "For more information, type 'help(pylab)'.\n"
       ]
      },
      {
       "output_type": "stream",
       "stream": "stdout",
       "text": [
        "\t\tKbc for fine particles and He \tKbc for coarse particles and ozone \tKbe for fine particles and He \tKbe for coarse particles and ozone\n",
        "db=0.050000m\n",
        "\t0.015193 \t\t\t0.003335 \t\t\t\t0.052085 \t\t\t0.006930 \t\t\tdb=0.100000m\n",
        "\t0.007104 \t\t\t0.001434 \t\t\t\t0.025121 \t\t\t0.002964 \t\t\tdb=0.150000m\n",
        "\t0.004568 \t\t\t0.000875 \t\t\t\t0.016434 \t\t\t0.001803 \t\t\tdb=0.200000m\n",
        "\t0.003345 \t\t\t0.000616 \t\t\t\t0.012173 \t\t\t0.001266 \t\t\t"
       ]
      },
      {
       "metadata": {},
       "output_type": "display_data",
       "png": "[encoded data removed]"
      },
      {
       "output_type": "stream",
       "stream": "stdout",
       "text": [
        "Comparing the points with the plot of Kbc,Kbe vs db in Fig.(12), we can conlcude the following:\n",
        "Kbc for fine particles and helium: line 2 in Fig.(12)\n",
        "Kbc for coarser particles and ozone: line 3 in Fig.(12)\n",
        "Kbe for fine particles and helium: line 4 in Fig.(12)\n",
        "Kbe for coarser particles and ozone: line 5 in Fig.(12)\n"
       ]
      }
     ],
     "prompt_number": 1
    },
    {
     "cell_type": "heading",
     "level": 3,
     "metadata": {},
     "source": [
      "Example 2, Page 254\n"
     ]
    },
    {
     "cell_type": "code",
     "collapsed": false,
     "input": [
      "\n",
      "D=0.69;         #Diffusion coefficient of gas in cm**2/s\n",
      "umf=1.0;        #Velocity at minimum fluidization condition in cm/s\n",
      "ephsilonmf=0.5; #Void fraction at minimum fluidization condition\n",
      "db=[5,15];      #Equilibrium bubble size in cm\n",
      "g=980;          #Acceleration due to gravity in cm/s**2\n",
      "\n",
      "#CALCULATION\n",
      "n=len(db);\n",
      "i=0;\n",
      "Kbc = [0.,0.]\n",
      "Kce = [0.,0.]\n",
      "Kbe = [0.,0.]\n",
      "e = [0.,0.]\n",
      "while i<n:\n",
      "    Kbc[i]=4.5*(umf/db[i])+5.85*((D**0.5*g**0.25)/db[i]**(5/4));#Gas interchange coefficient between bubble and cloud from Eqn.(27)\n",
      "    Kce[i]=6.77*((D*ephsilonmf*0.711*(g*db[i])**0.5)/db[i]**3)**0.5;#Gas interchange coefficient between emulsion and cloud from Eqn.(34)\n",
      "    Kbe[i]=(Kbc[i]*Kce[i])/(Kbc[i]+Kce[i]);#Gas interchange coefficient between bubble and emulsion from Eqn.(14)\n",
      "    e[i]=(Kce[i]-Kbe[i])/Kbe[i];#Error when minor resistance is ignored\n",
      "    i=i+1;\n",
      "\n",
      "#OUTPUT\n",
      "print 'db(cm)',\n",
      "print '\\t\\tCalculated Kbc',\n",
      "print '\\tCalculated Kce',\n",
      "print '\\t\\tKbe from Eqn.(14)',\n",
      "print '\\tErron when minor resistance is ignored (in percentage)'\n",
      "i=0;\n",
      "while i<n:\n",
      "    print '%f'%db[i],\n",
      "    print '\\t%f'%Kbc[i],\n",
      "    print '\\t%f'%Kce[i],\n",
      "    print '\\t\\t%f'%Kbe[i],\n",
      "    print '\\t\\t%f'%(e[i]*100);\n",
      "    i=i+1;   \n",
      "\n"
     ],
     "language": "python",
     "metadata": {},
     "outputs": [
      {
       "output_type": "stream",
       "stream": "stdout",
       "text": [
        "db(cm) \t\tCalculated Kbc \tCalculated Kce \t\tKbe from Eqn.(14) \tErron when minor resistance is ignored (in percentage)\n",
        "5.000000 \t6.337721 \t2.509152 \t\t1.797506 \t\t39.590766\n",
        "15.000000 \t2.112574 \t0.635514 \t\t0.488547 \t\t30.082477\n"
       ]
      }
     ],
     "prompt_number": 2
    },
    {
     "cell_type": "heading",
     "level": 3,
     "metadata": {},
     "source": [
      "Example 3, Page 255\n"
     ]
    },
    {
     "cell_type": "code",
     "collapsed": false,
     "input": [
      "\n",
      "Kbe=[0.028,0.05];  #Reported range for gas interchange coefficient between bubble and emulsion\n",
      "uo=0.30;           #Superficial gas velocity in m/s\n",
      "db=0.13;           #Equilibrium bubble size in m\n",
      "m=7;\n",
      "ephsilonmf=0.5;    #Void fraction at minimum fluidization condition\n",
      "umf=0.0018;        #Velocity at minimum fluidization condition in m/s\n",
      "D=[9E-6,22E-6];    #Diffusion coefficient of gas in m**2/s\n",
      "g=9.81;            #Acceleration due to gravity in m/s**2\n",
      "\n",
      "#CALCULATION\n",
      "n=len(Kbe);\n",
      "i=0;\n",
      "Kbem = [0,0]\n",
      "Kbc = [0,0]\n",
      "Kce = [0,0]\n",
      "#Kbe = [0,0]\n",
      "c = [0,0]\n",
      "\n",
      "while i<n:\n",
      "    Kbem[i]=(6.0/db)*Kbe[i];#Gas interchange coefficient between bubble and emulsion from Eqn.(19)\n",
      "    Kbc[i]=4.5*(umf/db)+5.85*((D[i]**0.5*g**0.25)/db**(5.0/4));#Gas interchange coefficient between bubble and cloud from Eqn.(27)\n",
      "    Kce[i]=6.77*((D[i]*ephsilonmf*0.711*(g*db)**0.5)/db**3)**0.5;#Gas interchange coefficient between emulsion and cloud from Eqn.(34)\n",
      "    Kbe[i]=(Kbc[i]*Kce[i])/(Kbc[i]+Kce[i]);#Gas interchange coefficient between bubble and emulsion from Eqn.(14)\n",
      "    c[i]=(Kbem[i]/Kbe[i]);\n",
      "    i=i+1;\n",
      "\n",
      "#OUTPUT\n",
      "print 'Kbe from Eqn.(19)',\n",
      "print '\\tKbc from Eqn.(27)',\n",
      "print '\\tKce from Eqn.(34)',\n",
      "print '\\tKbe from Eqn.(14)',\n",
      "print '\\tComparison of Kbe from Eqn.(19) and that from Eqn.(14)'\n",
      "i=0\n",
      "while i<n:\n",
      "    print '%f'%Kbem[i],\n",
      "    print '\\t\\t%f'%Kbc[i],\n",
      "    print '\\t\\t%f'%Kce[i],\n",
      "    print '\\t\\t%f'%Kbe[i],\n",
      "    print '\\t\\t%f'%c[i]\n",
      "    i=i+1;   \n",
      "\n"
     ],
     "language": "python",
     "metadata": {},
     "outputs": [
      {
       "output_type": "stream",
       "stream": "stdout",
       "text": [
        "Kbe from Eqn.(19) \tKbc from Eqn.(27) \tKce from Eqn.(34) \tKbe from Eqn.(14) \tComparison of Kbe from Eqn.(19) and that from Eqn.(14)\n",
        "1.292308 \t\t0.460200 \t\t0.274548 \t\t0.171959 \t\t7.515188\n",
        "2.307692 \t\t0.684401 \t\t0.429248 \t\t0.263797 \t\t8.747978\n"
       ]
      }
     ],
     "prompt_number": 3
    },
    {
     "cell_type": "code",
     "collapsed": false,
     "input": [],
     "language": "python",
     "metadata": {},
     "outputs": []
    }
   ],
   "metadata": {}
  }
 ]
}