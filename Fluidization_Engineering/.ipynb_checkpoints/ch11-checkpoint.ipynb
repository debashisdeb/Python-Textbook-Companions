{
 "metadata": {
  "name": "",
  "signature": "sha256:69d28aca1d8ec525f15842df275d6e6c6108139c968df651029692a500222ce7"
 },
 "nbformat": 3,
 "nbformat_minor": 0,
 "worksheets": [
  {
   "cells": [
    {
     "cell_type": "heading",
     "level": 1,
     "metadata": {},
     "source": [
      "Chapter  11  : Particle to Gas Mass and Heat Transfer"
     ]
    },
    {
     "cell_type": "code",
     "collapsed": false,
     "input": [
      "%pylab inline"
     ],
     "language": "python",
     "metadata": {},
     "outputs": [
      {
       "output_type": "stream",
       "stream": "stdout",
       "text": [
        "\n",
        "Welcome to pylab, a matplotlib-based Python environment [backend: module://IPython.zmq.pylab.backend_inline].\n",
        "For more information, type 'help(pylab)'.\n"
       ]
      }
     ],
     "prompt_number": 1
    },
    {
     "cell_type": "heading",
     "level": 3,
     "metadata": {},
     "source": [
      "Example 1, Page 265\n"
     ]
    },
    {
     "cell_type": "code",
     "collapsed": false,
     "input": [
      "\n",
      "db=0.37;         #Equilibrium bubble size in cm\n",
      "dp=0.028;        #Particle size in cm\n",
      "rhos=1.06;       #Density of solids in g/cc\n",
      "ephsilonmf=0.5;  #Void fraction at minimum fluidization condition\n",
      "phis=0.4;        #Sphericity of solids\n",
      "gammab=0.005;    #Ratio of volume of dispersed solids to that of bubble phase\n",
      "rhog=1.18E-3;    #Density of air in g/cc\n",
      "myu=1.8E-4;      #Viscosity of gas in g/cm s\n",
      "D=0.065;         #Diffusion coefficient of gas in cm**2/s\n",
      "Sc=2.35;         #Schmidt number\n",
      "etad=1;          #Adsorption efficiency factor\n",
      "y=1;\n",
      "umf=1.21;        #Velocity at minimum fluidization condition in cm/s\n",
      "ut=69;           #Terminal velocity in cm/s\n",
      "g=980;           #Acceleration due to gravity in square cm/s**2\n",
      "uo=[10,20,30,40,50];#Superficial gas velocity in cm/s\n",
      "\n",
      "#CALCULATION\n",
      "n=len(uo);\n",
      "i=0;\n",
      "Rept=(dp*ut*rhog)/myu;\n",
      "Shstar=2+(0.6*(Rept**0.5)*(Sc**(1/3)));#Sherwood no. from Eqn.(1)\n",
      "Kbc=4.5*(umf/db)+5.85*((D**0.5*g**0.25)/db**(5/4));#Gas interchange coefficient between bubble and cloud from Eqn.(10.27)\n",
      "ubr=0.711*(g*db)**0.5;#Rise velocity of the bubble\n",
      "x = [0,0,0,0,0]\n",
      "Shbed = [0,0,0,0,0]\n",
      "Rep = [0,0,0,0,0]\n",
      "while i<n:\n",
      "    x[i]=(uo[i]-umf)/(ubr*(1-ephsilonmf));#The term delta/(1-epshilonf) after simplification\n",
      "    Shbed[i]=x[i]*((gammab*Shstar*etad)+((phis*dp**2*y)/(6*D))*Kbc);#Sherwood no. from Eqn.(11)\n",
      "    Rep[i]=(dp*uo[i]*rhog)/myu;#Reynolds of the particle\n",
      "    i=i+1;\n",
      "\n",
      "#OUTPUT\n",
      "print 'The desired result is the relationship between Shbed and Rep  The points gives a straight line of the form y=mx+c'\n",
      "print 'Rep',\n",
      "print '\\t\\tShbed'\n",
      "i=0;\n",
      "while i<n:\n",
      "    print '%f'%Rep[i],\n",
      "    print '\\t%f'%Shbed[i]\n",
      "    i=i+1;\n",
      "import matplotlib.pyplot as plt\n",
      "plt.plot(Rep,Shbed);\n",
      "plt.xlabel(\"Rep\");\n",
      "plt.ylabel(\"Shbed\");\n",
      "\n",
      "plt.show()"
     ],
     "language": "python",
     "metadata": {},
     "outputs": [
      {
       "output_type": "stream",
       "stream": "stdout",
       "text": [
        "Populating the interactive namespace from numpy and matplotlib\n",
        "The desired result is the relationship between Shbed and Rep  The points gives a straight line of the form y=mx+c\n",
        "Rep \t\tShbed\n",
        "1.835556 \t0.065762\n",
        "3.671111 \t0.140576\n",
        "5.506667 \t0.215391\n",
        "7.342222 \t0.290206\n",
        "9.177778 \t0.365020\n"
       ]
      },
      {
       "metadata": {},
       "output_type": "display_data",
       "png": "[encoded data removed]",
       "text": [
        "<matplotlib.figure.Figure at 0x2b26690>"
       ]
      }
     ],
     "prompt_number": 3
    },
    {
     "cell_type": "heading",
     "level": 3,
     "metadata": {},
     "source": [
      "Example 2, Page 267"
     ]
    },
    {
     "cell_type": "code",
     "collapsed": false,
     "input": [
      "from scipy.optimize import fsolve \n",
      "import math \n",
      "\n",
      "#INPUT\n",
      "umf=0.12            #Velocity at minimum fluidization condition in cm/s\n",
      "uo=40.;              #Superficial gas velocity in cm/s\n",
      "ub=120;             #Velocity of the bubble in cm/s\n",
      "D=0.7;              #Diffusion coefficient of gas in cm**2/s\n",
      "abkbe1=1.;           #Bubble-emuslion interchange coefficient for non absorbing particles(m=0)\n",
      "abkbe2=18.;          #Bubble-emuslion interchange coefficient for highly absorbing particles(m=infinity)\n",
      "g=980.;              #Acceleration due to gravity in square cm/s**2\n",
      "\n",
      "#CALCULATION\n",
      "#For non absorbing particles m=0,etad=0\n",
      "Kbc=(ub/uo)*(abkbe1);\n",
      "dbguess=2;#Guess value of db\n",
      "def solver_func(db):        #Function defined for solving the system\n",
      "    return abkbe1-(uo/ub)*(4.5*(umf/db)+5.85*(D**0.5*g**0.25)/(db**(5/4.)));#Eqn.(10.27)\n",
      "\n",
      "d=fsolve(solver_func,dbguess)\n",
      "#For highly absorbing particles m=infinity, etad=1\n",
      "M=abkbe2-(uo/ub)*Kbc;\n",
      "#For intermediate condition\n",
      "alpha=100.;\n",
      "m=10.;\n",
      "etad=1./(1+(alpha/m));#Fitted adsorption efficiency factor from Eqn.(23)\n",
      "abkbe3=M*etad+(uo/ub)*Kbc;\n",
      "\n",
      "#OUTPUT\n",
      "print 'For non absorbing particles:\\tDiameter of bubble=%fcm\\tBubble-cloud interchange coefficient=%fs**-1'%(d,Kbc);\n",
      "print 'For highly absorbing partilces:\\tM=%f'%(M);\n",
      "print 'For intermediate condition:\\tFitted adsorption efficiency factor:%f\\tBubble-emuslion interchange coefficient:%fs**-1'%(etad,abkbe3);\n",
      "\n",
      "#====================================END OF PROGRAM ======================================================"
     ],
     "language": "python",
     "metadata": {},
     "outputs": [
      {
       "output_type": "stream",
       "stream": "stdout",
       "text": [
        "For non absorbing particles:\tDiameter of bubble=6.010032cm\tBubble-cloud interchange coefficient=3.000000s**-1\n",
        "For highly absorbing partilces:\tM=17.000000\n",
        "For intermediate condition:\tFitted adsorption efficiency factor:0.090909\tBubble-emuslion interchange coefficient:2.545455s**-1\n"
       ]
      }
     ],
     "prompt_number": 1
    },
    {
     "cell_type": "heading",
     "level": 3,
     "metadata": {},
     "source": [
      "Example 3, Page 273\n"
     ]
    },
    {
     "cell_type": "code",
     "collapsed": false,
     "input": [
      "\n",
      "rhos=1.3;                #Density of solids in g/cc\n",
      "phis=0.806;              #Sphericity of solids\n",
      "gammab=0.001;            #Ratio of volume of dispersed solids to that of bubble phase\n",
      "rhog=1.18E-3;            #Density of air in g/cc\n",
      "Pr=0.69;                 #Prandtl number\n",
      "myu=1.8E-4;              #Viscosity of gas in g/cm s\n",
      "Cpg=1.00;                #Specific heat capacity of gas in J/g K\n",
      "ephsilonmf=0.45;         #Void fraction at minimum fluidization condition\n",
      "kg=2.61E-4;              #Thermal concuctivity of gas in W/cm k\n",
      "dp=0.036;                #Particle size in cm\n",
      "umf=6.5;                 #Velocity at minimum fluidization condition in cm/s\n",
      "ut=150.;                 #Terminal velocity in cm/s\n",
      "db=0.4;                  #Equilibrium bubble size in cm\n",
      "etah=1;                  #Efficiency of heat transfer\n",
      "uo=[10.,20.,30.,40.,50.];#Superficial gas velocity in cm/s\n",
      "g=980.;                  #Acceleration due to gravity in square cm/s**2\n",
      "\n",
      "#CALCULATION\n",
      "Nustar=2+(((dp*ut*rhog)/myu)**0.5*Pr**(1./3));#Nusselt no. from Eqn.(25)\n",
      "Hbc=4.5*(umf*rhog*Cpg/db)+5.85*((kg*rhog*Cpg)**0.5*g**0.25/db**(5./4));#Total heat interchange across the bubble-cloud boundary from Eqn.(32)\n",
      "ubr=0.711*(g*db)**0.5;#Rise velocity of the bubble from Eqn.(6.7)\n",
      "n=len(uo);\n",
      "i=0;\n",
      "x = [0,0,0,0,0]\n",
      "Nubed = [0,0,0,0,0]\n",
      "Rep = [0,0,0,0,0]\n",
      "\n",
      "while i<n:\n",
      "    x[i]=(uo[i]-umf)/(ubr*(1-ephsilonmf));#The term delta/(1-epshilonf) after simplification\n",
      "    Nubed[i]=x[i]*(gammab*Nustar*etah+(phis*dp**2/(6*kg))*Hbc);#Nusselt no. from Eqn.(36)\n",
      "    Rep[i]=(dp*uo[i]*rhog)/myu;#Reynolds of the particle\n",
      "    i=i+1;\n",
      "\n",
      "#OUTPUT\n",
      "print 'The desired result is the relationship between Nubed and Rep which is in the form of a straight line y=mx+c'\n",
      "print 'Rep',\n",
      "print '\\t\\tNubed'\n",
      "i=0;\n",
      "while i<n:\n",
      "    print '%f'%Rep[i],\n",
      "    print '\\t%f'%Nubed[i]\n",
      "    i=i+1;\n",
      "import matplotlib.pyplot as plt\n",
      "plt.plot(Rep,Nubed);\n",
      "plt.xlabel(\"Rep\");\n",
      "plt.ylabel(\"Nubed\");\n",
      "plt.show()\n",
      " "
     ],
     "language": "python",
     "metadata": {},
     "outputs": [
      {
       "output_type": "stream",
       "stream": "stdout",
       "text": [
        "The desired result is the relationship between Nubed and Rep which is in the form of a straight line y=mx+c\n",
        "Rep \t\tNubed\n",
        "2.360000 \t0.046518\n",
        "4.720000 \t0.179427\n",
        "7.080000 \t0.312335\n",
        "9.440000 \t0.445244\n",
        "11.800000 \t0.578152\n"
       ]
      },
      {
       "metadata": {},
       "output_type": "display_data",
       "png": "[encoded data removed]",
       "text": [
        "<matplotlib.figure.Figure at 0x269c250>"
       ]
      }
     ],
     "prompt_number": 4
    },
    {
     "cell_type": "heading",
     "level": 3,
     "metadata": {},
     "source": [
      "Example 4, Page 274\n"
     ]
    },
    {
     "cell_type": "code",
     "collapsed": false,
     "input": [
      "\n",
      "\n",
      "import math\n",
      "\n",
      "#Variable declaration\n",
      "rhog=1.2;       #Density of air in kg/m**3\n",
      "myu=1.8E-5;     #Viscosity of gas in kg/m s\n",
      "kg=2.6E-2;      #Thermal concuctivity of gas in W/m k\n",
      "dp=1E-4;        #Particle size in m\n",
      "rhos=8920;      #Density of solids in kg/m**3\n",
      "Cps=390;        #Specific heat capacity of the solid in J/kg K\n",
      "ephsilonf=0.5;  #Void fraction of the fluidized bed\n",
      "umf=0.1;        #Velocity at minimum fluidization condition in m/s\n",
      "uo=0.1;         #Superficial gas velocity in m/s\n",
      "pi=3.14\n",
      "\n",
      "#CALCULATION\n",
      "to=0;                 #Initial temperature of the bed\n",
      "T=100;                #Temperature of the bed\n",
      "t=0.99*T;             #Particle temperature i.e. when it approaches 1% of the bed temperature\n",
      "mp=(pi/6)*dp**3*rhos; #Mass of the particle\n",
      "A=pi*dp**2;           #Surface area of the particle\n",
      "Rep=(dp*uo*rhog)/myu; #Reynold's no. of the particle\n",
      "Nubed=0.0178;         #Nusselt no. from Fig.(6)\n",
      "hbed1=(Nubed*kg)/dp;  #Heat transfer coefficient of the bed\n",
      "t1=(mp*Cps/(hbed1*A))*math.log((T-to)/(T-t));#Time needed for the particle approach 1 percentage of the bed temperature in case(a)\n",
      "hbed2=140*hbed1;#Since from Fig.(6) Nup is 140 times Nubed\n",
      "t2=(mp*Cps/(hbed2*A))*math.log((T-to)/(T-t));#Time needed for the particle approach 1 percentage of the bed temperature in case(b)\n",
      "\n",
      "#OUTPUT\n",
      "print 'Case(a):Using the whole bed coefficient from Fig.(6)'\n",
      "print '\\tTime needed for the particle approach 1 percentage of the bed temperature is %.0fs'%t1\n",
      "print 'Case(b):Uisng the single-particle coefficient of Eqn.(25),also shown in Fig.(6)'\n",
      "print '\\tTime needed for the particle approach 1 percentage of the bed temperature is %.2fs'%t2"
     ],
     "language": "python",
     "metadata": {},
     "outputs": [
      {
       "output_type": "stream",
       "stream": "stdout",
       "text": [
        "Case(a):Using the whole bed coefficient from Fig.(6)\n",
        "\tTime needed for the particle approach 1 percentage of the bed temperature is 58s\n",
        "Case(b):Uisng the single-particle coefficient of Eqn.(25),also shown in Fig.(6)\n",
        "\tTime needed for the particle approach 1 percentage of the bed temperature is 0.41s\n"
       ]
      }
     ],
     "prompt_number": 5
    },
    {
     "cell_type": "code",
     "collapsed": false,
     "input": [],
     "language": "python",
     "metadata": {},
     "outputs": []
    }
   ],
   "metadata": {}
  }
 ]
}