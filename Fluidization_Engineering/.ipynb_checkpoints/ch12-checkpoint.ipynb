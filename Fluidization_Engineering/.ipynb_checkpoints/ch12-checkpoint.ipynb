{
 "metadata": {
  "name": "",
  "signature": "sha256:3cabb972e9b40cc3c2621280c95233b4046eb8d671e52d74d499a7e149a3d9aa"
 },
 "nbformat": 3,
 "nbformat_minor": 0,
 "worksheets": [
  {
   "cells": [
    {
     "cell_type": "heading",
     "level": 1,
     "metadata": {},
     "source": [
      "Chapter 12 : Conversion of Gas in Catalytic Reactions"
     ]
    },
    {
     "cell_type": "heading",
     "level": 3,
     "metadata": {},
     "source": [
      "Example 1, Page 293\n"
     ]
    },
    {
     "cell_type": "code",
     "collapsed": false,
     "input": [
      "\n",
      "\n",
      "import math\n",
      "\n",
      "#Variable declaration\n",
      "Kr=10.;          #rate constant in m**3 gas/m**3 cat s\n",
      "D=2E-5;          #Diffusion coefficient of gas in m**2/s\n",
      "dpbar=68.;       #Average partilce size in micrometers\n",
      "ephsilonm=0.5;   #Void fraction of fixed bed\n",
      "gammab=0.005;    #Ratio of volume of dispersed solids to that of bubble phase\n",
      "ephsilonmf=0.55; #Void fraction at minimum fluidization condition\n",
      "umf=0.006;       #Velocity at minimum fluidization condition in m/s\n",
      "db=0.04;         #Equilibrium bubble size in m\n",
      "Lm=0.7;          #Length of the bed in m\n",
      "uo=0.1;          #Superficial gas velocity in m/s\n",
      "dbed=0.26;       #Diameter of the bed in m\n",
      "g=9.81;          #Acceleration due to gravity in square m/s**2\n",
      "\n",
      "#CALCULATION\n",
      "ubr=0.711*(g*db)**0.5;#Rise velocity of bubble from Eqn.(6.7)\n",
      "ub=uo-umf+ubr;#Velocity of bubbles in bubbling beds in Eqn.(6.8)\n",
      "Kbc=4.5*(umf/db)+5.85*((D**0.5*g**0.25)/db**(5./4));#Gas interchange coefficient between bubble and cloud from Eqn.(10.27)\n",
      "Kce=6.77*((D*ephsilonmf*0.711*(g*db)**0.5)/db**3)**0.5;#Gas interchange coefficient between emulsion and cloud from Eqn.(10.34)\n",
      "delta=uo/ub;#Fraction of bed in bubbles from Eqn.(6.29)\n",
      "fw=0.6;#Wake volume to bubble volume from Fig.(5.8)\n",
      "gammac=(1-ephsilonmf)*((3/(ubr*ephsilonmf/umf-1))+fw);#Volume of solids in cloud to that of the bubble from Eqn.(6.36)\n",
      "gammae=((1-ephsilonmf)*((1-delta)/delta))-gammab-gammac;#Volume of solids in emulsion to that of the bubble from Eqn.(6.35)\n",
      "ephsilonf=1-(1-delta)*(1-ephsilonmf);#Void fraction of fixed bed from Eqn.(6.20)\n",
      "Lf=(1-ephsilonm)*Lm/(1-ephsilonf);#Length of fixed bed from Eqn.(6.19)\n",
      "Krtou=Kr*Lm*(1-ephsilonm)/uo;#Dimensionless reaction rate group from Eqn.(5)\n",
      "Kf=gammab*Kr+1/((1/Kbc)+(1/(gammac*Kr+1/((1/Kce)+(1/(gammae*Kr))))));#Raction rate for fluidized bed from Eqn.(14)\n",
      "XA=math.exp(-1*Kf*Lf/ub);#Conversion from Eqn.(16)\n",
      "\n",
      "#OUTPUT\n",
      "print 'The dimnesionless reaction rate group: %f'%Krtou\n",
      "print 'The reaction rate for fluidized bed: %fs**-1'%Kf\n",
      "print 'Conversion: %f'%XA\n",
      "\n"
     ],
     "language": "python",
     "metadata": {},
     "outputs": [
      {
       "output_type": "stream",
       "stream": "stdout",
       "text": [
        "The dimnesionless reaction rate group: 35.000000\n",
        "The reaction rate for fluidized bed: 1.979872s**-1\n",
        "Conversion: 0.030056\n"
       ]
      }
     ],
     "prompt_number": 1
    },
    {
     "cell_type": "heading",
     "level": 3,
     "metadata": {},
     "source": [
      "Example 2, Page 298\n"
     ]
    },
    {
     "cell_type": "code",
     "collapsed": false,
     "input": [
      "\n",
      "import math\n",
      "\n",
      "#Variable declaration\n",
      "umf=0.005;        #Velocity at minimum fluidization condition in m/s\n",
      "ephsilonm=0.52;   #Void fraction of fixed bed\n",
      "ephsilonmf=0.57;  #Void fraction at minimum fluidization condition\n",
      "DA=8.1E-6;        #Diffusion coefficient of gas in m**2/s\n",
      "DR=8.4E-6;        #Diffusion coefficient of gas in m**2/s\n",
      "Lm=5;             #Length of the bed in m\n",
      "dte=1;            #Diameter of tube in m\n",
      "Kr1=1.5;          #rate constant in m**3 gas/m**3 cat s\n",
      "Kr3=0.01;         #rate constant in m**3 gas/m**3 cat s\n",
      "gammab=0.005;     #Ratio of volume of dispersed solids to that of bubble phase\n",
      "uo=0.45;          #Superficial gas velocity in m/s\n",
      "db=0.05;          #Equilibrium bubble size in m from Fig.(6.8)\n",
      "ub=1.5;           #Velocity of bubbles in bubbling bed in m/s from Fig.(6.11(a))\n",
      "g=9.81;           #Acceleration due to gravity in square m/s**2\n",
      "\n",
      "#CALCULATION\n",
      "ubr=0.711*(g*db)**0.5;#Rise velocity of bubble from Eqn.(6.7)\n",
      "KbcA=4.5*(umf/db)+5.85*((DA**0.5*g**0.25)/db**(5.0/4));#Gas interchange coefficient between bubble and cloud from Eqn.(10.27)\n",
      "KceA=6.77*((DA*ephsilonmf*0.711*(g*db)**0.5)/db**3)**0.5;#Gas interchange coefficient between emulsion and cloud from Eqn.(10.34)\n",
      "KbcR=4.5*(umf/db)+5.85*((DR**0.5*g**0.25)/db**(5./4));#Gas interchange coefficient between bubble and cloud from Eqn.(10.27)\n",
      "KceR=6.77*((DR*ephsilonmf*0.711*(g*db)**0.5)/db**3)**0.5;#Gas interchange coefficient between emulsion and cloud from Eqn.(10.34)\n",
      "delta=uo/ub;#Fraction of bed in bubbles from Eqn.(6.29)\n",
      "fw=0.6;#Wake volume to bubble volume from Fig.(5.8)\n",
      "gammac=(1-ephsilonmf)*((3/(ubr*ephsilonmf/umf-1))+fw);#Volume of solids in cloud to that of the bubble from Eqn.(6.36)\n",
      "gammae=((1-ephsilonmf)*((1-delta)/delta))-gammab-gammac;#Volume of solids in emulsion to that of the bubble from Eqn.(6.35)\n",
      "ephsilonf=1-(1-delta)*(1-ephsilonmf);#Void fraction of fixed bed from Eqn.(6.20)\n",
      "Lf=(1-ephsilonm)*Lm/(1-ephsilonf);#Length of fixed bed from Eqn.(6.19)\n",
      "Krtou=Kr1*Lm*(1-ephsilonm)/uo;#Dimensionless reaction rate group from Eqn.(5)\n",
      "Kr12=Kr1;#Since the reactions are a special case of Denbigh scheme\n",
      "Kr34=Kr3;\n",
      "Kf1=(gammab*Kr12+1/((1/KbcA)+(1/(gammac*Kr12+1/((1/KceA)+(1/(gammae*Kr12)))))))*(delta/(1-ephsilonf));#Rate of reaction 1 for fluidized bed from Eqn.(14)\n",
      "Kf3=(gammab*Kr34+1/((1/KbcR)+(1/(gammac*Kr34+1/((1/KceR)+(1/(gammae*Kr34)))))))*(delta/(1-ephsilonf));#Rate of reaction 2 for fluidized bed from Eqn.(14)\n",
      "Kf12=Kf1;\n",
      "Kf34=Kf3;\n",
      "KfA=((KbcR*KceA/gammac**2+(Kr12+KceA/gammac+KceA/gammae)* \\\n",
      "    (Kr34+KceR/gammac+KceR/gammae))*delta*KbcA*Kr12*Kr34/ \\\n",
      "    (1-ephsilonf))/(((Kr12+KbcA/gammac)*(Kr12+KceA/gammae)+Kr12*KceA/gammac) \\\n",
      "        *((Kr34+KbcR/gammac)*(Kr34+KceR/gammae)+Kr34*KceR/gammac));\n",
      "            #Rate of raection with respect to A from Eqn.(35)\n",
      "KfAR=Kr1/Kr12*Kf12-KfA;#Rate of reaction from Eqn.(34)\n",
      "tou=Lf*(1-ephsilonf)/uo;#Residence time from Eqn.(5)\n",
      "XA=1-math.exp(-Kf1*tou);#Conversion of A from Eqn.(26)\n",
      "XR=1-((KfAR/(Kf12-Kf34))*(math.exp(-Kf34*tou)-math.exp(-Kf12*tou)));#Conversion of R from Eqn.(27)\n",
      "SR=(1-XR)/XA;#Selectivity of R\n",
      "\n",
      "#OUTPUT\n",
      "\n",
      "print 'Rate of reaction 1 for fluidized bed:%.4f'%Kf1\n",
      "print 'Rate of reaction 2 for fluidized bed:%.4f'%Kf3\n",
      "print 'Rate of reaction 1 with respect to A:%.4f'%KfA\n",
      "print 'The Conversion of Napthalene:%.0f percentage'%(XA*100);\n",
      "print 'The selectivity of Phthalic anhydride:%.0f percentage'%(SR*100);\n",
      "\n"
     ],
     "language": "python",
     "metadata": {},
     "outputs": [
      {
       "output_type": "stream",
       "stream": "stdout",
       "text": [
        "Rate of reaction 1 for fluidized bed:0.6007\n",
        "Rate of reaction 2 for fluidized bed:0.0099\n",
        "Rate of reaction 1 with respect to A:0.0058\n",
        "The Conversion of Napthalene:96 percentage\n",
        "The selectivity of Phthalic anhydride:95 percentage\n"
       ]
      }
     ],
     "prompt_number": 2
    },
    {
     "cell_type": "heading",
     "level": 3,
     "metadata": {},
     "source": [
      "Example 3, Page 302\n"
     ]
    },
    {
     "cell_type": "code",
     "collapsed": false,
     "input": [
      "\n",
      "import math\n",
      "\n",
      "#Variable declaration\n",
      "Kr=3.;           #rate constant in m**3 gas/m**3 cat s\n",
      "db=0.12;         #Equilibrium bubble size in m\n",
      "D=9E-5;          #Diffusion coefficient of gas in m**2/s\n",
      "dpbar=68;        #Average partilce size in micrometers\n",
      "ephsilonm=0.42;  #Void fraction of fixed bed\n",
      "uo=0.4;          #Superficial gas velocity in m/s\n",
      "Lm=0.8;          #Length of the bed in m\n",
      "ephsilonmf=0.45; #Void fraction at minimum fluidization condition\n",
      "umf=0.21;        #Velocity at minimum fluidization condition in m/s\n",
      "gammab=0;        #Ratio of volume of dispersed solids to that of bubble phase\n",
      "g=9.81;          #Acceleration due to gravity in square m/s**2\n",
      "\n",
      "#CALCULATION\n",
      "ubr=0.711*(g*db)**0.5;  #Rise velocity of bubble from Eqn.(6.7)\n",
      "ub=uo-umf+ubr;          #Velocity of bubbles in bubbling beds in Eqn.(6.8)\n",
      "ubstar=ub+3*umf;        #Rise velocity of the bubble gas from Eqn.(45)\n",
      "delta=(uo-umf)/(ub+umf);#Fraction of bed in bubbles from Eqn.(6.46)\n",
      "Kbe=4.5*(umf/db);       #Interchange coefficient between bubble and emulsion from Eqn.(47)\n",
      "Lf=Lm*(1-ephsilonm)/((1-delta)*(1-ephsilonmf));#Length of fixed bed\n",
      "phi=((Kr/Kbe)**2*((1-ephsilonmf)-gammab*(umf/ubstar))**2+ \\\n",
      "        ((delta/(1-delta))+umf/ubstar)**2+2*(Kr/Kbe)*((1-ephsilonmf) \\\n",
      "            -gammab*(umf/ubstar))*((delta/(1-delta))-umf/ubstar))**0.5;\n",
      "            #From Eqn.(52)\n",
      "            \n",
      "q1=0.5*Kr/umf*((1-ephsilonmf)+gammab*(umf/ubstar))+0.5*Kbe/umf* \\\n",
      "        (((delta/(1-delta))+umf/ubstar)-phi);#From Eqn.(50)\n",
      "q2=0.5*Kr/umf*((1-ephsilonmf)+gammab*(umf/ubstar))+0.5*Kbe/umf* \\\n",
      "        (((delta/(1-delta))+umf/ubstar)+phi);#From Eqn.(50)\n",
      "        \n",
      "si1=0.5-0.5*((1-delta)/delta)*(umf/ubstar-Kr/Kbe*((1-ephsilonmf)- \\\n",
      "        gammab*(umf/ubstar))-phi);#From Eqn.(51)\n",
      "si2=0.5-0.5*((1-delta)/delta)*(umf/ubstar-Kr/Kbe*((1-ephsilonmf)- \\\n",
      "        gammab*(umf/ubstar))+phi);#From Eqn.(51)\n",
      "XA=1-(delta/(1-delta))*(1/(uo*phi))*((1-si2)*(si1*delta*ubstar+ \\\n",
      "        (1-delta)*umf)*math.exp(-q1*Lf)+(si1-1)* \\\n",
      "        (si2*delta*ubstar+(1-delta)*umf)*math.exp(-q2*Lf));\n",
      "        #Conversion from Eqn.(49)\n",
      "        \n",
      "Krtou=Kr*Lm*(1-ephsilonm)/uo;#Dimensionless reaction rate group from Eqn.(5)\n",
      "\n",
      "#OUTPUT\n",
      "print 'COmparing the values of 1-XA = %f and Krtou = %f with Fig.(6), \\\n",
      "we can conlcude that this operating condition is shown as point \\\n",
      "A in Fig.(3)'%(1-XA,Krtou);\n",
      "print 'Line 2 gives the locus of conversions for different values of the \\\n",
      "reaction rate group for this fluidized contacting'\n",
      "\n"
     ],
     "language": "python",
     "metadata": {},
     "outputs": [
      {
       "output_type": "stream",
       "stream": "stdout",
       "text": [
        "COmparing the values of 1-XA = 0.113843 and Krtou = 3.480000 with Fig.(6), we can conlcude that this operating condition is shown as point A in Fig.(3)\n",
        "Line 2 gives the locus of conversions for different values of the reaction rate group for this fluidized contacting\n"
       ]
      }
     ],
     "prompt_number": 3
    },
    {
     "cell_type": "heading",
     "level": 3,
     "metadata": {},
     "source": [
      "Example 4, Page 305\n"
     ]
    },
    {
     "cell_type": "code",
     "collapsed": false,
     "input": [
      "\n",
      "\n",
      "import math\n",
      "\n",
      "#Variable declaration\n",
      "uo=0.25;        #Superficial gas velocity in m/s\n",
      "db=0.025;       #Equilibrium bubble size in m\n",
      "Kr=1.5;         #rate constant in m**3 gas/m**3 cat s\n",
      "umf=0.21;       #Velocity at minimum fluidization condition in m/s\n",
      "Lm=0.8;         #Length of the bed in m\n",
      "ephsilonm=0.42; #Void fraction of fixed bed\n",
      "g=9.81;         #Acceleration due to gravity in square m/s**2\n",
      "\n",
      "#CALCULATION\n",
      "ubr=0.711*(g*db)**0.5;#Rise velocity of bubble from Eqn.(6.7)\n",
      "ub=uo-umf+ubr;#Velocity of bubbles in bubbling beds in Eqn.(6.8)\n",
      "delta=(uo-umf)/(ub+2*umf);#Fraction of bed in bubbles from Eqn.(55) since ub/umf<<1 \n",
      "XA=1-math.exp(-Kr*Lm*((1-ephsilonm)/uo)*(umf/uo)*(1-delta));#Conversion from Eqn.(57)\n",
      "Krtou=Kr*Lm*(1-ephsilonm)/uo;#Dimensionless reaction rate group from Eqn.(5)\n",
      "\n",
      "\n",
      "#OUTPUT\n",
      "print 'Comparing the values of 1-XA = %f and Krtou = %f with Fig.(6), \\\n",
      "we can conlcude that this operating condition is shown \\\n",
      "as point B in Fig.(3)'%(1-XA,Krtou);\n",
      "print 'Line 3 gives the locus of conversions for different values \\\n",
      "of the reaction rate group for this fluidized contacting'\n",
      "\n"
     ],
     "language": "python",
     "metadata": {},
     "outputs": [
      {
       "output_type": "stream",
       "stream": "stdout",
       "text": [
        "Comparing the values of 1-XA = 0.108243 and Krtou = 2.784000 with Fig.(6), we can conlcude that this operating condition is shown as point B in Fig.(3)\n",
        "Line 3 gives the locus of conversions for different values of the reaction rate group for this fluidized contacting\n"
       ]
      }
     ],
     "prompt_number": 4
    },
    {
     "cell_type": "heading",
     "level": 3,
     "metadata": {},
     "source": [
      "Example 5, Page 307\n"
     ]
    },
    {
     "cell_type": "code",
     "collapsed": false,
     "input": [
      "\n",
      "\n",
      "import math\n",
      "\n",
      "#Variable declaration\n",
      "uo=0.3;          #Superficial gas velocity in m/s\n",
      "Lf=1.1;          #Length of fixed bed in m\n",
      "Hf=1.2;          #Length of freeboard in m\n",
      "db=0.04;         #Equilibrium bubble size in m\n",
      "umf=0.006;       #Velocity at minimum fluidization condition in m/s\n",
      "ephsilonmf=0.55; #Void fraction at minimum fluidization condition\n",
      "gammab=0.005;    #Ratio of volume of dispersed solids to that of bubble phase\n",
      "Kr=10.;          #rate constant in m**3 gas/m**3 cat s\n",
      "D=2E-5;          #Diffusion coefficient of gas in m**2/s\n",
      "g=9.81;          #Acceleration due to gravity in square m/s**2\n",
      "\n",
      "#CALCULATION\n",
      "ubr=0.711*(g*db)**0.5;#Rise velocity of bubble from Eqn.(6.7)\n",
      "ub=uo-umf+ubr;#Velocity of bubbles in bubbling beds in Eqn.(6.8)\n",
      "Kbc=4.5*(umf/db)+5.85*((D**0.5*g**0.25)/db**(5./4));\n",
      "#Gas interchange coefficient between bubble and cloud from Eqn.(10.27)\n",
      "\n",
      "Kce=6.77*((D*ephsilonmf*0.711*(g*db)**0.5)/db**3)**0.5;\n",
      "#Gas interchange coefficient between emulsion and cloud from Eqn.(10.34)\n",
      "\n",
      "delta=uo/ub;#Fraction of bed in bubbles from Eqn.(6.29)\n",
      "ephsilonf=1-(1-delta)*(1-ephsilonmf);#Void fraction of fixed bed from Eqn.(6.20)\n",
      "fw=0.6;#Wake volume to bubble volume from Fig.(5.8)\n",
      "gammac=(1-ephsilonmf)*((3.0/(ubr*ephsilonmf/umf-1))+fw);\n",
      "#Volume of solids in cloud to that of the bubble from Eqn.(6.36)\n",
      "\n",
      "gammae=((1-ephsilonmf)*((1-delta)/delta))-gammab-gammac;\n",
      "#Volume of solids in emulsion to that of the bubble from Eqn.(6.35)\n",
      "\n",
      "Kf=(gammab*Kr)+1.0/((1.0/Kbc)+(1.0/(gammac*Kr+1.0/((1.0/Kce)+(1.0/(gammae*Kr))))));\n",
      "#Raction rate for fluidized bed from Eqn.(14)\n",
      "\n",
      "XA=1-math.exp(-1*Kf*Lf/ub);#Conversion at the top of dense bed from Eqn.(16)\n",
      "etabed=(Kf*delta)/(Kr*(1-ephsilonf));#Reactor efficiency from Eqn.(22)\n",
      "a=0.6/uo  #Since uoa = 0.6s**-1 from Fig.(5)\n",
      "adash=6.62; #From Fig.(5)\n",
      "XA1=1-1.0/(math.exp(((1-ephsilonf)*Kr/(uo*a))*((1-math.exp(-a*Hf))- \\\n",
      "    ((1-etabed)/(1+(adash/a)))*(1-math.exp(-(a+adash)*Hf)))));#Conversion from Eqn.(64)\n",
      "XA2=1-(1.0-XA1)*(1.0-XA);#Conversion at the exit from Eqn.(64)\n",
      "\n",
      "#OUTPUT\n",
      "print 'The conversion:'\n",
      "print '\\tAt the top pf the dense bed: %d percentage'%(XA1*100)\n",
      "print '\\tAt the reactor exit: %d percentage'%(XA2*100);\n",
      "\n",
      "#Disclaimer: The value of kf deviate from the one given in textbook, where as it is close to the value obtained by manual calculation. \n"
     ],
     "language": "python",
     "metadata": {},
     "outputs": [
      {
       "output_type": "stream",
       "stream": "stdout",
       "text": [
        "The conversion:\n",
        "\tAt the top pf the dense bed: 96 percentage\n",
        "\tAt the reactor exit: 99 percentage\n"
       ]
      }
     ],
     "prompt_number": 5
    },
    {
     "cell_type": "code",
     "collapsed": false,
     "input": [],
     "language": "python",
     "metadata": {},
     "outputs": []
    }
   ],
   "metadata": {}
  }
 ]
}