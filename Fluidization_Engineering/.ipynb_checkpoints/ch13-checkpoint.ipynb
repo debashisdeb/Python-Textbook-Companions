{
 "metadata": {
  "name": "",
  "signature": "sha256:a97460b196d7b42e945dcfefc11684cc1c39c5847f8b0bdc9e3f6cdcd94bfcc3"
 },
 "nbformat": 3,
 "nbformat_minor": 0,
 "worksheets": [
  {
   "cells": [
    {
     "cell_type": "heading",
     "level": 2,
     "metadata": {},
     "source": [
      "Chapter 13 : Heat Transfer between Fluidized Beds and Surfaces"
     ]
    },
    {
     "cell_type": "heading",
     "level": 3,
     "metadata": {},
     "source": [
      "Example 1, Page 331\n"
     ]
    },
    {
     "cell_type": "code",
     "collapsed": false,
     "input": [
      "\n",
      "dp=57.0;         #Particle size in micrometer\n",
      "rhos=940.0;      #Density of solids in kg/m**3\n",
      "Cps=828.0;       #Specific heat capacity of the solid in J/kg K\n",
      "ks=0.20;         #Thermal conductivity of solids in W/m k\n",
      "kg=0.035;        #Thermal concuctivity of gas in W/m k\n",
      "umf=0.006;       #Velocity at minimum fluidization condition in m/s\n",
      "ephsilonmf=0.476;#Void fraction at minimum fluidization condition\n",
      "do1=0.0254;      #Outside diameter of tube in m\n",
      "L=1;\n",
      "uo=[0.05,0.1,0.2,0.35];#Superficial gas velocity in m/s\n",
      "nw=[2.,3.1,3.4,3.5];   #Bubble frequency in s**-1\n",
      "g=9.81;                #Acceleration due to gravity in square m/s**2\n",
      "\n",
      "\n",
      "#CALCULATION\n",
      "dte=4.*do1*L/2.*L;     #Hydraulic diameter from Eqn.(6.13)\n",
      "db=(1+1.5)*0.5*dte;    #Rise velocity of the bubble\n",
      "ubr=0.711*(g*db)**0.5; #Rise velocity of bubble from Eqn.(6.7)\n",
      "phib=0.19;#From Fig.(15) for ks/kg=5.7\n",
      "ke=ephsilonmf*kg+(1-ephsilonmf)*ks*(1/((phib*(ks/kg))+(2/3.0)))\n",
      "    #Effective thermal conductivity of bed from Eqn.(3) \n",
      "    \n",
      "n=len(uo);\n",
      "i=0;\n",
      "ub = [0,0,0,0]\n",
      "delta = [0,0,0,0]\n",
      "h = [0,0,0,0]\n",
      "while i<n:\n",
      "    ub[i]=uo[i]-umf+ubr; #Velocity of bubbles in bubbling beds in Eqn.(6.8)\n",
      "    delta[i]=uo[i]/ub[i];#Fraction of bed in bubbles from Eqn.(6.29)\n",
      "    h[i]=1.13*(ke*rhos*(1-ephsilonmf)*Cps*nw[i]*(1-delta[i]))**0.5;\n",
      "        #Heat transfer coefficinet from Eqn.(18)\n",
      "    i=i+1;\n",
      "\n",
      "#OUTPUT\n",
      "print 'Superficial gas velocity(m/s)',\n",
      "print '\\tHeat transfer coefficient(W/m**2 k)'\n",
      "i=0;\n",
      "while i<n:\n",
      "    print '%f'%uo[i],\n",
      "    print '\\t\\t\\t%f'%h[i]\n",
      "    i=i+1;\n",
      "\n"
     ],
     "language": "python",
     "metadata": {},
     "outputs": [
      {
       "output_type": "stream",
       "stream": "stdout",
       "text": [
        "Superficial gas velocity(m/s) \tHeat transfer coefficient(W/m**2 k)\n",
        "0.050000 \t\t\t270.297375\n",
        "0.100000 \t\t\t323.421769\n",
        "0.200000 \t\t\t315.487604\n",
        "0.350000 \t\t\t292.370761\n"
       ]
      }
     ],
     "prompt_number": 1
    },
    {
     "cell_type": "heading",
     "level": 3,
     "metadata": {},
     "source": [
      "Example 2, Page 332\n"
     ]
    },
    {
     "cell_type": "code",
     "collapsed": false,
     "input": [
      "\n",
      "dp=80.;              #Particle size in micrometer\n",
      "rhos=2550.;          #Density of solids in kg/m**3\n",
      "Cps=756.;            #Specific heat capacity of the solid in J/kg K\n",
      "ks=1.21;             #Thermal conductivity of solids in W/m k\n",
      "kg=[0.005,0.02,0.2]; #Thermal concuctivity of gas in W/m k\n",
      "ephsilonmf=0.476;    #Void fraction at minimum fluidization condition\n",
      "\n",
      "#CALCULATION\n",
      "delta=0.5*(0.1+0.3);#For a gently fluidized bed\n",
      "nw=3.;#Bubble frequency in s**-1 from Fig.(5.12) at about 30cm above the distributor\n",
      "n=len(kg);\n",
      "i=0;\n",
      "x = [0,0,0]\n",
      "while i<n:\n",
      "    x[i]=ks/kg[i];#To find different values of ks/kg\n",
      "    i=i+1;\n",
      "\n",
      "phib=[0.08,0.10,0.20];#From Fig.(15) for different values of ks/kg\n",
      "i=0;\n",
      "ke = [0,0,0]\n",
      "h1 =[0,0,0]\n",
      "while i<n:\n",
      "    ke[i]=ephsilonmf*kg[i]+(1-ephsilonmf)*ks*(1/((phib[i]*(ks/kg[i]))+(2.0/3)))\n",
      "    #Effective thermal conductivity of bed from Eqn.(3)\n",
      "    \n",
      "    h1[i]=1.13*(ke[i]*rhos*(1-ephsilonmf)*Cps*nw*(1-delta))**0.5;#Heat transfer coefficinet from Eqn.(18)\n",
      "    i=i+1;\n",
      "\n",
      "#OUTPUT\n",
      "print 'Thermal conductivity of Gas(W/m K))',\n",
      "print '\\tMax. heat transfer coefficient(W/m**2 k)'\n",
      "i=0;\n",
      "while i<n:\n",
      "    print '%f'%kg[i],\n",
      "    print '\\t\\t\\t\\t%d'%h1[i]\n",
      "    i=i+1;\n",
      "\n"
     ],
     "language": "python",
     "metadata": {},
     "outputs": [
      {
       "output_type": "stream",
       "stream": "stdout",
       "text": [
        "Thermal conductivity of Gas(W/m K)) \tMax. heat transfer coefficient(W/m**2 k)\n",
        "0.005000 \t\t\t\t324\n",
        "0.020000 \t\t\t\t567\n",
        "0.200000 \t\t\t\t1157\n"
       ]
      }
     ],
     "prompt_number": 2
    },
    {
     "cell_type": "heading",
     "level": 3,
     "metadata": {},
     "source": [
      "Example 3, Page 332\n"
     ]
    },
    {
     "cell_type": "code",
     "collapsed": false,
     "input": [
      "\n",
      "rhos=2700.;        #Density of solids in kg/m**3\n",
      "Cps=755.;          #Specific heat capacity of the solid in J/kg K\n",
      "ks=1.2;            #Thermal conductivity of solids in W/m k\n",
      "kg=0.028;          #Thermal concuctivity of gas in W/m k\n",
      "ephsilonmf=0.476;  #Void fraction at minimum fluidization condition\n",
      "dp1=10E-3;         #Particle size for which h=hmax in m\n",
      "hmax=250.;         #Max. heat transfer coefficient in W/m**2 K \n",
      "nw=5.;             #Bubble frequency in s**-1\n",
      "delta=0.1;         #Fraction of bed in bubbles\n",
      "deltaw=0.1;        #Fraction of bed in bubbles in wall region\n",
      "dp=2E-3;           #Diameter of particle in m\n",
      "\n",
      "#CALCULATION\n",
      "x=ks/kg;\n",
      "phib=0.11;\n",
      "phiw=0.17;\n",
      "ke=ephsilonmf*kg+(1-ephsilonmf)*ks*(1/((phib*(ks/kg))+(2.0/3)));\n",
      "#Effective thermal conductivity of bed from Eqn.(3)\n",
      "\n",
      "hpacket=1.13*(ke*rhos*(1-ephsilonmf)*Cps*nw/(1-deltaw))**0.5;\n",
      "#Heat transfer coefficient for the packet of emulsion from Eqn.(11)\n",
      "\n",
      "ephsilonw=ephsilonmf;#Void fraction in the wall region\n",
      "\n",
      "kew=ephsilonw*kg+(1-ephsilonw)*ks*((phiw*(ks/kg)+(1.0/3))**-1);\n",
      "#Effective thermal conductivity in the wall region with stagnant gas from Eqn.(4)\n",
      "\n",
      "y=(2*kew/dp1)+(hmax*hpacket)/(((1-deltaw)*hpacket)-hmax);\n",
      "#Calculating the term alphaw*Cpg*rhog*uo from Eqn.(16) by rearranging it\n",
      "\n",
      "h=(1-deltaw)/((2*kew/dp+y*(dp/dp1)**0.5)**-1+hpacket**-1);\n",
      "#Heat transfer coeeficient from Eqn.(11) by using the value of y \n",
      "\n",
      "#OUTPUT\n",
      "print 'The heat transfer coefficient for paricle size of %fm = %fW/m**2 K'%(dp,h);\n",
      "\n"
     ],
     "language": "python",
     "metadata": {},
     "outputs": [
      {
       "output_type": "stream",
       "stream": "stdout",
       "text": [
        "The heat transfer coefficient for paricle size of 0.002000m = 194.873869W/m**2 K\n"
       ]
      }
     ],
     "prompt_number": 3
    },
    {
     "cell_type": "heading",
     "level": 3,
     "metadata": {},
     "source": [
      "Example 4, Page 334\n"
     ]
    },
    {
     "cell_type": "code",
     "collapsed": false,
     "input": [
      "\n",
      "\n",
      "import math\n",
      "\n",
      "#Variable declaration\n",
      "Hf=4.0;   #Height of freeboard in m\n",
      "uo=2.4;   #Superficial gas velocity in m/s\n",
      "ho=350.0; #Heat transfer coefficient at the bottom of freeboard region in W/m**2 K\n",
      "hg=20.0;  #Heat transfer coefficient in equivalent gas stream, but free of solids in W/m**2 K\n",
      "\n",
      "#CALCULATION\n",
      "zf=[0,0.5,1,1.5,2,2.5,3,3.5,Hf];#Height above the top of the dense bubbling fluidized bed\n",
      "hr=0;#Assuming heat transfer due to radiation is negligible\n",
      "a=1.5/uo;#Since decay coefficient from Fig.(7.12), a*uo=1.5s**-1 \n",
      "n=len(zf);\n",
      "i=0;\n",
      "h = []\n",
      "while i<n:\n",
      "    h.append((hr+hg)+(ho-hr-hg)*math.exp(-a*zf[i]/2.0));#Heat transfer coefficient from Eqn.(24) for zf=Hf\n",
      "    i=i+1;\n",
      "\n",
      "hbar=(hr+hg)+2*(ho-hr-hg)*(1-math.exp(-a*Hf/2.0))/(a*Hf);#Mean heat transfer coefficient for the 4-m high freeboard from Eqn.(26)\n",
      "\n",
      "#OUTPUT\n",
      "print 'The required relationship is h(W/m**2 K) vs. zf(m) as in Fig.(9a)'\n",
      "print 'Height above the dense bubbling fluidized bed(m))',\n",
      "print '\\tHeat transfer coefficient(W/m**2 k)'\n",
      "i=0;\n",
      "while i<n:\n",
      "    print '%f'%zf[i],\n",
      "    print '\\t\\t\\t\\t\\t\\t%f'%h[i]\n",
      "    i=i+1;\n",
      "\n",
      "print '\\nThe mean heat transfer coefficient for the 4-m high freeboard =%d W/m**2 K'%hbar\n",
      "\n"
     ],
     "language": "python",
     "metadata": {},
     "outputs": [
      {
       "output_type": "stream",
       "stream": "stdout",
       "text": [
        "The required relationship is h(W/m**2 K) vs. zf(m) as in Fig.(9a)\n",
        "Height above the dense bubbling fluidized bed(m)) \tHeat transfer coefficient(W/m**2 k)\n",
        "0.000000 \t\t\t\t\t\t350.000000\n",
        "0.500000 \t\t\t\t\t\t302.263958\n",
        "1.000000 \t\t\t\t\t\t261.433158\n",
        "1.500000 \t\t\t\t\t\t226.508723\n",
        "2.000000 \t\t\t\t\t\t196.636271\n",
        "2.500000 \t\t\t\t\t\t171.085009\n",
        "3.000000 \t\t\t\t\t\t149.229857\n",
        "3.500000 \t\t\t\t\t\t130.536154\n",
        "4.000000 \t\t\t\t\t\t114.546583\n",
        "\n",
        "The mean heat transfer coefficient for the 4-m high freeboard =208 W/m**2 K\n"
       ]
      }
     ],
     "prompt_number": 4
    },
    {
     "cell_type": "code",
     "collapsed": false,
     "input": [],
     "language": "python",
     "metadata": {},
     "outputs": []
    }
   ],
   "metadata": {}
  }
 ]
}