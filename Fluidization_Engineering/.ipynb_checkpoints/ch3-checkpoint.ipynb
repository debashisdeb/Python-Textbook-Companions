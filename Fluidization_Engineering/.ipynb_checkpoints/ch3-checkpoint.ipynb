{
 "metadata": {
  "name": "",
  "signature": "sha256:c2d23a740208e3823c43d8afcfc0ef305894f28fcd5f9e9793f1f1c6fe8b25f1"
 },
 "nbformat": 3,
 "nbformat_minor": 0,
 "worksheets": [
  {
   "cells": [
    {
     "cell_type": "heading",
     "level": 1,
     "metadata": {},
     "source": [
      "Chapter 3 : Fluidization and Mapping of Regimes"
     ]
    },
    {
     "cell_type": "heading",
     "level": 2,
     "metadata": {},
     "source": [
      "Example 1, Page 68\n"
     ]
    },
    {
     "cell_type": "code",
     "collapsed": false,
     "input": [
      "\n",
      "weight = [0,60,150,270,330,360.0];        # Weight in grams for the oversized particles\n",
      "psize = [50,75,100,125,150,175];          #PSD in micrometers\n",
      "\n",
      "#CALCULATION\n",
      "l = len(psize); # To obtain the size of input array\n",
      "# Computation of sauter mean diameter for the given PSD\n",
      "i = 0;\n",
      "dpi = [0,0,0,0,0,0]\n",
      "weightf = [0,0,0,0,0,0]\n",
      "dp = [0,0,0,0,0,0]\n",
      "while i<l-1:\n",
      "        dpi[i]=(psize[i]+ psize[i+1])/2.0;\n",
      "        weightf[i]=(weight[i+1]-weight[i])/weight[5];    \n",
      "        dp[i]=weightf[i]/float(dpi[i]);    \n",
      "        i=i+1;\n",
      "\n",
      "dpbar=1/sum(dp);                        #Calculation of average particle daimeter Eq.(15)\n",
      "\n",
      "#OUTPUT\n",
      "print '\\n The Sauter mean diameter of the material with the given particle size distribution = %.0f micrometer'%dpbar\n"
     ],
     "language": "python",
     "metadata": {},
     "outputs": [
      {
       "output_type": "stream",
       "stream": "stdout",
       "text": [
        "\n",
        " The Sauter mean diameter of the material with the given particle size distribution = 98 micrometer\n"
       ]
      }
     ],
     "prompt_number": 1
    },
    {
     "cell_type": "heading",
     "level": 2,
     "metadata": {},
     "source": [
      "Example 2, Page 76\n"
     ]
    },
    {
     "cell_type": "code",
     "collapsed": false,
     "input": [
      "#Estimation of Minimum fluidizing velocity\n",
      "\n",
      "#INPUT\n",
      "ephsilon=0.55;     #Void fraction of bed\n",
      "rhog=0.0012;       #Density of gas in g/cc\n",
      "myu=.00018;        #Viscosity of gas in g/cm s\n",
      "dpbar=0.016;       #Mean diameter of solids in centimeter\n",
      "phis=0.67;         #Sphericity of solids\n",
      "rhos=2.6;          #Density of solids in g/cc\n",
      "g=980;             #Acceleration due to gravity in square cm/s**2\n",
      "\n",
      "#CALCULATION\n",
      "#Computation of umf using the simplified equation for small particles\n",
      "umf=((dpbar**2)*(rhos-rhog)*g*(ephsilon**3)*(phis**2))/(150*myu*(1-ephsilon));#Simplified equation to calculate minimum fluidizing velocity \n",
      "                                                                              #for small particles Eq.(21)\n",
      "Re=(dpbar*umf*rhog)/myu;#To calculate Reynolds number for particle\n",
      "\n",
      "#Computation of umf if neither void fraction of bed nor sphericity is known\n",
      "c1=28.7\n",
      "c2=0.0494;                      #Value of constants from Table 4, page 70\n",
      "umf1=(myu/(dpbar*rhog))*(((c1**2)+((c2*(dpbar**3)*rhog*(rhos-rhog)*g)/(myu**2)))**0.5-c1); #Equation to calculate minimum fluidizing velocity \n",
      "                                                                                           #for coarse particles Eq.(25)\n",
      "err=((umf-umf1)/umf)*100;       #Calculation of error from experimental value\n",
      "\n",
      "#OUTPUT\n",
      "if Re<20:\n",
      "\tprint 'The particle Reynolds no = %f'%Re\n",
      "\tprint 'The simplified equation used for calculating minimum fluidizing velocity is valid.'\n",
      "\n",
      "print 'The minimum fluidizing velocity by simplified equation for small particles = %.2fcm/s'%umf\n",
      "print 'The minimum fluidizing velocity by equation for coarse partilces = %.2fcm/s'%umf1\n",
      "print 'This value is %d percent below the experimentally reported value.'%err\n",
      "\n"
     ],
     "language": "python",
     "metadata": {},
     "outputs": [
      {
       "output_type": "stream",
       "stream": "stdout",
       "text": [
        "The particle Reynolds no = 0.427493\n",
        "The simplified equation used for calculating minimum fluidizing velocity is valid.\n",
        "The minimum fluidizing velocity by simplified equation for small particles = 4.01cm/s\n",
        "The minimum fluidizing velocity by equation for coarse partilces = 3.10cm/s\n",
        "This value is 22 percent below the experimentally reported value.\n"
       ]
      }
     ],
     "prompt_number": 2
    },
    {
     "cell_type": "heading",
     "level": 2,
     "metadata": {},
     "source": [
      "Example 3, Page 82\n"
     ]
    },
    {
     "cell_type": "code",
     "collapsed": false,
     "input": [
      "\n",
      "rhog=1.2e-3;    #Density of air in g/cc\n",
      "myu=1.8e-4      #Viscosity of air in g/cm s\n",
      "dpbar=0.016     #Mean diameter of solids in centimeter\n",
      "phis=0.67;      #Sphericity of solids\n",
      "rhos=2.6;       #Density of solids in g/cc\n",
      "g=980           #Acceleration due to gravity in square cm/s**2\n",
      "\n",
      "#CALCULATION\n",
      "dpstar=dpbar*((rhog*(rhos-rhog)*g)/myu**2)**(1/3.0);              #Calculation of dimensionless particle size Eq.(31)\n",
      "utstar=((18/(dpstar**2))+(2.335-(1.744*phis))/(dpstar**0.5))**-1; #Calculation of dimensionless gas velocity Eq.(33)\n",
      "ut=utstar*((myu*(rhos-rhog)*g)/rhog**2)**(1/3.0);                 #Calculation of terminal velocity of falling particles Eq.(32)\n",
      "\n",
      "\n",
      "#OUTPUT\n",
      "print 'The dimensionless particle size = %.2f'%dpstar\n",
      "print 'The dimensionless gas velocity = %.3f'%utstar\n",
      "print 'The terminal velocity of falling particles = %d cm/s'%ut\n",
      "\n"
     ],
     "language": "python",
     "metadata": {},
     "outputs": [
      {
       "output_type": "stream",
       "stream": "stdout",
       "text": [
        "The dimensionless particle size = 7.28\n",
        "The dimensionless gas velocity = 1.296\n",
        "The terminal velocity of falling particles = 88 cm/s\n"
       ]
      }
     ],
     "prompt_number": 3
    },
    {
     "cell_type": "heading",
     "level": 2,
     "metadata": {},
     "source": [
      "Example 4, Page 91\n"
     ]
    },
    {
     "cell_type": "code",
     "collapsed": false,
     "input": [
      "\n",
      "rhos=1.5;                 #Density of Solid in g/cc\n",
      "uo1=40; uo2=80;           #Superficial gas velocity in cm/s\n",
      "dp1=0.006; dp2=0.045;     #Particle size in centimeter\n",
      "rhog1=1.5E-3; rhog2=1E-3; #Density of gas in g/cc\n",
      "myu1=2E-4; myu2=2.5E-4;   #Viscosity of air in g/cm s\n",
      "g=980;                    #Acceleration due to gravity in square cm/s**2\n",
      "\n",
      "#CALCULATION\n",
      "#for smaller particles\n",
      "dpstar1=dp1*((rhog1*(rhos-rhog1)*g)/myu1**2)**(1/3.0);     #Calculation of dimensionless particle diamter Eq.(31)\n",
      "uostar1=uo1*((rhog1**2)/((myu1)*(rhos-rhog1)*g))**(1/3.0);\n",
      "uostar2=uo2*((rhog1**2)/((myu1)*(rhos-rhog1)*g))**(1/3.0); #Calculation of dimensionless superficial gas velocity Eq.(32)\n",
      "\n",
      "#for larger particles \n",
      "dpstar2=dp2*((rhog2*(rhos-rhog2)*g)/myu2**2)**(1/3.0);     #Calculation of dimensionless particle diamter Eq.(31)\n",
      "uostar3=uo1*((rhog2**2)/((myu2)*(rhos-rhog2)*g))**(1/3.0);\n",
      "uostar4=uo2*((rhog2**2)/((myu2)*(rhos-rhog2)*g))**(1/3.0); #Calculation of dimensionless superficial gas velocity Eq.(32)\n",
      "\n",
      "\n",
      "#OUTPUT\n",
      "print 'For particle of size %.3f centimeter'%dp1\n",
      "print 'The dimensionless particle diameter = %.2f'%dpstar1\n",
      "print 'The dimensionless superficial gas velocity = %.4fcm/s(for superficial gas velocity of %dcm/s)'%(uostar1,uo1)\n",
      "print 'The dimensionless superficial gas velocity = %.3fcm/s(for superficial gas velocity of %dcm/s)'%(uostar2,uo2)\n",
      "print 'From Fig.16(page 89)comparing u*=%.4f vs dp*=%.2f'%(uostar1,dpstar1)\n",
      "print 'For Superficial gas velocity =%d Mode of Fluidization:Onset of turbulent fluidization in an ordinary bubbling bed'%(uo1)\n",
      "print 'From Fig.16(page 89)comparing u* =%.3f vs dp* =%f'%(uostar2,dpstar1)\n",
      "print 'For Superficial gas velocity =%f Mode of Fluidization:Fast fluidization(requires a circulating solid system)'%(uo2)\n",
      "print 'For particle of size %f centimeter'%(dp2)\n",
      "print 'The dimensionless particle diameter = %f'%(dpstar2)\n",
      "print 'The dimensionless superficial gas velocity = %fcm/s(for superficial gas velocity of %fcm/s)'%(uostar3,uo1)\n",
      "print 'The dimensionless superficial gas velocity = %fcm/s(for superficial gas velocity of %fcm/s)'%(uostar4,uo2)\n",
      "print 'From Fig.16(page 89)comparing u*=%f vs dp*=%f'%(uostar3,dpstar2)\n",
      "print 'For Superficial gas velocity =%f Mode of Fluidization:Bublling Fluidization'%(uo1)\n",
      "print 'From Fig.16(page 89)comparing u* =%f vs dp* =%f'%(uostar4,dpstar2)\n",
      "print 'For Superficial gas velocity =%f Mode of Fluidization:Bubbling Fluidization'%(uo2)\n"
     ],
     "language": "python",
     "metadata": {},
     "outputs": [
      {
       "output_type": "stream",
       "stream": "stdout",
       "text": [
        "For particle of size 0.006 centimeter\n",
        "The dimensionless particle diameter = 2.28\n",
        "The dimensionless superficial gas velocity = 0.7885cm/s(for superficial gas velocity of 40cm/s)\n",
        "The dimensionless superficial gas velocity = 1.577cm/s(for superficial gas velocity of 80cm/s)\n",
        "From Fig.16(page 89)comparing u*=0.7885 vs dp*=2.28\n",
        "For Superficial gas velocity =40 Mode of Fluidization:Onset of turbulent fluidization in an ordinary bubbling bed\n",
        "From Fig.16(page 89)comparing u* =1.577 vs dp* =2.282737\n",
        "For Superficial gas velocity =80.000000 Mode of Fluidization:Fast fluidization(requires a circulating solid system)\n",
        "For particle of size 0.045000 centimeter\n",
        "The dimensionless particle diameter = 12.890262\n",
        "The dimensionless superficial gas velocity = 0.558561cm/s(for superficial gas velocity of 40.000000cm/s)\n",
        "The dimensionless superficial gas velocity = 1.117122cm/s(for superficial gas velocity of 80.000000cm/s)\n",
        "From Fig.16(page 89)comparing u*=0.558561 vs dp*=12.890262\n",
        "For Superficial gas velocity =40.000000 Mode of Fluidization:Bublling Fluidization\n",
        "From Fig.16(page 89)comparing u* =1.117122 vs dp* =12.890262\n",
        "For Superficial gas velocity =80.000000 Mode of Fluidization:Bubbling Fluidization\n"
       ]
      }
     ],
     "prompt_number": 4
    },
    {
     "cell_type": "code",
     "collapsed": false,
     "input": [],
     "language": "python",
     "metadata": {},
     "outputs": []
    }
   ],
   "metadata": {}
  }
 ]
}