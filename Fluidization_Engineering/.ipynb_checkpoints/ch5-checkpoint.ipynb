{
 "metadata": {
  "name": "",
  "signature": "sha256:502044f71f0f4f73ada9ff3f4a68fa509018810bcbdaf16eaa17d381758e9755"
 },
 "nbformat": 3,
 "nbformat_minor": 0,
 "worksheets": [
  {
   "cells": [
    {
     "cell_type": "heading",
     "level": 1,
     "metadata": {},
     "source": [
      "Chapter 5 : Bubbles in Dense Beds"
     ]
    },
    {
     "cell_type": "heading",
     "level": 3,
     "metadata": {},
     "source": [
      "Example 1, Page 126\n"
     ]
    },
    {
     "cell_type": "code",
     "collapsed": false,
     "input": [
      "\n",
      "dt=60.0;        #ID of tube in cm \n",
      "dp=300;         #Size of particles of bed in micrometers\n",
      "umf=3;          #Velocity at minimum fluidization condition in cm/s\n",
      "ephsilonmf=0.5; #Void fraction of bed at minimum fluidization condition\n",
      "db=5;           #Diameter of bubble in cm\n",
      "g=980;          #Acceleration due to gravity in cm/s**2\n",
      "\n",
      "#CALCULATION\n",
      "#Computation of rise velocity of bubble\n",
      "if (db/dt)<0.125:\n",
      "    ubr=(0.711*((g*db)**0.5));#Rise velocity by Eqn.(3)\n",
      "elif (db/dt)<0.6:\n",
      "    ubr=(0.711*((g*db)**0.5))*1.2*exp(-1.49*(db/dt));#Rise velocity by Eqn.(4)   \n",
      "\n",
      "#Computation of cloud thickness\n",
      "Rb=db/2.0;          #Radius of bubble\n",
      "uf=umf/ephsilonmf;  #Velocity of emulsion gas\n",
      "Rc=Rb*((ubr+(2*uf))/(ubr-uf))**(1/3.0);#Radius of cloud by Eqn.(6)\n",
      "\n",
      "#OUTPUT\n",
      "print 'The rise velocity of the bubble=%.1f cm/s'%ubr\n",
      "print 'The cloud thickness=%.2f cm'%(Rc-Rb)\n",
      "print 'From Fig.8(page 124)comparing fw vs dp, for dp = %.0f micrometer, wake fraction = 0.24'%dp\n",
      "\n"
     ],
     "language": "python",
     "metadata": {},
     "outputs": [
      {
       "output_type": "stream",
       "stream": "stdout",
       "text": [
        "The rise velocity of the bubble=49.8 cm/s\n",
        "The cloud thickness=0.30 cm\n",
        "From Fig.8(page 124)comparing fw vs dp, for dp = 300 micrometer, wake fraction = 0.24\n"
       ]
      }
     ],
     "prompt_number": 1
    },
    {
     "cell_type": "heading",
     "level": 3,
     "metadata": {},
     "source": [
      "Example 2, Page 132\n"
     ]
    },
    {
     "cell_type": "code",
     "collapsed": false,
     "input": [
      "\n",
      "\n",
      "import math\n",
      "\n",
      "#Variable declaration\n",
      "uo=15;     #Superificial gas velocity in cm/s\n",
      "umf=1;     #Velocity at minimum fluidization condition in cm/s\n",
      "lor=2.0;   #Pitch of perforated plate in cm\n",
      "g=980;     #Acceleration due to gravity in cm/s**2\n",
      "#CALCULATION\n",
      "#Case(a) For porous plate\n",
      "dbo1=(2.78/g)*(uo-umf)**2;#Initial bubble size using Eqn.(19)\n",
      "\n",
      "#Case(b) For Perforated plate\n",
      "Nor=(2/math.sqrt(3))*(1/lor)**2;#Number of orifices in cm**-2\n",
      "dbo2=(1.30/(g**0.2))*((uo-umf)/Nor)**0.4;#Initial bubble size using Eqn.(15) assuming inital bubble size is smaller than hole spacing\n",
      "\n",
      "#OUTPUT\n",
      "print 'Case(a) For porous plate'\n",
      "print '\\tInitial bubble size=%.2fcm'%dbo1\n",
      "print 'Case(b) For Perforated plate'\n",
      "print '\\tInitial bubble size=%.2fcm'%dbo2\n",
      "print '\\tSince %f<%f, the equation used is correct.'%(dbo2,lor)"
     ],
     "language": "python",
     "metadata": {},
     "outputs": [
      {
       "output_type": "stream",
       "stream": "stdout",
       "text": [
        "Case(a) For porous plate\n",
        "\tInitial bubble size=0.56cm\n",
        "Case(b) For Perforated plate\n",
        "\tInitial bubble size=1.55cm\n",
        "\tSince 1.548765<2.000000, the equation used is correct.\n"
       ]
      }
     ],
     "prompt_number": 2
    },
    {
     "cell_type": "code",
     "collapsed": false,
     "input": [],
     "language": "python",
     "metadata": {},
     "outputs": []
    }
   ],
   "metadata": {}
  }
 ]
}