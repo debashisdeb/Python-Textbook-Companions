{
 "metadata": {
  "name": "",
  "signature": "sha256:8eb00dc3983a05f0d88bd9a81e8b022860563cdbf1df8dacf4157210feb1c3ce"
 },
 "nbformat": 3,
 "nbformat_minor": 0,
 "worksheets": [
  {
   "cells": [
    {
     "cell_type": "heading",
     "level": 1,
     "metadata": {},
     "source": [
      "Chapter 7  : Entrainment and Elutriation  from Fluidized Beds"
     ]
    },
    {
     "cell_type": "heading",
     "level": 3,
     "metadata": {},
     "source": [
      "Example 1, Page 179"
     ]
    },
    {
     "cell_type": "code",
     "collapsed": false,
     "input": [
      "\n",
      "\n",
      "rhog=5.51;  #Density of gas in kg/m**3\n",
      "rhos=1200;  #Density of solid in kg/m**3\n",
      "dpbar=130;  #Average size of particles in micrometer\n",
      "uo=0.61;    #Superficial gas velocity in m/s\n",
      "g=9.80;     #Acceleration due to gravity in m/s**2\n",
      "\n",
      "#CALCULATION\n",
      "#Assuming that freeboard in higher than TDH, computation of entrainment rate by Zenz & Weil's method\n",
      "x=(uo**2)/(g*(dpbar*10**-6)*rhos**2);#Calculation of value of x-axis for Fig.(6), page 175\n",
      "y=1.2;                               # Value of y-axis from Fig.(6)\n",
      "Gsstar=y*rhog*uo;                    #Computation of rate of entrainment\n",
      "\n",
      "#OUTPUT\n",
      "print '\\nRate of entrainment=%.2fkg/m**2s'%Gsstar\n",
      "\n"
     ],
     "language": "python",
     "metadata": {},
     "outputs": [
      {
       "output_type": "stream",
       "stream": "stdout",
       "text": [
        "\n",
        "Rate of entrainment=4.03kg/m**2s\n"
       ]
      }
     ],
     "prompt_number": 1
    },
    {
     "cell_type": "heading",
     "level": 3,
     "metadata": {},
     "source": [
      "Example 2, Page 180\n"
     ]
    },
    {
     "cell_type": "code",
     "collapsed": false,
     "input": [
      "\n",
      "x=0.2;          #Fraction of fines in the bed\n",
      "Gsstar=4.033320 #Rate of entrainment in kg/m**2s(from Exa.1)\n",
      "\n",
      "#CALCULATION\n",
      "Gsstar1=x*Gsstar;#Rate of entrainment by Eqn.(3)\n",
      "\n",
      "#OUTPUT\n",
      "print '\\nRate of entrainment=%.3fkg/m**2s'%Gsstar1\n"
     ],
     "language": "python",
     "metadata": {},
     "outputs": [
      {
       "output_type": "stream",
       "stream": "stdout",
       "text": [
        "\n",
        "Rate of entrainment=0.807kg/m**2s\n"
       ]
      }
     ],
     "prompt_number": 2
    },
    {
     "cell_type": "heading",
     "level": 3,
     "metadata": {},
     "source": [
      "Example 3, Page 181\n"
     ]
    },
    {
     "cell_type": "code",
     "collapsed": false,
     "input": [
      "\n",
      "rhog=5.51;                    #Density of gas in kg/m**3\n",
      "rhos=1200;                    #Density of solid in kg/m**3\n",
      "uo=0.61;                      #Superficial gas velocity in m/s\n",
      "g=9.80;                       #Acceleration due to gravity in m/s**2\n",
      "dp=[10,30,50,70,90,110,130];  #Diameter of particle in micrometer\n",
      "p=[0.,0.0110,0.0179,0.0130,0.0058,0.0020,0.];\n",
      "pi=3.142857;\n",
      "dt=6;\n",
      "\n",
      "#CALCULATION\n",
      "n=len(dp);\n",
      "i=0;\n",
      "x = [0,0,0,0,0,0,0]\n",
      "while i<n:\n",
      "    x[i]=(uo**2)/(g*(dp[i]*10**-6)*rhos**2);#Computation of value of x-axis for Fig.(6), page 175)\n",
      "    i=i+1;\n",
      "\n",
      "y=[40,12,6,3.2,2.,1.3,1];#Value of y-axis corresponding to each value of x-axis\n",
      "y1 = []\n",
      "for i in range(n):\n",
      "    y1.append(y[i]*p[i]);\n",
      "i=0;\n",
      "k=0;\n",
      "\n",
      "while i<n-2:\n",
      "    y1[i]=(y[i]*p[i]);\n",
      "    k=k+((0.5)*(dp[i+1]-dp[i])*(y1[i+1]+y1[i]));#Integration using Trapezoidal rule\n",
      "    i=i+1;\n",
      "rhosbar=k*rhog;#Computation of solid loading\n",
      "te=(pi/4)*(dt**2)*rhosbar*uo;#Computation of total entrainment\n",
      "\n",
      "#OUTPUT\n",
      "print '\\nSolid loading =%.1fkg/m**3'%rhosbar\n",
      "print '\\nTotal Entrainment =%.0fkg/s'%te\n"
     ],
     "language": "python",
     "metadata": {},
     "outputs": [
      {
       "output_type": "stream",
       "stream": "stdout",
       "text": [
        "\n",
        "Solid loading =32.4kg/m**3\n",
        "\n",
        "Total Entrainment =559kg/s\n"
       ]
      }
     ],
     "prompt_number": 3
    },
    {
     "cell_type": "heading",
     "level": 3,
     "metadata": {},
     "source": [
      "Example 4, Page 181\n"
     ]
    },
    {
     "cell_type": "code",
     "collapsed": false,
     "input": [
      "\n",
      "dp=[40,60,80,100,120]; #Diameter of particle in micrometer\n",
      "uo=0.381;              #Superficial gas velocity in m/s\n",
      "\n",
      "#CALCULATION\n",
      "Gs=0.9;#Rate of entrainment in kg/m**2 s from Fig.3(a)\n",
      "pb = [0.45,1.00,1.25,1.00,0.60];#Size distribution for bed particles from Fig.3(b)\n",
      "pe=[1.20,2.00,1.25,0.45,0.10];  #Size distribution for entrained particles from Fig.3(b)\n",
      "n=len(dp);\n",
      "for i in range(n):\n",
      "    pb[i] = pb[i]/100.\n",
      "    pe[i] = pe[i]/100.\n",
      "i=0;\n",
      "ki = []\n",
      "while i<n:\n",
      "    ki.append((Gs*pe[i])/pb[i]);#Calculation of ki* using Eqn.(13)\n",
      "    i=i+1;\n",
      "\n",
      "#OUTPUT\n",
      "print '\\ndpi(micrometer)',\n",
      "print '\\t100pb(dpi)(micrometer**-1)',\n",
      "print '\\t100pe(dpi)(micrometer**-1)',\n",
      "print '\\tki*(kg/m**2 s)'\n",
      "\n",
      "j=0;\n",
      "while j<n:\n",
      "    print '%f'%dp[j],\n",
      "    print '\\t%f'%(100*pb[j]),\n",
      "    print '\\t\\t\\t%f'%(100*pe[j]),\n",
      "    print '\\t\\t\\t%f'%ki[j]\n",
      "    j=j+1;\n",
      "\n"
     ],
     "language": "python",
     "metadata": {},
     "outputs": [
      {
       "output_type": "stream",
       "stream": "stdout",
       "text": [
        "\n",
        "dpi(micrometer) \t100pb(dpi)(micrometer**-1) \t100pe(dpi)(micrometer**-1) \tki*(kg/m**2 s)\n",
        "40.000000 \t0.450000 \t\t\t1.200000 \t\t\t2.400000\n",
        "60.000000 \t1.000000 \t\t\t2.000000 \t\t\t1.800000\n",
        "80.000000 \t1.250000 \t\t\t1.250000 \t\t\t0.900000\n",
        "100.000000 \t1.000000 \t\t\t0.450000 \t\t\t0.405000\n",
        "120.000000 \t0.600000 \t\t\t0.100000 \t\t\t0.150000\n"
       ]
      }
     ],
     "prompt_number": 4
    },
    {
     "cell_type": "heading",
     "level": 3,
     "metadata": {},
     "source": [
      "Example 5, Page 181\n"
     ]
    },
    {
     "cell_type": "code",
     "collapsed": false,
     "input": [
      "\n",
      "\n",
      "import math\n",
      "\n",
      "#Variable declaration\n",
      "rhog=1.217;                                   #Density of gas in kg/m**3\n",
      "myu=1.8E-5;                                   #Viscosity of gas in kg/m s\n",
      "umf=0.11;                                     #Velocity at minimum fluidization condition in m/s\n",
      "rhos=2000.0;                                  #Density of solid in kg/m**3\n",
      "uo=1.0;                                       #Superficial gas velocity in m/s\n",
      "g=9.80;                                       #Acceleration due to gravity in m/s**2\n",
      "dp=[30,40,50,60,80,100,120];                  #Diameter of particle in micrometer\n",
      "uti=[0.066,0.115,0.175,0.240,0.385,0.555,1.0];#Terminal velocity of particles in m/s\n",
      "\n",
      "#CALCULATION\n",
      "n=len(dp);\n",
      "i=0;\n",
      "Ret = []\n",
      "kistar1 = []\n",
      "kistar2 = []\n",
      "kistar3 = []\n",
      "kistar4 = []\n",
      "kistar5 = []\n",
      "kistar6 = []\n",
      "x1 = []\n",
      "x2 = []\n",
      "\n",
      "while i<n:\n",
      "    #Using Yagi & Aochi's correlation\n",
      "    Ret.append((rhog*(uti[i])*dp[i]*10**-6)/myu)\n",
      "    a =((myu*((uo-uti[i])**2))/(g*(dp[i]*10**-6)**2))*(0.0015*(Ret[i]**0.5)+(0.01*(Ret[i]**1.2)));\n",
      "    kistar1.append(a)\n",
      "    #Using Wen & Hasinger's correlation\n",
      "    a=(((1.52E-5)*((uo-uti[i])**2)*rhog)/(g*dp[i]*10**-6)**0.5)*(Ret[i]**0.725)*((rhos-rhog)/rhog)**1.15;\n",
      "    kistar2.append(a)\n",
      "    #Using Merrick & Highley's correlation\n",
      "    a=uo*rhog*(0.0001+130*math.exp(-10.4*((uti[i]/uo)**0.5)*((umf/(uo-umf))**0.25)));\n",
      "    kistar3.append(a)\n",
      "    #Using Geldart's correlation\n",
      "    a=23.7*uo*rhog*math.exp(-5.4*(uti[i]/uo));\n",
      "    kistar4.append(a)\n",
      "    #Using Zenz & Weil's procedure\n",
      "    a=(uo**2)/(g*(dp[i]*10.0**-6)*rhos**2);#Computation of value of x-axis for Fig.(6), page 175)\n",
      "    x1.append(a)\n",
      "    y1=[12.2,8.6,6.4,4.9,2.75,1.8,1.2];#Value of y-axis corresponding to each value of x-axis\n",
      "    kistar5.append(y1[i]*rhog*uo)\n",
      "    #Using Gugnoni & Zenz's procedure\n",
      "    a=(uo-uti[i])/((g*dp[i]*10**-6)**0.5);#Computation of value of x-axis for Fig.(6), page 175)\n",
      "    x2.append(a)\n",
      "    y=[5.8,5.4,3.2,2.8,1.3,0.6,0];#Value of y-axis corresponding to each value of x-axis\n",
      "    kistar6.append(y[i]*rhog*uo)\n",
      "    i=i+1;\n",
      "\n",
      "i=0;\n",
      "print 'dp(micrometer)',\n",
      "print '\\tYagi & Aochi',\n",
      "print '\\tWen & Hashinger',\n",
      "print '\\t\\tMerrick & Highley',\n",
      "print '\\tGeldart et al.',\n",
      "print '\\t\\tZenz & Well',\n",
      "print '\\t\\tGugnoni & Zenz'\n",
      "while i<n:\n",
      "    print '\\n%f'%dp[i],\n",
      "    print '\\t%f'%kistar1[i],\n",
      "    print '\\t%f'%kistar2[i],\n",
      "    print '\\t\\t%f'%kistar3[i],\n",
      "    print '\\t\\t%f'%kistar4[i],\n",
      "    print '\\t\\t%f'%kistar5[i],\n",
      "    print '\\t\\t%f'%kistar6[i],\n",
      "    i=i+1;\n",
      "\n",
      "#Note: There is huge deviation of the calculated answer and the answer given in the textbook for the correlation of Merrick & Highley.  There is a contradiction in the correlation used in the problem and the one given in page 179. \n",
      "#We tried to retrieve the original paper i.e. D.Merrick and J.Highley, AICHE J., 6, 220(1960). But the effort was not fruitful.\n"
     ],
     "language": "python",
     "metadata": {},
     "outputs": [
      {
       "output_type": "stream",
       "stream": "stdout",
       "text": [
        "dp(micrometer) \tYagi & Aochi \tWen & Hashinger \t\tMerrick & Highley \tGeldart et al. \t\tZenz & Well \t\tGugnoni & Zenz\n",
        "\n",
        "30.000000 \t2.571188 \t1.092184 \t\t32.451340 \t\t20.195582 \t\t14.847400 \t\t7.058600 \n",
        "40.000000 \t2.965958 \t1.564720 \t\t19.546385 \t\t15.500369 \t\t10.466200 \t\t6.571800 \n",
        "50.000000 \t3.240381 \t1.938471 \t\t11.993076 \t\t11.210646 \t\t7.788800 \t\t3.894400 \n",
        "60.000000 \t3.289995 \t2.154988 \t\t7.713841 \t\t7.892113 \t\t5.963300 \t\t3.407600 \n",
        "80.000000 \t2.852535 \t2.120728 \t\t3.447977 \t\t3.606955 \t\t3.346750 \t\t1.582100 \n",
        "100.000000 \t1.883718 \t1.521994 \t\t1.600171 \t\t1.440318 \t\t2.190600 \t\t0.730200 \n",
        "120.000000 \t0.000000 \t0.000000 \t\t0.332158 \t\t0.130271 \t\t1.460400 \t\t0.000000\n"
       ]
      }
     ],
     "prompt_number": 5
    },
    {
     "cell_type": "heading",
     "level": 3,
     "metadata": {},
     "source": [
      "Example 6, Page 190\n"
     ]
    },
    {
     "cell_type": "code",
     "collapsed": false,
     "input": [
      "\n",
      "import math\n",
      "\n",
      "#Variable declaration\n",
      "dpbar=60.0;   #Average size of particles in micrometer\n",
      "rhog=1.3;     #Density of gas in kg/m**3\n",
      "rhos=1500.0;  #Density of solid in kg/m**3\n",
      "umf=0.003;    #Velocity at minimum fluidization condition in m/s\n",
      "uo=0.503;     #Superficial gas velocity in m/s\n",
      "g=9.80;       #Acceleration due to gravity in m/s**2\n",
      "Hf=2.0;       #Height at which the cyclone inlet is to be located in m\n",
      "\n",
      "#CALCULATION\n",
      "y=(uo**2)/(g*(dpbar*10**-3)*rhos**2);#Calculation of value of y-axis for Fig.(6), page 175\n",
      "x=1;#Value of x-axis from Fig.(6), page 175\n",
      "Gsstar=x*rhog*uo;#Computation of rate of entrainment\n",
      "Gsuo=5.0;#Ejection rate pf particles in kg/m**2 s from Fig.(11), page 188\n",
      "a=0.72/uo;#From Fig.(12), page 189\n",
      "Gs=Gsstar+(Gsuo-Gsstar)*math.exp(-a*Hf);\n",
      "p=((Gs-Gsstar)/Gsstar)*100.0;\n",
      "\n",
      "#OUTPUT\n",
      "print '\\nRate of entrainment from short bed=%.3fkg/m**2s'%Gs\n",
      "print '\\nThis entrainment is %f percent higher than it would be if the gas exit were at the TDH'%p\n"
     ],
     "language": "python",
     "metadata": {},
     "outputs": [
      {
       "output_type": "stream",
       "stream": "stdout",
       "text": [
        "\n",
        "Rate of entrainment from short bed=0.902kg/m**2s\n",
        "\n",
        "This entrainment is 37.955972 percent higher than it would be if the gas exit were at the TDH\n"
       ]
      }
     ],
     "prompt_number": 1
    },
    {
     "cell_type": "code",
     "collapsed": false,
     "input": [],
     "language": "python",
     "metadata": {},
     "outputs": []
    }
   ],
   "metadata": {}
  }
 ]
}