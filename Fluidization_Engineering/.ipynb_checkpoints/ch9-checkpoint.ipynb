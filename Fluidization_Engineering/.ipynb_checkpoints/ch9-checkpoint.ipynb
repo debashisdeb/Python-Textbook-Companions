{
 "metadata": {
  "name": "",
  "signature": "sha256:52ff353152f32e41c2e832a90f993fbd3f11b7f2a5fbb5e4f20eb7599a61f880"
 },
 "nbformat": 3,
 "nbformat_minor": 0,
 "worksheets": [
  {
   "cells": [
    {
     "cell_type": "heading",
     "level": 1,
     "metadata": {},
     "source": [
      "Chapter 9 :  Solid Movement Mixing  Segregation and Staging"
     ]
    },
    {
     "cell_type": "heading",
     "level": 3,
     "metadata": {},
     "source": [
      "Example 1, Page 218\n"
     ]
    },
    {
     "cell_type": "code",
     "collapsed": false,
     "input": [
      "\n",
      "umf=0.015;                 #Velocity at minimum fluidization condition in m/s\n",
      "ephsilonmf=0.5;            #Void fraction at minimum fluidization condition\n",
      "uo=0.1;                    #Superficial gas velocity in m/s\n",
      "delta=0.2;                 #Bed fraction in bubbles\n",
      "db=0.06;                   #Equilibrium bubble size in m\n",
      "dt=[0.1,0.3,0.6,1.5];      #Various vessel sizes in m\n",
      "ub=[0.4,0.75,0.85,1.1];    #Bubble velocity in m/s\n",
      "Dsv=[0.03,0.11,0.14,0.23]; #Reported values of vertical dispersion coefficient\n",
      "\n",
      "#CALCULATION\n",
      "n=len(ub);\n",
      "i=0;\n",
      "fw1=2;#Wake fraction from Hamilton et al.\n",
      "fw2=0.32;#Wake fraction from Fig.(5.8)\n",
      "fw=(fw1+fw2)*0.5;#Average value of wake fraction\n",
      "Dsv1 = []\n",
      "Dsv2 = []\n",
      "while i<n:\n",
      "    Dsv1.append(12*((uo*100)**0.5)*((dt[i]*100)**0.9));#Vertical distribution coefficient from Eqn.(3)\n",
      "    Dsv2.append((fw**2*ephsilonmf*delta*db*ub[i]**2)/(3*umf));#Vertical distribution coefficient from Eqn.(12)\n",
      "    i=i+1;\n",
      "\n",
      "print Dsv1\n",
      "\n",
      "#OUTPUT\n",
      "print '\\t\\tVertical dispersion coefficient(m**2/s)'\n",
      "print 'Vessel Size(m)',\n",
      "print '\\tFrom Experiment',\n",
      "print '\\tFrom Eqn.(3)',\n",
      "print '\\tFrom Eqn.(12)'\n",
      "i=0;\n",
      "while i<n:\n",
      "    print '%.2f'%dt[i],\n",
      "    print '\\t%.3f'%Dsv[i],\n",
      "    print '\\t%.2f'%(Dsv1[i]/10**4),\n",
      "    print '\\t%.2f'%Dsv2[i]\n",
      "    i=i+1;   \n",
      "\n"
     ],
     "language": "python",
     "metadata": {},
     "outputs": [
      {
       "output_type": "stream",
       "stream": "stdout",
       "text": [
        "[301.42637178114967, 810.1965234492834, 1511.8801720132121, 3448.7632274996104]\n",
        "\t\tVertical dispersion coefficient(m**2/s)\n",
        "Vessel Size(m) \tFrom Experiment \tFrom Eqn.(3) \tFrom Eqn.(12)\n",
        "0.10 \t0.030 \t0.03 \t0.03\n",
        "0.30 \t0.110 \t0.08 \t0.10\n",
        "0.60 \t0.140 \t0.15 \t0.13\n",
        "1.50 \t0.230 \t0.34 \t0.22\n"
       ]
      }
     ],
     "prompt_number": 2
    },
    {
     "cell_type": "heading",
     "level": 3,
     "metadata": {},
     "source": [
      "Example 2, Page 222\n"
     ]
    },
    {
     "cell_type": "code",
     "collapsed": false,
     "input": [
      "\n",
      "Lmf=0.83;                          #Length of bed at minimum fluidization condition in m\n",
      "dp=450.0;                          #Average particle size in micrometer\n",
      "ephsilonmf=0.42;                   #Void fraction at minimum fluidization condition\n",
      "umf=0.17;                          #Velocity at minimum fluidization condition in m/s\n",
      "uo=[0.37,0.47,0.57,0.67];          #Superficial gas velocity in m/s\n",
      "Dsh=[0.0012,0.0018,0.0021,0.0025]; #Horizontal Drift Coefficient from Experiment in m**2/s\n",
      "db=[0.10,0.14];                    #Equilibrium bubble size in m\n",
      "g=9.81;                            #Acceleration due to gravity in m/s**2\n",
      "\n",
      "\n",
      "#CALCULATION\n",
      "n=len(uo);\n",
      "m=len(db);\n",
      "k=0;\n",
      "alpha=0.77;#Since we are not dealing with Geldart A or AB solids\n",
      "uf=umf/ephsilonmf;\n",
      "ubr = []\n",
      "ub = []\n",
      "delta = []\n",
      "Dshc = []\n",
      "for j in range(m):\n",
      "    for i in range(n):\n",
      "        ubr.append(0.711*(db[j]*g)**0.5);#Rise velocity of a single bubble in m/s\n",
      "        ub.append(uo[i]-umf+ubr[k]);#Rise velocity of bubbles in a bubbling bed\n",
      "        delta.append((uo[i]-umf)/(ub[k]+umf));#Bed fraction in bubbles\n",
      "        if ubr[i]>uf:\n",
      "            Dshc.append((3/16.0)*(delta[k]/(1-delta[k]))*((alpha**2*db[j]*ubr[k]*((((ubr[k]+2*uf)/(ubr[k]-uf))**(1.0/3))-1))));\n",
      "                #Horizontal Distribution coeff. from Eqn.(14)\n",
      "        else:\n",
      "            Dsh.append((3.0/16)*(delta/(1-delta))*(alpha**2*umf*db/ephsilonmf))\n",
      "                #Horizontal Distribution coeff. from Eqn.(15)\n",
      "        Dshc.append((3/16.0)*(delta[k]/(1-delta[k]))*((alpha**2*db[j]*ubr[k]*((((ubr[k]+2*uf)/(ubr[k]-uf))**(1/3.0))-1))));#Horizontal Distribution coeff. from Eqn.(14)\n",
      "        k=k+1;\n",
      "i=0;\n",
      "j=0;\n",
      "k=0;\n",
      "while k<m*n:\n",
      "    print 'Snce we do not have ub=%fm/s>>uf=%fm/s we use Eqn.(14).'%(ub[k],uf)\n",
      "    print 'Gas Velocity(m/s)'\n",
      "    print '\\tHorizontal Drift Coefficient Calculated(m**2/s)'\n",
      "    print '\\tHorizontal Drift Coefficient from Experiment(m**2/s)'\n",
      "    while j<m:\n",
      "        print 'db=%fm'%db[j]\n",
      "        while i<n:\n",
      "            print '%f'%uo[i],\n",
      "            print '\\t\\t%f'%Dshc[k],\n",
      "            print '\\t\\t\\t\\t\\t%f'%Dsh[i]\n",
      "            i=i+1;   \n",
      "            k=k+1;\n",
      "        i=0;\n",
      "        j=j+1;\n",
      "\n"
     ],
     "language": "python",
     "metadata": {},
     "outputs": [
      {
       "output_type": "stream",
       "stream": "stdout",
       "text": [
        "Snce we do not have ub=0.904213m/s>>uf=0.404762m/s we use Eqn.(14).\n",
        "Gas Velocity(m/s)\n",
        "\tHorizontal Drift Coefficient Calculated(m**2/s)\n",
        "\tHorizontal Drift Coefficient from Experiment(m**2/s)\n",
        "db=0.100000m\n",
        "0.370000 \t\t0.001283 \t\t\t\t\t0.001200\n",
        "0.470000 \t\t0.001283 \t\t\t\t\t0.001800\n",
        "0.570000 \t\t0.001924 \t\t\t\t\t0.002100\n",
        "0.670000 \t\t0.001924 \t\t\t\t\t0.002500\n",
        "db=0.140000m\n",
        "0.370000 \t\t0.002566 \t\t\t\t\t0.001200\n",
        "0.470000 \t\t0.002566 \t\t\t\t\t0.001800\n",
        "0.570000 \t\t0.003207 \t\t\t\t\t0.002100\n",
        "0.670000 \t\t0.003207 \t\t\t\t\t0.002500\n"
       ]
      }
     ],
     "prompt_number": 3
    },
    {
     "cell_type": "heading",
     "level": 3,
     "metadata": {},
     "source": [
      "Example 3, Page 232\n"
     ]
    },
    {
     "cell_type": "code",
     "collapsed": false,
     "input": [
      "\n",
      "\n",
      "import math\n",
      "\n",
      "#Variable declaration\n",
      "Gsup=1.5;               #Solid interchange rate in kg/m**2plate s\n",
      "dor=19.1;               #Orifice diameter in mm\n",
      "dp=210;                 #Particle size in micrometer\n",
      "uo=0.4;                 #Superficial gas velocity in m/s\n",
      "fopen=[0.12,0.17,0.26]; #Open area fraction \n",
      "pi=3.14;\n",
      "\n",
      "#CALCULATION\n",
      "n=len(fopen);\n",
      "uor = []\n",
      "ls1 = []\n",
      "i=0\n",
      "while i<n:\n",
      "    uor.append(uo/fopen[i]);  #Gas velocity through the orifice\n",
      "    ls1.append(Gsup/fopen[i]);#Flux of solids through the holes\n",
      "    i=i+1;\n",
      "\n",
      "ls2=[12,20,25];                #Flux of solids through holes from Fig.13(c) for different uor values\n",
      "fopen1=0.12;                   #Open area fraction which gives reasonable fit\n",
      "lor=math.sqrt(((math.pi/4)*dor**2)/fopen1);#Orifice spacing\n",
      "\n",
      "#OUTPUT\n",
      "print 'fopen',\n",
      "print '\\t\\tuor(m/s)',\n",
      "print '\\tls from Eqn.(18)',\n",
      "print '\\tls from Fig.13(c)'\n",
      "i=0;\n",
      "while i<n:\n",
      "    print '%f'%fopen[i],\n",
      "    print '\\t%f'%uor[i],\n",
      "    print '\\t%f'%ls1[i],\n",
      "    print '\\t\\t%f'%ls2[i]\n",
      "    i=i+1;   \n",
      "\n",
      "print '\\nFor square pitch, the orifice spacing should be %fmm'%lor\n"
     ],
     "language": "python",
     "metadata": {},
     "outputs": [
      {
       "output_type": "stream",
       "stream": "stdout",
       "text": [
        "fopen \t\tuor(m/s) \tls from Eqn.(18) \tls from Fig.13(c)\n",
        "0.120000 \t3.333333 \t12.500000 \t\t12.000000\n",
        "0.170000 \t2.352941 \t8.823529 \t\t20.000000\n",
        "0.260000 \t1.538462 \t5.769231 \t\t25.000000\n",
        "\n",
        "For square pitch, the orifice spacing should be 48.863850mm\n"
       ]
      }
     ],
     "prompt_number": 4
    },
    {
     "cell_type": "code",
     "collapsed": false,
     "input": [],
     "language": "python",
     "metadata": {},
     "outputs": []
    }
   ],
   "metadata": {}
  }
 ]
}