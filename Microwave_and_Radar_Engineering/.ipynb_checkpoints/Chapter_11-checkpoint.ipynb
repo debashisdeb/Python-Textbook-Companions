{
 "metadata": {
  "name": "",
  "signature": "sha256:efd0e56c04d2245e98b2287a63fba67799b88e9847372ba4c5f3c4cf5de91c4c"
 },
 "nbformat": 3,
 "nbformat_minor": 0,
 "worksheets": [
  {
   "cells": [
    {
     "cell_type": "heading",
     "level": 1,
     "metadata": {},
     "source": [
      "Chapter 11: Radars"
     ]
    },
    {
     "cell_type": "heading",
     "level": 2,
     "metadata": {},
     "source": [
      "Example 11.1, Page number 504"
     ]
    },
    {
     "cell_type": "code",
     "collapsed": false,
     "input": [
      "\n",
      "import math\n",
      "\n",
      "#Variable declaraion\n",
      "lamda = 3.*10**-2#operating unit(cm)\n",
      "Pt = 600.*10**3  #peak pulse power(W)\n",
      "Smin = 10.**-13  #minimum detectable signal(W)\n",
      "Ae = 5.          #m^2\n",
      "sigma = 20.      #cross sectional area(m^2)\n",
      "\n",
      "#Calculations\n",
      "Rmax = ((Pt*Ae**2*sigma)/(4*math.pi*lamda**2*Smin))**0.25\n",
      "Rmax_nau = Rmax/1.853\n",
      "\n",
      "#Result\n",
      "print \"The maximum range of radar system is\",round((Rmax/1E+3),2),\"km\"\n",
      "print \"The maximum range of radar system in nautical miles is\",round((Rmax_nau/1E+3),2),\"nm\""
     ],
     "language": "python",
     "metadata": {},
     "outputs": [
      {
       "output_type": "stream",
       "stream": "stdout",
       "text": [
        "The maximum range of radar system is 717.66 km\n",
        "The maximum range of radar system in nautical miles is 387.29 nm\n"
       ]
      }
     ],
     "prompt_number": 25
    },
    {
     "cell_type": "heading",
     "level": 2,
     "metadata": {},
     "source": [
      "Example 11.2, Page number 504"
     ]
    },
    {
     "cell_type": "code",
     "collapsed": false,
     "input": [
      "\n",
      "#Variable declaration\n",
      "Pt = 250.*10**3  #peak pulse power(W)\n",
      "Smin = 10.**-14  #minimum detectable signal(W)\n",
      "Ae = 10.         #m^2\n",
      "sigma = 2.       #cross sectional area(m^2)\n",
      "f = 10*10**9     #frequency(Hz)\n",
      "c = 3*10**8      #velocity of propagation(m/s)\n",
      "G = 2500         #power gain of antenna\n",
      "\n",
      "#Calculations\n",
      "lamda = c/f\n",
      "Rmax = ((Pt*G*Ae*sigma)/((4*math.pi)**2*Smin))**0.25\n",
      "\n",
      "#Result\n",
      "print \"Maximum range possible of the antenna is\",round((Rmax/1E+3),2),\"km\""
     ],
     "language": "python",
     "metadata": {},
     "outputs": [
      {
       "output_type": "stream",
       "stream": "stdout",
       "text": [
        "Maximum range possible of the antenna is 298.28 km\n"
       ]
      }
     ],
     "prompt_number": 30
    },
    {
     "cell_type": "heading",
     "level": 2,
     "metadata": {},
     "source": [
      "Example 11.3, Page number 504"
     ]
    },
    {
     "cell_type": "code",
     "collapsed": false,
     "input": [
      "\n",
      "import math\n",
      "\n",
      "#Variable declaration\n",
      "Pt = 250.*10**3   #peak pulse power(W)\n",
      "f = 10.*10**9     #frequency(Hz)\n",
      "c = 3.*10**8      #velocity of propagation(m/s)\n",
      "G = 4000          #power gain of antenna\n",
      "R = 50*10**3      #range(m)\n",
      "Pr = 10**-11      #minimum detectable signal(W)\n",
      "\n",
      "#Calculations\n",
      "lamda = c/f\n",
      "Ae = (G*lamda**2)/(4*math.pi)\n",
      "sigma = (Pr*((4*math.pi*R**2)**2))/(Pt*G*Ae)\n",
      "\n",
      "#Result\n",
      "print \"The radar can sight cross section area of\",round(sigma,2),\"m^2\""
     ],
     "language": "python",
     "metadata": {},
     "outputs": [
      {
       "output_type": "stream",
       "stream": "stdout",
       "text": [
        "The radar can sight cross section area of 34.45 m^2\n"
       ]
      }
     ],
     "prompt_number": 37
    },
    {
     "cell_type": "heading",
     "level": 2,
     "metadata": {},
     "source": [
      "Example 11.4, Page number 505"
     ]
    },
    {
     "cell_type": "code",
     "collapsed": false,
     "input": [
      "\n",
      "\n",
      "#Variable declaration\n",
      "Pt = 400*10**3     #transmitted power(W)\n",
      "prf = 1500.        #pulse repitiion frequency(pps)\n",
      "tw = 0.8*10**-6    #pulse width(sec)\n",
      "c = 3.*10**8       #velocity of propagation(m/s)\n",
      "\n",
      "#Calculations\n",
      "#Part a\n",
      "Run = c/(2*prf)\n",
      "\n",
      "#Part b\n",
      "dc = tw/(1/prf)\n",
      "\n",
      "#Part c\n",
      "Pav = Pt*dc\n",
      "\n",
      "#Part d\n",
      "n1 = 1\n",
      "BW1 = n1/tw\n",
      "\n",
      "n2 = 1.4\n",
      "BW2 = n2/tw\n",
      "\n",
      "#Results\n",
      "print \"The radar's unambiguous range is\",round((Run/1E+3),2),\"km\"\n",
      "print \"The duty cycle for radar is\",dc\n",
      "print \"The average power is\",round(Pav,2),\"W\"\n",
      "print \"Bandwidth range for radar is\",(BW1/1E+6),\"MHz and\",(BW2/1E+6),\"MHz\""
     ],
     "language": "python",
     "metadata": {},
     "outputs": [
      {
       "output_type": "stream",
       "stream": "stdout",
       "text": [
        "The radar's unambiguous range is 100.0 km\n",
        "The duty cycle for radar is 0.0012\n",
        "The average power is 480.0 W\n",
        "Bandwidth range for radar is 1.25 MHz and 1.75 MHz\n"
       ]
      }
     ],
     "prompt_number": 47
    },
    {
     "cell_type": "heading",
     "level": 2,
     "metadata": {},
     "source": [
      "Example 11.5, Page number 505"
     ]
    },
    {
     "cell_type": "code",
     "collapsed": false,
     "input": [
      "\n",
      "import math\n",
      "\n",
      "#Variable declaration\n",
      "Pt = 2.5*10**6    #power output(W)\n",
      "D = 5             #antenna diameter(m)\n",
      "sigma = 1         #cross sectional area of target(m^2)\n",
      "B = 1.6*10**6     #receiver bandwidth(Hz)\n",
      "c = 3.*10**8      #velocity of propagation(m/s)\n",
      "Nf = 12.           #noise figure(dB)\n",
      "f = 5*10**9       #frequency(Hz)\n",
      "\n",
      "#Calculations\n",
      "lamda = c/f\n",
      "F = 10**(Nf/10)\n",
      "Rmax = 48*(((Pt*D**4*sigma)/(B*lamda**2*(F-1)))**0.25)\n",
      "\n",
      "#Result\n",
      "print \"The maximum detection range is\",round(Rmax,2),\"km\""
     ],
     "language": "python",
     "metadata": {},
     "outputs": [
      {
       "output_type": "stream",
       "stream": "stdout",
       "text": [
        "The maximum detection range is 558.04 km\n"
       ]
      }
     ],
     "prompt_number": 57
    },
    {
     "cell_type": "heading",
     "level": 2,
     "metadata": {},
     "source": [
      "Example 11.6, Page number 506"
     ]
    },
    {
     "cell_type": "code",
     "collapsed": false,
     "input": [
      "\n",
      "import math \n",
      "\n",
      "#Variable declaration\n",
      "Rmax = 30   #maximum range of radar(km)\n",
      "n = 50      #no. of echos\n",
      "\n",
      "#Calculation\n",
      "R = Rmax*math.sqrt(math.sqrt(n))\n",
      "\n",
      "#After doubling the power\n",
      "R1 = math.sqrt(math.sqrt(2))\n",
      "\n",
      "#Results\n",
      "print \"Maximum range with echoing of 50 times is\",round(R,2),\"km\"\n",
      "print \"If transmitter power is doubled, range would increase by a factor of\",round(R1,2)"
     ],
     "language": "python",
     "metadata": {},
     "outputs": [
      {
       "output_type": "stream",
       "stream": "stdout",
       "text": [
        "Maximum range with echoing of 50 times is 79.77 km\n",
        "If transmitter power is doubled, range would increase by a factor of 1.19\n"
       ]
      }
     ],
     "prompt_number": 61
    }
   ],
   "metadata": {}
  }
 ]
}