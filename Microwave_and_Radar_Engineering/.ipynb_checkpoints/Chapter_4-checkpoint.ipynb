{
 "metadata": {
  "name": "",
  "signature": "sha256:fddff29c571385d7ad533c0da8d46227c19589926b0642ffe1126b7caf1c9ca6"
 },
 "nbformat": 3,
 "nbformat_minor": 0,
 "worksheets": [
  {
   "cells": [
    {
     "cell_type": "heading",
     "level": 1,
     "metadata": {},
     "source": [
      "Chapter 4:Microwave Transmission Lines"
     ]
    },
    {
     "cell_type": "heading",
     "level": 2,
     "metadata": {},
     "source": [
      "Example 4.1, Page number 141"
     ]
    },
    {
     "cell_type": "code",
     "collapsed": false,
     "input": [
      "\n",
      "\n",
      "import math\n",
      "\n",
      "#Variable declaration\n",
      "d = 0.49                 #diameter of inner conductor(cm)\n",
      "D = 1.10                 #diameter of outer conductor(cm)\n",
      "e = 2.3                  #polyethylene dielectric\n",
      "c = 3*10**8              #velocity of light(m/s)\n",
      "\n",
      "#Calculations\n",
      "L = 2*10**-7*math.log(D/d)\n",
      "C = (55.56*10**-12*e)/(math.log(D/d))\n",
      "Ro = (60*math.log(D/d))/(math.sqrt(e))\n",
      "v = c/(math.sqrt(e))\n",
      "\n",
      "#Results\n",
      "print \"Inductance per unit length is\",round(L,8),\"H/m\"\n",
      "print \"Capacitance per unit length is\",round(C,12),\"PF/m\"\n",
      "print \"Characteristic impedance is\",round(Ro,3),\"Ohms\"\n",
      "print \"Velocity of propagation is\",round(v,3),\"m/s\""
     ],
     "language": "python",
     "metadata": {},
     "outputs": [
      {
       "output_type": "stream",
       "stream": "stdout",
       "text": [
        "Inductance per unit length is 1.6e-07 H/m\n",
        "Capacitance per unit length is 1.58e-10 PF/m\n",
        "Characteristic impedance is 31.993 Ohms\n",
        "Velocity of propagation is 197814142.019 m/s\n"
       ]
      }
     ],
     "prompt_number": 48
    },
    {
     "cell_type": "heading",
     "level": 2,
     "metadata": {},
     "source": [
      "Example 4.2, Page number 142"
     ]
    },
    {
     "cell_type": "code",
     "collapsed": false,
     "input": [
      "\n",
      "import math\n",
      "\n",
      "#Variable declartion\n",
      "R = 0.05          #Ohms/m\n",
      "L = 1.6*10**-7    #Inductance(from example 4.1)\n",
      "C = 1.58*10**-10  #Capacitance(from example 4.1)\n",
      "w = 2*math.pi\n",
      "c = 3*10**8       #velocity of light(m/s)\n",
      "e = 2.3           #polyethylene dielectric(from example 4.1)\n",
      "Pin = 480         #Input power(W)\n",
      "l = 50            #line length(m)\n",
      "\n",
      "#Calculations\n",
      "zo=math.sqrt(L/C)\n",
      "alpha = R/(2*zo)\n",
      "B = w*math.sqrt(L*C)\n",
      "Vp = 1/math.sqrt(L*C)\n",
      "e = (C/Vp)**2\n",
      "Pl = Pin*2*l\n",
      "\n",
      "#Results\n",
      "print \"Attenuation constant =\",round(alpha,5),\"Np/m\"\n",
      "print \"Phase constant =\",round(B,8),\"rad/m\"\n",
      "print \"Phase velocity =\",round(Vp*10**-6,2),\"*10**-6 m/s\"\n",
      "print \"Relative permittivity =\",e\n",
      "print \"Power loss =\",round(Pl),\"W\""
     ],
     "language": "python",
     "metadata": {},
     "outputs": [
      {
       "output_type": "stream",
       "stream": "stdout",
       "text": [
        "Attenuation constant = 0.00079 Np/m\n",
        "Phase constant = 3e-08 rad/m\n",
        "Phase velocity = 198.89 *10**-6 m/s\n",
        "Relative permittivity = 6.3108992e-37\n",
        "Power loss = 48000.0 W\n"
       ]
      }
     ],
     "prompt_number": 67
    },
    {
     "cell_type": "heading",
     "level": 2,
     "metadata": {},
     "source": [
      "Example 4.3, Page number 142"
     ]
    },
    {
     "cell_type": "code",
     "collapsed": false,
     "input": [
      "\n",
      "import math\n",
      "\n",
      "#Variable declaration\n",
      "f = 9.375*10**10        #Frequency(Hz)\n",
      "c = 3*10**8             #velocity of light(m/s)\n",
      "b_a = 2.3\n",
      "\n",
      "#Calculations\n",
      "lamda = c/f\n",
      "#Since b_by_a = 2.3 and b+a <lamda/pi, therefore\n",
      "a = 2.42                #(cm)\n",
      "P = 3600*a**2*math.log(b_a)\n",
      "\n",
      "#Results\n",
      "print \"The brakdown power of the airfilled coaxial cable is\", round(P),\"W\"\n",
      "print \"Please note the answer given in the textbook is wrong\""
     ],
     "language": "python",
     "metadata": {},
     "outputs": [
      {
       "output_type": "stream",
       "stream": "stdout",
       "text": [
        "The brakdown power of the airfilled coaxial cable is 17560.0 W\n",
        "Please note the answer given in the textbook is wrong\n"
       ]
      }
     ],
     "prompt_number": 4
    },
    {
     "cell_type": "heading",
     "level": 2,
     "metadata": {},
     "source": [
      "Example 4.4, Page number 142"
     ]
    },
    {
     "cell_type": "code",
     "collapsed": false,
     "input": [
      "\n",
      "import math\n",
      "\n",
      "#Variable declaration\n",
      "b = 0.3175            #distance between the ground planes(cm)\n",
      "d = 0.0539            #diameter of circular conductor(cm)\n",
      "e = 2.32              #dielectric constant\n",
      "c = 3*10**8           #velocity of light(m/s)\n",
      "\n",
      "#Calculations\n",
      "zo = (60*math.log((4*b)/(math.pi*d)))/math.sqrt(e)\n",
      "v = c/math.sqrt(e)\n",
      "\n",
      "#Results\n",
      "print \"Charactritic impedance =\",round(zo,2),\"Ohms\"\n",
      "print \"Velocity of propagation =\",round(v,2),\"m/s\""
     ],
     "language": "python",
     "metadata": {},
     "outputs": [
      {
       "output_type": "stream",
       "stream": "stdout",
       "text": [
        "Charactritic impedance = 79.37 Ohms\n",
        "Velocity of propagation = 196959649.29 m/s\n"
       ]
      }
     ],
     "prompt_number": 15
    },
    {
     "cell_type": "heading",
     "level": 2,
     "metadata": {},
     "source": [
      "Example 4.5, Page number 143"
     ]
    },
    {
     "cell_type": "code",
     "collapsed": false,
     "input": [
      "\n",
      "\n",
      "import math\n",
      "\n",
      "#Variable declaration\n",
      "e = 9.7           #Dielectric constant\n",
      "W_h = 0.5         #for case a\n",
      "W_b = 5.          #for case b\n",
      "c = 3*10**8       #speed of light(m/s)\n",
      "\n",
      "#Calculations\n",
      "#Case a\n",
      "x = (1/math.sqrt(1+12+((1/W_h)**2))+0.04*((1-W_h)**2))\n",
      "Eeff1 = ((e+1)/2)+(((e-1)/2)*x)\n",
      "Zo1 = 60/math.sqrt(Eeff1)*math.log((8*(1/W_h)+W_h/4))\n",
      "v1 = c/math.sqrt(Eeff1)\n",
      "\n",
      "#Case b\n",
      "y = 1/(math.sqrt(1+12*(1/W_b)))\n",
      "Eeff2 = ((e+1)/2)+(((e-1)/2)*y)\n",
      "z = 1/(W_b+1.393+0.667*math.log(1.444+W_b))\n",
      "Zo2 = (120*math.pi*z)/math.sqrt(Eeff2)\n",
      "v2 = c/math.sqrt(Eeff2)\n",
      "\n",
      "#Results\n",
      "print \"Case a\"\n",
      "print \"Characteristic impedance =\",round(Zo1,2),\"Ohms\"\n",
      "print \"Effective dielectric constant =\",round(Eeff1,2)\n",
      "print \"Velocity of propagation =\",round(v1,2),\"m/s\\n\"\n",
      "\n",
      "\n",
      "print \"Case b\"\n",
      "print \"Characteristic impedance =\",round(Zo2,2),\"Ohms\"\n",
      "print \"Effective dielectric constant =\",round(Eeff2,2)\n",
      "print \"Velocity of propagation =\",round(v2,2),\"m/s\""
     ],
     "language": "python",
     "metadata": {},
     "outputs": [
      {
       "output_type": "stream",
       "stream": "stdout",
       "text": [
        "Case a\n",
        "Characteristic impedance = 65.69 Ohms\n",
        "Effective dielectric constant = 6.45\n",
        "Velocity of propagation = 118138347.97 m/s\n",
        "\n",
        "Case b\n",
        "Characteristic impedance = 17.78 Ohms\n",
        "Effective dielectric constant = 7.71\n",
        "Velocity of propagation = 108048536.19 m/s\n"
       ]
      }
     ],
     "prompt_number": 54
    },
    {
     "cell_type": "heading",
     "level": 2,
     "metadata": {},
     "source": [
      "Example 4.6, Page number 144"
     ]
    },
    {
     "cell_type": "code",
     "collapsed": false,
     "input": [
      "\n",
      "\n",
      "import math\n",
      "\n",
      "#Variable declaration\n",
      "a1 = 1.70645        #for case a\n",
      "b1 = a1/2           #for case a\n",
      "b2 = 1.4621         #for case b\n",
      "\n",
      "#Calculations\n",
      "#Case a(For TE10 mode)\n",
      "Area_rw1 = a1*b1\n",
      "Area_cw1 = math.pi\n",
      "Ratio1 = Area_cw1/Area_rw1\n",
      "\n",
      "#Case b(For TM mode)\n",
      "Area_rw2 = b2**2\n",
      "Area_cw2 = math.pi\n",
      "Ratio2 = Area_cw2/Area_rw2\n",
      "\n",
      "\n",
      "#Results\n",
      "print \"Case a\"\n",
      "print \"Ratio of area of circular to area of rectangular waveguide =\",round(Ratio1,1),\"\\n\"\n",
      "print \"Case b\"\n",
      "print \"Ratio of area of circular to area of rectangular waveguide =\",round(Ratio2,1)"
     ],
     "language": "python",
     "metadata": {},
     "outputs": [
      {
       "output_type": "stream",
       "stream": "stdout",
       "text": [
        "Case a\n",
        "Ratio of area of circular to area of rectangular waveguide = 2.2 \n",
        "\n",
        "Case b\n",
        "Ratio of area of circular to area of rectangular waveguide = 1.5\n"
       ]
      }
     ],
     "prompt_number": 53
    },
    {
     "cell_type": "heading",
     "level": 2,
     "metadata": {},
     "source": [
      "Example 4.7, Page number 146"
     ]
    },
    {
     "cell_type": "code",
     "collapsed": false,
     "input": [
      "\n",
      "import math\n",
      "\n",
      "#Variable declaration\n",
      "f = 9.*10**9   #frequency(Hz)\n",
      "lamda_g = 4.   #guide wavelength(cm)\n",
      "c = 3.*10**10  #velocity of propagation(cm/s)\n",
      "\n",
      "#Calculations\n",
      "lamda_o = c/f\n",
      "lamda_c = math.sqrt((lamda_o**2)/(1-(lamda_o**2/lamda_g**2)))\n",
      "#For TE10 mode,\n",
      "a = lamda_c/2\n",
      "b = lamda_c/4  #@since a=2b\n",
      "#Results\n",
      "print \"The breadth of rectangular waveguide is\",round(b,2),\"cms\""
     ],
     "language": "python",
     "metadata": {},
     "outputs": [
      {
       "output_type": "stream",
       "stream": "stdout",
       "text": [
        "The breadth of rectangular waveguide is 1.51 cms\n"
       ]
      }
     ],
     "prompt_number": 9
    },
    {
     "cell_type": "heading",
     "level": 2,
     "metadata": {},
     "source": [
      "Example 4.8, Page number 147"
     ]
    },
    {
     "cell_type": "code",
     "collapsed": false,
     "input": [
      "\n",
      "#Variable declaration\n",
      "a = 10          #breadth of waveguide(cms)\n",
      "f = 2.5*10**9   #frequency of signal(Hz)\n",
      "c = 3*10**10     #velocity of propagation(cm/s)\n",
      "\n",
      "#Calculations\n",
      "lamda_c = 2*a   #cut-off wavelength\n",
      "lamda_o = c/f   \n",
      "x = math.sqrt(1-((lamda_o/lamda_c)**2))\n",
      "lamda_g = (lamda_o/x) #guided wavelength\n",
      "Vp = c/x             #Phase velocity\n",
      "Vg = c**2/Vp          #Group velocity\n",
      "\n",
      "#Results\n",
      "print \"The cut-off wavelength is\", round(lamda_c,2),\"cm\"\n",
      "print \"The guided wavelength is\",round(lamda_g,3),\"cm\"\n",
      "print \"The pahse velocity is\",round((Vp/1E+10),2),\"*10^10 cm/sec\"\n",
      "print \"The group velocity is\",round((Vg/1E+10),2),\"*10^10 cm/sec\""
     ],
     "language": "python",
     "metadata": {},
     "outputs": [
      {
       "output_type": "stream",
       "stream": "stdout",
       "text": [
        "The cut-off wavelength is 20.0 cm\n",
        "The guided wavelength is 15.0 cm\n",
        "The pahse velocity is 3.75 *10^10 cm/sec\n",
        "The group velocity is 2.4 *10^10 cm/sec\n"
       ]
      }
     ],
     "prompt_number": 26
    },
    {
     "cell_type": "heading",
     "level": 2,
     "metadata": {},
     "source": [
      "Example 4.9, Page number 147"
     ]
    },
    {
     "cell_type": "code",
     "collapsed": false,
     "input": [
      "\n",
      "\n",
      "import math\n",
      "\n",
      "#Variable declaration\n",
      "a = 2.5             #length of guide(cms)\n",
      "b = 1               #breadth of guide(cms)\n",
      "f = 8.66            #cut-off frequency(Hz)\n",
      "c = 3*10**10        #velocity of propagation(m/s)\n",
      "\n",
      "#Calculations\n",
      "lamda_o = c/f\n",
      "#condition for wave to propagate is lamda_c>lamda_o. Therefore for TE01 mode,\n",
      "lamda_c1 = 2*b\n",
      "if lamda_c1<lamda_o:\n",
      "    print \"TE01 does not propgate\"\n",
      "lamda_c2 = 2*a  #for TE10 mode\n",
      "if lamda_c2>lamda_o:\n",
      "    print \"TE10 is a possible mode\"\n",
      "fc = c/lamda_c2\n",
      "lamda_c3 = (2*a*b)/math.sqrt((a**2)+(b**2))  #for TE11 and TM11 modes\n",
      "if lamda_c3<lamda_o:\n",
      "    print \"Both TE11 and TM11 do not propagate as higher modes\"\n",
      "lamda_g = lamda_o/math.sqrt(-1*(1-((lamda_o/lamda_c2)**2)))\n",
      "\n",
      "#Results\n",
      "print \"Cut-off frequency =\",round((fc/1E+9),3),\"GHz\"\n",
      "print \"Guide wavelength =\",round(lamda_g,3),\"cms\"\n",
      "print \"From the analysis, we conclude that only TE10 mode is possible\\n\"\n",
      "print \"Case ii\"\n",
      "print \"Lamda_c for TM11 is equal to lamda_c for TE11 =\",round(lamda_c3,3),\"cms which means that TM11 also does not propagate\""
     ],
     "language": "python",
     "metadata": {},
     "outputs": [
      {
       "output_type": "stream",
       "stream": "stdout",
       "text": [
        "TE01 does not propgate\n",
        "Both TE11 and TM11 do not propagate as higher modes\n",
        "Cut-off frequency = 6.0 Hz\n",
        "Guide wavelength = 5.0 cms\n",
        "From the analysis, we conclude that only TE10 mode is possible\n",
        "\n",
        "Case ii\n",
        "Lamda_c for TM11 is equal to lamda_c for TE11 = 1.857 cms which means that TM11 also does not propagate\n"
       ]
      }
     ],
     "prompt_number": 28
    },
    {
     "cell_type": "heading",
     "level": 2,
     "metadata": {},
     "source": [
      "Example 4.10, Page number 148"
     ]
    },
    {
     "cell_type": "code",
     "collapsed": false,
     "input": [
      "\n",
      "\n",
      "import math\n",
      "\n",
      "#Variable declaration\n",
      "lamda_c = 10           #cut-off wavelength(cms)\n",
      "c = 3*10**10           #velocity of propagation\n",
      "\n",
      "#Calculations\n",
      "#For TE11 mode in a circular waveguide,\n",
      "r = (lamda_c*1.841)/(2*math.pi)      #radius of circular waveguide(cms)\n",
      "a = math.pi*r**2                   #area of circular waveguide\n",
      "fc = c/lamda_c                     #cut-off frequency(Hz)\n",
      "\n",
      "#Results\n",
      "print \"The required cross sectional area is\", round(a,3),\"cms^2\"\n",
      "print \"Frequencies above\",round((fc/1E+9),2),\"GHz can be propagated throught the waveguide\""
     ],
     "language": "python",
     "metadata": {},
     "outputs": [
      {
       "output_type": "stream",
       "stream": "stdout",
       "text": [
        "The required cross sectional area is 26.971 cms^2\n",
        "Frequencies above 3.0 GHz can be propagated throught the waveguide\n"
       ]
      }
     ],
     "prompt_number": 1
    },
    {
     "cell_type": "heading",
     "level": 2,
     "metadata": {},
     "source": [
      "Example 4.11, Page number 149"
     ]
    },
    {
     "cell_type": "code",
     "collapsed": false,
     "input": [
      "\n",
      "import math\n",
      "\n",
      "#Variable declaration\n",
      "f = 5*10**9    #frequecy(Hz)\n",
      "a = 4          #length of guide(cms)\n",
      "b = 3          #breadth of guide(cms)\n",
      "c = 3*10**10   #velocity of propagation(m/s)\n",
      "\n",
      "#Calculations & Results\n",
      "lamda_o = c/f\n",
      "#For TE waves:\n",
      "#For TE01 mode - m = 0, n = 1\n",
      "lamda_c1 = 2*b\n",
      "if lamda_c1<=lamda_o:\n",
      "    print \"TE01 does not propgate\"\n",
      "\n",
      "#For TE10 mode - m=1, n=0\n",
      "lamda_c2 = 2*a\n",
      "if lamda_c3<lamda_o:\n",
      "    print \"TE10 is a possible mode\"\n",
      "    \n",
      "#For TE11 mode - m=1, n=1\n",
      "lamda_c3 = (2*a*b)/math.sqrt((a**2)+(b**2))\n",
      "if lamda_c3<lamda_o:\n",
      "    print \"TE11 does not propgate\""
     ],
     "language": "python",
     "metadata": {},
     "outputs": [
      {
       "output_type": "stream",
       "stream": "stdout",
       "text": [
        "TE01 does not propgate\n",
        "TE10 is a possible mode\n",
        "TE11 does not propgate\n"
       ]
      }
     ],
     "prompt_number": 8
    },
    {
     "cell_type": "heading",
     "level": 2,
     "metadata": {},
     "source": [
      "Example 4.12, Page number 149"
     ]
    },
    {
     "cell_type": "code",
     "collapsed": false,
     "input": [
      "\n",
      "import math\n",
      "\n",
      "#Variable declaration\n",
      "d = 4           #inner diameter of circular waveguide(cms)\n",
      "c = 3*10**10    #velocity od propagation(m/s)\n",
      "fs = 5*10**9    #signal frequency(Hz)\n",
      "\n",
      "#Calculations\n",
      "r = d/2                         #radius(cms)\n",
      "lamda_c = (2*math.pi*r)/1.841\n",
      "fc = c/lamda_c\n",
      "lamda_o = c/fs\n",
      "lamda_g = lamda_o/math.sqrt(1-((lamda_o/lamda_c)**2))\n",
      "\n",
      "#Results\n",
      "print \"Cut-off wavelength =\",round(lamda_c,3),\"cms\"\n",
      "print \"Cut-off frequency =\",round((fc/1E+9),3),\"GHz\"\n",
      "print \"Guide wavelength =\",round(lamda_g,3),\"cms\""
     ],
     "language": "python",
     "metadata": {},
     "outputs": [
      {
       "output_type": "stream",
       "stream": "stdout",
       "text": [
        "Cut-off wavelength = 6.826 cms\n",
        "Cut-off frequency = 4.395 GHz\n",
        "Guide wavelength = 12.584 cms\n"
       ]
      }
     ],
     "prompt_number": 35
    },
    {
     "cell_type": "heading",
     "level": 2,
     "metadata": {},
     "source": [
      "Example 4.13, Page number 150"
     ]
    },
    {
     "cell_type": "code",
     "collapsed": false,
     "input": [
      "\n",
      "import math\n",
      "\n",
      "#Variable declaration\n",
      "a = 6.               #length of rectangular waveguide(cms)\n",
      "b = 4.               #breadth of rectangular waveguide(cms)\n",
      "d = 4.55            #distance between maximum and minimum(cms)\n",
      "c = 3.*10**10        #velocity of propagation(cm/s)\n",
      "\n",
      "#Calculations\n",
      "#For TE10 mode:\n",
      "lamda_c = 2*a\n",
      "lamda_g = d*4\n",
      "lamda_o = math.sqrt(1./(((1./lamda_g**2)+(1./lamda_c**2))))\n",
      "f = c/lamda_o\n",
      "\n",
      "#Results\n",
      "print \"Frequency of wave is\",round((f/1E+9),2),\"GHz\""
     ],
     "language": "python",
     "metadata": {},
     "outputs": [
      {
       "output_type": "stream",
       "stream": "stdout",
       "text": [
        "Frequency of wave is 2.99 GHz\n"
       ]
      }
     ],
     "prompt_number": 53
    },
    {
     "cell_type": "heading",
     "level": 2,
     "metadata": {},
     "source": [
      "Example 4.14, Page number 151"
     ]
    },
    {
     "cell_type": "code",
     "collapsed": false,
     "input": [
      "\n",
      "import math\n",
      "\n",
      "#Variable declaration\n",
      "b = 2.5           #breadth of rectangular waveguide(cms)\n",
      "a = 5.            #length of rectangular waveguide(cms)\n",
      "c = 3*10**10      #velocity of propagation(cm/s)\n",
      "lamda_o = 4.5     #wavelength(cms)\n",
      "\n",
      "#Calculations\n",
      "#For TE10 mode which is the dominant mode:\n",
      "lamda_c = 2*a\n",
      "lamda_g = lamda_o/math.sqrt(1-((lamda_o/lamda_c)**2))\n",
      "Vp = c/math.sqrt(1-((lamda_o/lamda_c)**2))\n",
      "B = (2*math.pi*math.sqrt((lamda_c**2)-(lamda_o**2)))/(lamda_o*lamda_c)\n",
      "\n",
      "#Results\n",
      "print \"Solutions obtained in the textbook are incorrect due to calculation mistake in lamda_g\"\n",
      "print \"Guide wavelength =\",round(lamda_g,3),\"cms\"\n",
      "print \"Phase constant =\",round(B,3)\n",
      "print \"Phase velocity =\",round(Vp,3),\"m/sec\""
     ],
     "language": "python",
     "metadata": {},
     "outputs": [
      {
       "output_type": "stream",
       "stream": "stdout",
       "text": [
        "Solutions obtained in the textbook are incorrect due to calculation mistake in lamda_g\n",
        "Guide wavelength = 5.039 cms\n",
        "Phase constant = 1.247\n",
        "Phase velocity = 33593550657.4 m/sec\n"
       ]
      }
     ],
     "prompt_number": 55
    },
    {
     "cell_type": "heading",
     "level": 2,
     "metadata": {},
     "source": [
      "Example 4.15, Page number 152"
     ]
    },
    {
     "cell_type": "code",
     "collapsed": false,
     "input": [
      "\n",
      "#Variable declaration\n",
      "lamda_o1 = 10  #cms\n",
      "lamda_o2 = 5   #cms\n",
      "#lamda_c for different modes\n",
      "TE10 = 16      #cms\n",
      "TM11 = 7.16    #cms\n",
      "TM21 = 5.6     #cms\n",
      "\n",
      "#Calculations\n",
      "#For any wave to be propagated, lamda_c>lamda_o\n",
      "\n",
      "#Part(i)\n",
      "x = [TE10, TM11, TM21]\n",
      "#largest=x[0]\n",
      "for large in x:\n",
      "    if large > lamda_o1:\n",
      "        largest=large\n",
      "print \"Part(i)\\nSince lamda_c =\",(largest),\"which is greater than lamda_o1, only TE10 mode propagates\"\n",
      "\n",
      "#Part(ii)\n",
      "print \"\\nPart(ii)\"\n",
      "if TE10>lamda_o2:\n",
      "    print \"TE10 mode propagates\"\n",
      "    if TM11>lamda_o2:\n",
      "        print \"TM11 mode propagates\"\n",
      "    if TM21>lamda_o2:\n",
      "        print \"TM21 mode propagates\"\n"
     ],
     "language": "python",
     "metadata": {},
     "outputs": [
      {
       "output_type": "stream",
       "stream": "stdout",
       "text": [
        "Part(i)\n",
        "Since lamda_c = 16 which is greater than lamda_o1, only TE10 mode propagates\n",
        "\n",
        "Part(ii)\n",
        "TE10 mode propagates\n",
        "TM11 mode propagates\n",
        "TM21 mode propagates\n"
       ]
      }
     ],
     "prompt_number": 35
    },
    {
     "cell_type": "heading",
     "level": 2,
     "metadata": {},
     "source": [
      "Example 4.16, Page number 152"
     ]
    },
    {
     "cell_type": "code",
     "collapsed": false,
     "input": [
      "\n",
      "import math\n",
      "\n",
      "#Variable declaration\n",
      "a = 3            #length of rectangular waveguide(cms)\n",
      "b = 2            #breadth of rectangular waveguide(cms)\n",
      "f = 10.*10**9    #frequency(Hz)\n",
      "c = 3.*10**10    #velocity of propagation(cm/s)\n",
      "n = 120*math.pi  #intrinsic impedance\n",
      "\n",
      "#Calculations\n",
      "lamda_c = (2*a*b)/(math.sqrt(a**2+b**2))\n",
      "lamda_o = c/f\n",
      "Ztm = n*math.sqrt(1-((lamda_o/lamda_c)**2))\n",
      "\n",
      "#Result\n",
      "print \"Solution obtained in the textbook are incorrect due to calculation mistake in Ztm\"\n",
      "print \"characteristic wave impedance =\",round(Ztm,3),\"Ohms\""
     ],
     "language": "python",
     "metadata": {},
     "outputs": [
      {
       "output_type": "stream",
       "stream": "stdout",
       "text": [
        "Solution obtained in the textbook are incorrect due to calculation mistake in Ztm\n",
        "characteristic wave impedance = 163.242 Ohms\n"
       ]
      }
     ],
     "prompt_number": 71
    },
    {
     "cell_type": "heading",
     "level": 2,
     "metadata": {},
     "source": [
      "Example 4.17, Page number 152"
     ]
    },
    {
     "cell_type": "code",
     "collapsed": false,
     "input": [
      "\n",
      "import math\n",
      "\n",
      "#Variable declaration\n",
      "f = 6.*10**9     #frequency(Hz)\n",
      "c = 3.*10**10    #velocity of propagation(cm/s)\n",
      "\n",
      "#Calculations\n",
      "fc = 0.8*f\n",
      "lamda_c = c/fc\n",
      "D = (lamda_c*1.841)/math.pi\n",
      "lamda_o = c/f\n",
      "lamda_g = lamda_o/(math.sqrt(1-((lamda_o/lamda_c)**2)))\n",
      "\n",
      "#Results\n",
      "print \"diameter of waveguide =\",round(D,4),\"cms\"\n",
      "print \"guide wavelength =\",round(lamda_g,3),\"cms\""
     ],
     "language": "python",
     "metadata": {},
     "outputs": [
      {
       "output_type": "stream",
       "stream": "stdout",
       "text": [
        "diameter of waveguide = 3.6626 cms\n",
        "guide wavelength = 8.333 cms\n"
       ]
      }
     ],
     "prompt_number": 65
    },
    {
     "cell_type": "heading",
     "level": 2,
     "metadata": {},
     "source": [
      "Example 4.18, Page number 153"
     ]
    },
    {
     "cell_type": "code",
     "collapsed": false,
     "input": [
      "\n",
      "import math\n",
      "\n",
      "#Variable declaration\n",
      "a = 1.5           #length of waveguide(cms)\n",
      "b = 1             #breadth of waveguide(cms)\n",
      "c = 3*10**10      #velocity of propagation\n",
      "Er = 4            #dielectric\n",
      "f = 6*10**9       #frequency(Hz)\n",
      "\n",
      "#Calculations and Results\n",
      "lamda_c = 2*a\n",
      "fc = c/lamda_c\n",
      "if f<fc:\n",
      "    print \"The impressed frequency of 6GHz is less than the cut-off frequency and hence the signal will not pass through the guide\"\n",
      "lamda1 = c/f\n",
      "if lamda1>lamda_c:\n",
      "    print \"Since the wavelength of the impressed signal is longer than the cut-off wavelength, there is no propagation of wave\"\n",
      "lamda2 = lamda1/math.sqrt(Er)\n",
      "if lamda2<lamda1:\n",
      "    print \"The signal with 6GHz frequency will pass through the dielectric load waveguide\"\n"
     ],
     "language": "python",
     "metadata": {},
     "outputs": [
      {
       "output_type": "stream",
       "stream": "stdout",
       "text": [
        "The impressed frequency of 6GHz is less than the cut-off frequency and hence the signal will not pass through the guide\n",
        "Since the wavelength of the impressed signal is longer than the cut-off wavelength, there is no propagation of wave\n",
        "The signal with 6GHz frequency will pass through the dielectric load waveguide\n"
       ]
      }
     ],
     "prompt_number": 2
    },
    {
     "cell_type": "heading",
     "level": 2,
     "metadata": {},
     "source": [
      "Example 4.19, Page number 153"
     ]
    },
    {
     "cell_type": "code",
     "collapsed": false,
     "input": [
      "\n",
      "import math\n",
      "\n",
      "#Variable declaration\n",
      "a = 1.5*10**-2      #length of rectangular waveguide(m)\n",
      "b = 1               #breadth of rectangular waveguide(cms)\n",
      "f = 6*10**9         #frequency(Hz)\n",
      "c = 3*10**10        #velocity of propagation(m/s)\n",
      "m = 1\n",
      "n = 0\n",
      "mu = 4*math.pi*10**-7\n",
      "e = 8.854*10**-12\n",
      "\n",
      "#Calculations\n",
      "#For dominant TE10 mode,\n",
      "lamda_c = 2*a\n",
      "fc = c/lamda_c\n",
      "w = 2*math.pi*f\n",
      "alpha = math.sqrt((((m*math.pi)/a)**2)+(((n*math.pi)/b)**2)- ((w**2)*mu*e))\n",
      "\n",
      "#Results\n",
      "print \"The amount of attenuation is\",round(alpha,2),\"nepass/m\""
     ],
     "language": "python",
     "metadata": {},
     "outputs": [
      {
       "output_type": "stream",
       "stream": "stdout",
       "text": [
        "The amount of attenuation is 167.49 nepass/m\n"
       ]
      }
     ],
     "prompt_number": 21
    },
    {
     "cell_type": "heading",
     "level": 2,
     "metadata": {},
     "source": [
      "Example 4.20, Page number 154"
     ]
    },
    {
     "cell_type": "code",
     "collapsed": false,
     "input": [
      "\n",
      "#Variable declaration\n",
      "a = 3\n",
      "b = 1\n",
      "f = 9.*10**9\n",
      "Emax = 3.*10**3\n",
      "c = 3.*10**10\n",
      "\n",
      "#Calculations\n",
      "lamda_o = c/f\n",
      "lamda_c = 2*a\n",
      "lamda_g = lamda_o/(math.sqrt(1-((lamda_o/lamda_c)**2)))\n",
      "P = 6.63*10**-4*Emax**2*a*b*(lamda_o/lamda_g)\n",
      "\n",
      "#Result\n",
      "print \"Solution obtained in the textbook are incorrect due to calculation mistake in lamda_g\"\n",
      "print \"The maximum power handling capacity of the waveguide =\",round((P/1E+3),3),\"kW\""
     ],
     "language": "python",
     "metadata": {},
     "outputs": [
      {
       "output_type": "stream",
       "stream": "stdout",
       "text": [
        "Solution obtained in the textbook are incorrect due to calculation mistake in lamda_g\n",
        "The maximum power handling capacity of the waveguide = 14.884 kW\n"
       ]
      }
     ],
     "prompt_number": 75
    },
    {
     "cell_type": "heading",
     "level": 2,
     "metadata": {},
     "source": [
      "Example 4.21, Page number 154"
     ]
    },
    {
     "cell_type": "code",
     "collapsed": false,
     "input": [
      "\n",
      "import math\n",
      "\n",
      "#Variable declaration\n",
      "f = 9*10**9       #frequency(Hz)\n",
      "d = 5             #internal diameter(cms)\n",
      "Emax = 300        #maximum field strength(V/cm)\n",
      "c = 3*10**10      #velocity of propagation(m/s)\n",
      "\n",
      "#Calculations\n",
      "lamda_o = c/f\n",
      "#For domnant mode TE11,\n",
      "lamda_c = (math.pi*d)/1.841\n",
      "lamda_g = lamda_o/math.sqrt(1-((lamda_o/lamda_c)**2))\n",
      "Pmax = 0.498*(Emax**2)*(d**2)*(lamda_o/lamda_g)\n",
      "\n",
      "#Results\n",
      "print \"Maximum power =\",round((Pmax/1E+6),3),\"*10^6 W\""
     ],
     "language": "python",
     "metadata": {},
     "outputs": [
      {
       "output_type": "stream",
       "stream": "stdout",
       "text": [
        "Maximum power = 1.049 *10^6 W\n"
       ]
      }
     ],
     "prompt_number": 76
    },
    {
     "cell_type": "heading",
     "level": 2,
     "metadata": {},
     "source": [
      "Example 4.22, Page number 155"
     ]
    },
    {
     "cell_type": "code",
     "collapsed": false,
     "input": [
      "\n",
      "import math\n",
      "\n",
      "#Varaible declaration\n",
      "c = 3.*10**10          #velocity of propagation(m/s)\n",
      "f = 30.*10**9          #frequency(Hz)\n",
      "a = 1                  #length(cm)\n",
      "b = 1                  #breadth(cm)\n",
      "n = 120*math.pi\n",
      "\n",
      "#Calclations\n",
      "lamda_o = c/f\n",
      "lamda_c = 2.*a\n",
      "Zte = n/(math.sqrt(1-((lamda_o/lamda_c)**2)))\n",
      "#Since 1hp = 746 watt = Pmax,\n",
      "Pmax = 746\n",
      "Emax = math.sqrt((Pmax*4*Zte)/(a*b))\n",
      "\n",
      "#Results\n",
      "print \"Solution obtained in the textbook are incorrect as the value of a & b is taken wrong\"\n",
      "print \"Peak value of electric field is\",round(Emax,3),\"V/m\""
     ],
     "language": "python",
     "metadata": {},
     "outputs": [
      {
       "output_type": "stream",
       "stream": "stdout",
       "text": [
        "Solution obtained in the textbook are incorrect as the value of a & b is taken wrong\n",
        "Peak value of electric field is 1139.724 V/m\n"
       ]
      }
     ],
     "prompt_number": 83
    },
    {
     "cell_type": "heading",
     "level": 2,
     "metadata": {},
     "source": [
      "Example 4.23, Page number 155"
     ]
    },
    {
     "cell_type": "code",
     "collapsed": false,
     "input": [
      "\n",
      "import math\n",
      "\n",
      "#Variable declaration\n",
      "a = 2.3          #length of rectangular waveguide(cms)\n",
      "b = 1.0          #breadth of rectangular waveguide(cms)\n",
      "f = 9.375*10**9  #frequency(Hz)\n",
      "c = 3*10**10     #velocity of propagation(m/s)\n",
      "\n",
      "#Calculations\n",
      "lamda_o = c/f\n",
      "x = (1-((lamda_o/(2*a))**2))**0.5\n",
      "Pbd = 597*a*b*x\n",
      "\n",
      "#Results\n",
      "print \"Breakdown power =\",round(Pbd,3),\"W\""
     ],
     "language": "python",
     "metadata": {},
     "outputs": [
      {
       "output_type": "stream",
       "stream": "stdout",
       "text": [
        "Breakdown power = 986.406 W\n"
       ]
      }
     ],
     "prompt_number": 35
    },
    {
     "cell_type": "heading",
     "level": 2,
     "metadata": {},
     "source": [
      "Example 4.24, Page number 156"
     ]
    },
    {
     "cell_type": "code",
     "collapsed": false,
     "input": [
      "\n",
      "import math\n",
      "\n",
      "#Variable declaration\n",
      "d = 5.           #internal diameter(cms)\n",
      "a = d/2\n",
      "f = 9.*10**9     #frequency(Hz)\n",
      "c = 3.*10**10   #velocity of propagation\n",
      "\n",
      "#Calculations\n",
      "lamda_o = c/f\n",
      "lamda_c = (math.pi*d)/1.841\n",
      "fc = c/lamda_c\n",
      "x = (1 - ((fc/f)**2))**0.5\n",
      "Pbd = 1790.*a*a*x\n",
      "\n",
      "#Results\n",
      "print \"Breakdown power =\",round((Pbd/1E+3),3),\"kW\""
     ],
     "language": "python",
     "metadata": {},
     "outputs": [
      {
       "output_type": "stream",
       "stream": "stdout",
       "text": [
        "Breakdown power = 10.298 kW\n"
       ]
      }
     ],
     "prompt_number": 88
    }
   ],
   "metadata": {}
  }
 ]
}