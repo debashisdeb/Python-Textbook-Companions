{
 "metadata": {
  "name": "",
  "signature": "sha256:2fe50082340642dd8429d3545371d7b4c451ffac9b445487719541932115a705"
 },
 "nbformat": 3,
 "nbformat_minor": 0,
 "worksheets": [
  {
   "cells": [
    {
     "cell_type": "heading",
     "level": 1,
     "metadata": {},
     "source": [
      "Chpater 5:Cavity Resonators"
     ]
    },
    {
     "cell_type": "heading",
     "level": 2,
     "metadata": {},
     "source": [
      "Example 5.1, Page number 174"
     ]
    },
    {
     "cell_type": "code",
     "collapsed": false,
     "input": [
      "\n",
      "import math\n",
      "\n",
      "#Variable declaration\n",
      "a = 3          #radius of circular waveguide(cm)\n",
      "fo = 10*10**9  #frequency for TM011 mode(Hz)\n",
      "P01 = 2.405\n",
      "c = 3*10**10   #velocity of proapagation(m/s)\n",
      "\n",
      "#Calculation\n",
      "d = math.sqrt((math.pi**2)/(((4*math.pi**2)/9)-((P01/a)**2)))\n",
      "\n",
      "#Result\n",
      "print \"The minimum distance between two plates is\",round(d,2),\"cms\""
     ],
     "language": "python",
     "metadata": {},
     "outputs": [
      {
       "output_type": "stream",
       "stream": "stdout",
       "text": [
        "The minimum distance between two plates is 1.62 cms\n"
       ]
      }
     ],
     "prompt_number": 3
    },
    {
     "cell_type": "heading",
     "level": 2,
     "metadata": {},
     "source": [
      "Example 5.2, Page number 174"
     ]
    },
    {
     "cell_type": "code",
     "collapsed": false,
     "input": [
      "\n",
      "a = 2.\n",
      "b = 1.\n",
      "d = 3.\n",
      "#For dominant mode TE101,\n",
      "m = 1.\n",
      "n = 0\n",
      "p = 1.\n",
      "\n",
      "c = 3*10**10 #velocity of propagation(m/s)\n",
      "\n",
      "#Calculation\n",
      "fo = (c/2)*(((m/a)**2+(n/b)**2+(p/d)**2))**0.5\n",
      "\n",
      "#Result\n",
      "print \"The lowest resonating frequency of a rectangular cavity resonator is\",round((fo/1E+9),2),\"Ghz\""
     ],
     "language": "python",
     "metadata": {},
     "outputs": [
      {
       "output_type": "stream",
       "stream": "stdout",
       "text": [
        "The lowest resonating frequency of a rectangular cavity resonator is 9.01 Ghz\n"
       ]
      }
     ],
     "prompt_number": 8
    },
    {
     "cell_type": "heading",
     "level": 2,
     "metadata": {},
     "source": [
      "Example 5.3, Page number 175"
     ]
    },
    {
     "cell_type": "code",
     "collapsed": false,
     "input": [
      "\n",
      "import math\n",
      "\n",
      "#Variable declaration\n",
      "D = 12.5     #diameter of resonator(cm)\n",
      "d = 5        #length of resonator(cm)\n",
      "P01 = 2.405  #dominant mode TM01\n",
      "c = 3*10**10 #velocity of propagation(m/s)\n",
      "\n",
      "#For TM012 mode,\n",
      "m = 1\n",
      "n = 0\n",
      "p = 2\n",
      "\n",
      "#Calculation\n",
      "a = D/2\n",
      "fo = (c/(2*math.pi))*((P01/a)**2+((p*math.pi)/d)**2)**0.5\n",
      "\n",
      "#Result\n",
      "print \"The resonanat frequency of a circular resonator is\",round((fo/1E+9),2),\"GHz\""
     ],
     "language": "python",
     "metadata": {},
     "outputs": [
      {
       "output_type": "stream",
       "stream": "stdout",
       "text": [
        "The resonanat frequency of a circular resonator is 6.27 GHz\n"
       ]
      }
     ],
     "prompt_number": 14
    },
    {
     "cell_type": "heading",
     "level": 2,
     "metadata": {},
     "source": [
      "Example 5.4, Page number 175"
     ]
    },
    {
     "cell_type": "code",
     "collapsed": false,
     "input": [
      "\n",
      "a = 3.\n",
      "b = 2.\n",
      "d = 4.\n",
      "#For dominant mode TE101,\n",
      "m = 1.\n",
      "n = 0\n",
      "p = 1.\n",
      "\n",
      "c = 3*10**10 #velocity of propagation(m/s)\n",
      "\n",
      "#Calculation\n",
      "fo = (c/2)*(((m/a)**2+(n/b)**2+(p/d)**2))**0.5\n",
      "\n",
      "#Result\n",
      "print \"The lowest resonating frequency of a circular resonator is\",round((fo/1E+9),2),\"Ghz\""
     ],
     "language": "python",
     "metadata": {},
     "outputs": [
      {
       "output_type": "stream",
       "stream": "stdout",
       "text": [
        "The lowest resonating frequency of a circular resonator is 6.25 Ghz\n"
       ]
      }
     ],
     "prompt_number": 15
    }
   ],
   "metadata": {}
  }
 ]
}