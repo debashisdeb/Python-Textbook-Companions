{
 "metadata": {
  "name": "",
  "signature": "sha256:9283b3273e4b25859b1f947b0b70d061842802ddcf82b087896def4a57fa123c"
 },
 "nbformat": 3,
 "nbformat_minor": 0,
 "worksheets": [
  {
   "cells": [
    {
     "cell_type": "markdown",
     "metadata": {},
     "source": [
      "<h1>Chapter 1: Semiconductor Basics<h1>"
     ]
    },
    {
     "cell_type": "markdown",
     "metadata": {},
     "source": [
      "<h3>Example 1.1(a), Page Number:29<h3>"
     ]
    },
    {
     "cell_type": "code",
     "collapsed": false,
     "input": [
      "\n",
      "\n",
      "# variable declaration\n",
      "V_bias=10.0;      #bias voltage in volt\n",
      "R_limit=1000;   #limiting resistance in ohm\n",
      "r_d =10.0;        #r_d value\n",
      "\n",
      "#calculation\n",
      "#IDEAL MODEL\n",
      "print \"IDEAL MODEL\"\n",
      "V_f=0;          #voltage in volt\n",
      "I_f=V_bias/R_limit;  #foward current\n",
      "V_R_limit=I_f*R_limit;  #limiting voltage\n",
      "print \"forward voltage = %.2f volts\" %V_f\n",
      "print \"forward current = %.2f amperes\" %I_f\n",
      "print \"voltage across limiting resistor = %.2f volts\" %V_R_limit\n",
      "\n",
      "#PRACTICAL MODEL\n",
      "print \"\\nPRACTICAL MODEL\"\n",
      "V_f=0.7;      #voltage in volt\n",
      "I_f=(V_bias-V_f)/R_limit;   #foward current\n",
      "V_R_limit=I_f*R_limit;      #limiting voltage\n",
      "print \"forward voltage = %.2f volts\" %V_f\n",
      "print \"forward current = %.3f amperes\" %I_f\n",
      "print \"voltage across limiting resistor = %.2f volts\" %V_R_limit\n",
      "\n",
      "#COMPLETE MODEL\n",
      "print \"\\nCOMPLETE MODEL\"\n",
      "I_f=(V_bias-0.7)/(R_limit+r_d);  #foward current\n",
      "V_f=0.7+I_f*r_d;                 #forward voltage\n",
      "V_R_limit=I_f*R_limit;            #limiting voltage\n",
      "print \"forward voltage = %.3f volts\" %V_f\n",
      "print \"forward current = %.3f amperes\" %I_f\n",
      "print \"voltage across limiting resistor = %.2f volts\" %V_R_limit"
     ],
     "language": "python",
     "metadata": {},
     "outputs": [
      {
       "output_type": "stream",
       "stream": "stdout",
       "text": [
        "IDEAL MODEL\n",
        "forward voltage = 0.00 volts\n",
        "forward current = 0.01 amperes\n",
        "voltage across limiting resistor = 10.00 volts\n",
        "\n",
        "PRACTICAL MODEL\n",
        "forward voltage = 0.70 volts\n",
        "forward current = 0.009 amperes\n",
        "voltage across limiting resistor = 9.30 volts\n",
        "\n",
        "COMPLETE MODEL\n",
        "forward voltage = 0.792 volts\n",
        "forward current = 0.009 amperes\n",
        "voltage across limiting resistor = 9.21 volts"
       ]
      }
     ],
     "prompt_number": 1
    },
    {
     "cell_type": "markdown",
     "metadata": {},
     "source": [
      "<h3>Example 1.1(b), Page Number:29<h3>"
     ]
    },
    {
     "cell_type": "code",
     "collapsed": false,
     "input": [
      "\n",
      "# variable declaration\n",
      "V_bias=5;     #bias voltage in volt\n",
      "I_R=1*10**-6; #current\n",
      "R_limit=1000   #in Ohm\n",
      "\n",
      "#calculation\n",
      "#IDEAL MODEL\n",
      "print \"IDEAL MODEL\"\n",
      "I_r=0.0;   #current in ampere\n",
      "V_R=V_bias;   #voltages are equal\n",
      "V_R_limit=I_r*R_limit;   #limiting voltage\n",
      "print \"Reverse voltage across diode = %.2f volts\" %V_R\n",
      "print \"Reverse current through diode= %.2f amperes\" %I_r\n",
      "print \"voltage across limiting resistor = %.2f volts\" %V_R_limit\n",
      "\n",
      "#PRACTICAL MODEL\n",
      "print \"\\nPRACTICAL MODEL\"\n",
      "I_r=0.0;         #current in ampere\n",
      "V_R=V_bias;    #voltages are equal\n",
      "V_R_limit=I_r*R_limit;   #limiting voltage\n",
      "print \"Reverse voltage across diode= %.2f volts\" %V_R\n",
      "print \"Reverse current through diode = %.2f amperes\" %I_r\n",
      "print \"voltage across limiting resistor = %.2f volts\" %V_R_limit\n",
      "\n",
      "#COMPLETE MODEL\n",
      "print \"\\nCOMPLETE MODEL\"\n",
      "I_r=I_R;       #current in ampere\n",
      "V_R_limit=I_r*R_limit;    #limiting voltage\n",
      "V_R=V_bias-V_R_limit;     #voltage in volt\n",
      "print \"Reverse voltage across diode = %.3f volts\" %V_R\n",
      "print \"Reverse current through diode = %d micro Amp\" %(I_r*10**6)\n",
      "print \"voltage across limiting resistor = %d mV\" %(V_R_limit*1000)"
     ],
     "language": "python",
     "metadata": {},
     "outputs": [
      {
       "output_type": "stream",
       "stream": "stdout",
       "text": [
        "IDEAL MODEL\n",
        "Reverse voltage across diode = 5.00 volts\n",
        "Reverse current through diode= 0.00 amperes\n",
        "voltage across limiting resistor = 0.00 volts\n",
        "\n",
        "PRACTICAL MODEL\n",
        "Reverse voltage across diode= 5.00 volts\n",
        "Reverse current through diode = 0.00 amperes\n",
        "voltage across limiting resistor = 0.00 volts\n",
        "\n",
        "COMPLETE MODEL\n",
        "Reverse voltage across diode = 4.999 volts\n",
        "Reverse current through diode = 1 micro Amp\n",
        "voltage across limiting resistor = 1 mV"
       ]
      }
     ],
     "prompt_number": 2
    }
   ],
   "metadata": {}
  }
 ]
}