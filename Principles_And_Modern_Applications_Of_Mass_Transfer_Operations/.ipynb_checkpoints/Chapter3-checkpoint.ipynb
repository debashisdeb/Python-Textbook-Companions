{
 "metadata": {
  "name": "",
  "signature": "sha256:7d54e3690fc412ff890e6ea2f39f46cb8c03d3ea660ea034447f2497647b95ed"
 },
 "nbformat": 3,
 "nbformat_minor": 0,
 "worksheets": [
  {
   "cells": [
    {
     "cell_type": "markdown",
     "metadata": {},
     "source": [
      "<h1>Chapter 3: Special-purpose Diodes<h1>"
     ]
    },
    {
     "cell_type": "markdown",
     "metadata": {},
     "source": [
      "<h3>Example 3.1, Page Number:88<h3>"
     ]
    },
    {
     "cell_type": "code",
     "collapsed": false,
     "input": [
      "%pylab inline"
     ],
     "language": "python",
     "metadata": {},
     "outputs": [
      {
       "output_type": "stream",
       "stream": "stdout",
       "text": [
        "\n",
        "Welcome to pylab, a matplotlib-based Python environment [backend: module://IPython.zmq.pylab.backend_inline].\n",
        "For more information, type 'help(pylab)'."
       ]
      }
     ],
     "prompt_number": 1
    },
    {
     "cell_type": "code",
     "collapsed": false,
     "input": [
      "\n",
      "\n",
      "# variable declaration\n",
      "delVZ=50*10**-3;    #voltage in volts, from graph\n",
      "delIZ=5*10**-3;    #current in amperes, from rgraph\n",
      "\n",
      "#calculation\n",
      "ZZ=delVZ/delIZ;   #zener impedence\n",
      "\n",
      "# result\n",
      "print \"zener impedance = %d ohm \" %ZZ"
     ],
     "language": "python",
     "metadata": {},
     "outputs": [
      {
       "output_type": "stream",
       "stream": "stdout",
       "text": [
        "zener impedance = 10 ohm "
       ]
      }
     ],
     "prompt_number": 2
    },
    {
     "cell_type": "markdown",
     "metadata": {},
     "source": [
      "<h3>Example 3.2, Page Number:89<h3>"
     ]
    },
    {
     "cell_type": "code",
     "collapsed": false,
     "input": [
      "\n",
      "# variable declaration\n",
      "I_ZT=37*10**-3;    #IN AMPERES\n",
      "V_ZT=6.80;         #IN VOLTS\n",
      "Z_ZT=3.50;         #IN OHMS\n",
      "I_Z=50*10**-3;     #IN AMPERES\n",
      "\n",
      "#calculation\n",
      "DEL_I_Z=I_Z-I_ZT;      #change current\n",
      "DEL_V_Z=DEL_I_Z*Z_ZT;  #change voltage\n",
      "V_Z=V_ZT+DEL_V_Z;      #voltage across zener terminals\n",
      "print \"voltage across zener terminals when current is 50 mA = %.3f volts\" %V_Z\n",
      "I_Z=25*10**-3;         #IN AMPERES\n",
      "DEL_I_Z=I_Z-I_ZT;      #change current\n",
      "DEL_V_Z=DEL_I_Z*Z_ZT;  #change voltage\n",
      "V_Z=V_ZT+DEL_V_Z;      #voltage across zener terminals\n",
      "\n",
      "#result\n",
      "print \"voltage across zener terminals when current is 25 mA = %.3f volts\" %V_Z"
     ],
     "language": "python",
     "metadata": {},
     "outputs": [
      {
       "output_type": "stream",
       "stream": "stdout",
       "text": [
        "voltage across zener terminals when current is 50 mA = 6.845 volts\n",
        "voltage across zener terminals when current is 25 mA = 6.758 volts"
       ]
      }
     ],
     "prompt_number": 3
    },
    {
     "cell_type": "markdown",
     "metadata": {},
     "source": [
      "<h3>Example 3.3, Page Number:90<h3>"
     ]
    },
    {
     "cell_type": "code",
     "collapsed": false,
     "input": [
      "\n",
      "\n",
      "# variable declaration\n",
      "V_Z=8.2;     #8.2 volt zener diode\n",
      "TC=0.0005;   #Temperature coefficient (per degree celsius)\n",
      "T1=60;       #Temperature 1 in celsius\n",
      "T2=25;       #Temperature 2 in celsius\n",
      "\n",
      "#calculation\n",
      "DEL_T=T1-T2;           #change in temp\n",
      "del_V_Z=V_Z*TC*DEL_T;  #change in voltage\n",
      "voltage=V_Z+del_V_Z;   #zener voltage\n",
      "\n",
      "#result\n",
      "print \"zener voltage at 60 degree celsius = %.3f volt\" %voltage"
     ],
     "language": "python",
     "metadata": {},
     "outputs": [
      {
       "output_type": "stream",
       "stream": "stdout",
       "text": [
        "zener voltage at 60 degree celsius = 8.343 volt"
       ]
      }
     ],
     "prompt_number": 4
    },
    {
     "cell_type": "markdown",
     "metadata": {},
     "source": [
      "<h3>Example 3.4, Page Number:90<h3>"
     ]
    },
    {
     "cell_type": "code",
     "collapsed": false,
     "input": [
      "\n",
      "\n",
      "# variable declaration\n",
      "P_D_max=400*10**-3;    #power in watts\n",
      "df=3.2*10**-3          #derating factor in watts per celsius\n",
      "del_T=(90-50);         #in celsius, temperature difference\n",
      "\n",
      "#calculation\n",
      "P_D_deru=P_D_max-df*del_T;  #power dissipated\n",
      "P_D_der=P_D_deru*1000;\n",
      "\n",
      "#result\n",
      "print \"maximum power dissipated at 90 degree celsius = %d mW\" %P_D_der"
     ],
     "language": "python",
     "metadata": {},
     "outputs": [
      {
       "output_type": "stream",
       "stream": "stdout",
       "text": [
        "maximum power dissipated at 90 degree celsius = 272 mW"
       ]
      }
     ],
     "prompt_number": 5
    },
    {
     "cell_type": "markdown",
     "metadata": {},
     "source": [
      "<h3>Example 3.5, Page Number: 92<h3>"
     ]
    },
    {
     "cell_type": "code",
     "collapsed": false,
     "input": [
      "\n",
      "# variable declaration\n",
      "V_Z=5.1;\n",
      "I_ZT=49*10**-3;\n",
      "I_ZK=1*10**-3;\n",
      "Z_Z=7;\n",
      "R=100;\n",
      "P_D_max=1;\n",
      "\n",
      "#calculation\n",
      "V_out=V_Z-(I_ZT-I_ZK)*Z_Z;   #output voltage at I_ZK\n",
      "V_IN_min=I_ZK*R+V_out;       #input voltage\n",
      "I_ZM=P_D_max/V_Z;            #current\n",
      "V_out=V_Z+(I_ZM-I_ZT)*Z_Z;   #output voltage at I_ZM\n",
      "V_IN_max=I_ZM*R+V_out;       #max input voltage\n",
      "\n",
      "#result\n",
      "print \"maximum input voltage regulated by zener diode = %.3f volts\" %V_IN_max\n",
      "print \"minimum input voltage regulated by zener diode = %.3f volts\" %V_IN_min"
     ],
     "language": "python",
     "metadata": {},
     "outputs": [
      {
       "output_type": "stream",
       "stream": "stdout",
       "text": [
        "maximum input voltage regulated by zener diode = 25.737 volts\n",
        "minimum input voltage regulated by zener diode = 4.864 volts"
       ]
      }
     ],
     "prompt_number": 6
    },
    {
     "cell_type": "markdown",
     "metadata": {},
     "source": [
      "<h3>Example 3.6, Page Number: 93<h3>"
     ]
    },
    {
     "cell_type": "code",
     "collapsed": false,
     "input": [
      "\n",
      "\n",
      "# variable declaration\n",
      "V_Z=12.0;      #voltage in volt\n",
      "V_IN=24.0;     #ip voltage in volt\n",
      "I_ZK=0.001;    #current in ampere\n",
      "I_ZM=0.050;    #current in ampere \n",
      "Z_Z=0;         #impedence\n",
      "R=470;         #resistance in ohm\n",
      "\n",
      "#calculation\n",
      "#when I_L=0, I_Z is max and is equal to the total circuit current I_T\n",
      "I_T=(V_IN-V_Z)/R;    #current\n",
      "I_Z_max=I_T;         #max current\n",
      "if I_Z_max<I_ZM :    # condition for min currert \n",
      " I_L_min=0;\n",
      "\n",
      "I_L_max=I_T-I_ZK;    #max current\n",
      "R_L_min=V_Z/I_L_max; #min resistance\n",
      "\n",
      "#result\n",
      "print \"minimum value of load resistance = %.2f ohm\" %R_L_min\n",
      "print \"minimum curent = %.3f ampere\" %I_L_min\n",
      "print \"maximum curent = %.3f ampere\" %I_L_max"
     ],
     "language": "python",
     "metadata": {},
     "outputs": [
      {
       "output_type": "stream",
       "stream": "stdout",
       "text": [
        "minimum value of load resistance = 489.16 ohm\n",
        "minimum curent = 0.000 ampere\n",
        "maximum curent = 0.025 ampere"
       ]
      }
     ],
     "prompt_number": 7
    },
    {
     "cell_type": "markdown",
     "metadata": {},
     "source": [
      "<h3>Example 3.7, Page Number: 94<h3>"
     ]
    },
    {
     "cell_type": "code",
     "collapsed": false,
     "input": [
      "\n",
      "\n",
      "# variable declaration\n",
      "V_IN=24.0;          #voltage in volt\n",
      "V_Z=15.0;           #voltage in volt\n",
      "I_ZK=0.25*10**-3;   #current in ampere\n",
      "I_ZT=17*10**-3;     #current in ampere\n",
      "Z_ZT=14.0;          #impedence\n",
      "P_D_max=1.0;        #max power dissipation\n",
      "\n",
      "#calculation\n",
      "V_out_1=V_Z-(I_ZT-I_ZK)*Z_ZT;     #output voltage at I_ZK\n",
      "print \"output voltage at I_ZK = %.2f volt\" %V_out_1\n",
      "I_ZM=P_D_max/V_Z;\n",
      "\n",
      "V_out_2=V_Z+(I_ZM-I_ZT)*Z_ZT;     #output voltage at I_ZM\n",
      "print \"output voltage a I_ZM = %.2f volt\" %V_out_2\n",
      "R=(V_IN-V_out_2)/I_ZM;            #resistance\n",
      "print \"value of R for maximum zener current, no load = %.2f ohm\" %R\n",
      "print \"closest practical value is 130 ohms\"\n",
      "R=130.0;\n",
      "#for minimum load resistance(max load current) zener current is minimum (I_ZK)\n",
      "I_T=(V_IN-V_out_1)/R;     #current\n",
      "I_L=I_T-I_ZK;             #current\n",
      "R_L_min=V_out_1/I_L;      #minimum load resistance\n",
      "\n",
      "#result\n",
      "print \"minimum load resistance = %.2f ohm\" %R_L_min"
     ],
     "language": "python",
     "metadata": {},
     "outputs": [
      {
       "output_type": "stream",
       "stream": "stdout",
       "text": [
        "output voltage at I_ZK = 14.77 volt\n",
        "output voltage a I_ZM = 15.70 volt\n",
        "value of R for maximum zener current, no load = 124.57 ohm\n",
        "closest practical value is 130 ohms\n",
        "minimum load resistance = 208.60 ohm"
       ]
      }
     ],
     "prompt_number": 8
    },
    {
     "cell_type": "markdown",
     "metadata": {},
     "source": [
      "<h3>Example 3.8, Page Number: 96<h3>"
     ]
    },
    {
     "cell_type": "code",
     "collapsed": false,
     "input": [
      "\n",
      "\n",
      "#variable declaration\n",
      "V_p_in=10.0;   #Peak input voltage\n",
      "V_th=0.7;      #forward biased zener\n",
      "V_Z1=5.1;\n",
      "V_Z2=3.3;\n",
      "\n",
      "V_p_in=20.0;\n",
      "V_Z1=6.2;\n",
      "V_Z2=15.0;\n",
      "\n",
      "#result\n",
      "print('max voltage = %.1f V'%(V_Z1+V_th))\n",
      "print('min voltage = %.1f V'%(-(V_Z2+V_th)))"
     ],
     "language": "python",
     "metadata": {},
     "outputs": [
      {
       "output_type": "stream",
       "stream": "stdout",
       "text": [
        "max voltage = 6.9 V\n",
        "min voltage = -15.7 V"
       ]
      }
     ],
     "prompt_number": 9
    }
   ],
   "metadata": {}
  }
 ]
}