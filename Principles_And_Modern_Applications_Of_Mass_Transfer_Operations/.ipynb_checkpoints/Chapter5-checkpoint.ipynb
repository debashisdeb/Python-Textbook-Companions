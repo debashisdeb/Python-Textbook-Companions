{
 "metadata": {
  "name": "",
  "signature": "sha256:c4c502bfd6580fd1868fbcea67aad93ec7389e68f949d2b682e69f6f1b08d677"
 },
 "nbformat": 3,
 "nbformat_minor": 0,
 "worksheets": [
  {
   "cells": [
    {
     "cell_type": "markdown",
     "metadata": {},
     "source": [
      "<h1>Chapter 5: Transistor Bias Circuits<h1>"
     ]
    },
    {
     "cell_type": "markdown",
     "metadata": {},
     "source": [
      "<h3>Example 5.1, Page Number: 146<h3>"
     ]
    },
    {
     "cell_type": "code",
     "collapsed": false,
     "input": [
      "%pylab inline"
     ],
     "language": "python",
     "metadata": {},
     "outputs": [
      {
       "output_type": "stream",
       "stream": "stdout",
       "text": [
        "\n",
        "Welcome to pylab, a matplotlib-based Python environment [backend: module://IPython.zmq.pylab.backend_inline].\n",
        "For more information, type 'help(pylab)'."
       ]
      }
     ],
     "prompt_number": 1
    },
    {
     "cell_type": "code",
     "collapsed": false,
     "input": [
      "\n",
      "\n",
      "# variable declaration\n",
      "V_BB=10.0;        #voltage in volt\n",
      "V_CC=20.0;        #voltage in volt\n",
      "B_DC=200.0;       #B_DC value\n",
      "R_B=47.0*10**3;   #resistance in ohm\n",
      "R_C=330.0;        #resistance in ohm\n",
      "V_BE=0.7;       #voltage in volt\n",
      "\n",
      "#current\n",
      "I_B=(V_BB-V_BE)/R_B;    #base current\n",
      "I_C=B_DC*I_B;           #Q POINT\n",
      "V_CE=V_CC-I_C*R_C;      #Q POINT\n",
      "I_C_sat=V_CC/R_C;       #saturation current\n",
      "I_c_peak=I_C_sat-I_C;   #peak current  \n",
      "I_b_peak=I_c_peak/B_DC; #peak current in ampere\n",
      "\n",
      "#result\n",
      "print \"Q point of I_C = %.3f amperes\" %I_C\n",
      "print \"Q point of V_CE = %.2f volts\" %V_CE\n",
      "print \"peak base current = %.4f amperes\" %I_b_peak"
     ],
     "language": "python",
     "metadata": {},
     "outputs": [
      {
       "output_type": "stream",
       "stream": "stdout",
       "text": [
        "Q point of I_C = 0.040 amperes\n",
        "Q point of V_CE = 6.94 volts\n",
        "peak base current = 0.0001 amperes"
       ]
      }
     ],
     "prompt_number": 2
    },
    {
     "cell_type": "markdown",
     "metadata": {},
     "source": [
      "<h3>Example 5.2, Page Number: 149<h3>"
     ]
    },
    {
     "cell_type": "code",
     "collapsed": false,
     "input": [
      "\n",
      "\n",
      "# variable declaration\n",
      "B_DC=125.0;   #DC value\n",
      "R_E=10.0**3;  #resistance in ohm\n",
      "\n",
      "#calculation\n",
      "R_IN_base=B_DC*R_E;  #base resistance\n",
      "\n",
      "#Result\n",
      "print \"DC input resistance, looking at base of transistor = %d ohm\" %R_IN_base"
     ],
     "language": "python",
     "metadata": {},
     "outputs": [
      {
       "output_type": "stream",
       "stream": "stdout",
       "text": [
        "DC input resistance, looking at base of transistor = 125000 ohm"
       ]
      }
     ],
     "prompt_number": 3
    },
    {
     "cell_type": "markdown",
     "metadata": {},
     "source": [
      "<h3>Example 5.3, Page Number: 151<h3>"
     ]
    },
    {
     "cell_type": "code",
     "collapsed": false,
     "input": [
      "\n",
      "\n",
      "# variable declaration\n",
      "B_DC=100;         #DC value\n",
      "R1=10*10**3;       #resistance in ohm\n",
      "R2=5.6*10**3;      #resistance in ohm\n",
      "R_C=1*10**3;       #resistance in ohm\n",
      "R_E=560;          #resistance in ohm\n",
      "V_CC=10;          #voltage in volt\n",
      "V_BE=0.7          #voltage in volt\n",
      "\n",
      "#calculation\n",
      "R_IN_base=B_DC*R_E;  #calculate base resistance\n",
      "#We can neglect R_IN_base as it is equal to 10*R2\n",
      "print \"input resistance seen from base = %d ohm\" %R_IN_base\n",
      "print \"which can be neglected as it is 10 times R2\"\n",
      "\n",
      "V_B=(R2/(R1+R2))*V_CC;   #base voltage\n",
      "V_E=V_B-V_BE;            #emitter voltage\n",
      "I_E=V_E/R_E;             #emitter current\n",
      "I_C=I_E;                 #currents are equal\n",
      "V_CE=V_CC-I_C*(R_C+R_E); #voltage in volt\n",
      "\n",
      "#result\n",
      "print \"V_CE = %.2f volts\" %V_CE\n",
      "print \"I_C = %.3f amperes\" %I_C\n",
      "print \"Since V_CE>0V, transistor is not in saturation\""
     ],
     "language": "python",
     "metadata": {},
     "outputs": [
      {
       "output_type": "stream",
       "stream": "stdout",
       "text": [
        "input resistance seen from base = 56000 ohm\n",
        "which can be neglected as it is 10 times R2\n",
        "V_CE = 1.95 volts\n",
        "I_C = 0.005 amperes\n",
        "Since V_CE>0V, transistor is not in saturation"
       ]
      }
     ],
     "prompt_number": 4
    },
    {
     "cell_type": "markdown",
     "metadata": {},
     "source": [
      "<h3>Example 5.4, Page Number: 154<h3>"
     ]
    },
    {
     "cell_type": "code",
     "collapsed": false,
     "input": [
      "\n",
      "\n",
      "# variable declaration\n",
      "V_EE=10.0;           #voltage in volt\n",
      "V_BE=0.7;            #voltage in volt\n",
      "B_DC=150.0;          #DC value \n",
      "R1=22.0*10**3;       #resistance in ohm\n",
      "R2=10.0*10**3;       #resistance in ohm\n",
      "R_C=2.2*10**3;       #resistance in ohm\n",
      "R_E=1.0*10**3;       #resistance in ohm\n",
      "\n",
      "#calculation\n",
      "R_IN_base=B_DC*R_E;    #R_IN_base>10*R2,so it can be neglected\n",
      "print \"input resistance as seen from base = %d ohm\" %R_IN_base\n",
      "print \"it can be neglected as it is greater than 10 times R2\"\n",
      "V_B=(R1/(R1+R2))*V_EE;   #base voltage\n",
      "V_E=V_B+V_BE;            #emitter voltage\n",
      "I_E=(V_EE-V_E)/R_E;      #emitter current\n",
      "I_C=I_E;                 #currents are equal\n",
      "V_C=I_C*R_C;             #collector voltage\n",
      "V_EC=V_E-V_C;            #emitter-collector voltage\n",
      "\n",
      "#result\n",
      "print \"I_C collector current = %.4f amperes\" %I_C\n",
      "print \"V_EC emitter-collector voltage = %.2f Volts\" %V_EC"
     ],
     "language": "python",
     "metadata": {},
     "outputs": [
      {
       "output_type": "stream",
       "stream": "stdout",
       "text": [
        "input resistance as seen from base = 150000 ohm\n",
        "it can be neglected as it is greater than 10 times R2\n",
        "I_C collector current = 0.0024 amperes\n",
        "V_EC emitter-collector voltage = 2.24 Volts"
       ]
      }
     ],
     "prompt_number": 5
    },
    {
     "cell_type": "markdown",
     "metadata": {},
     "source": [
      "<h3>Example 5.5, PAge Number: 154<h3>"
     ]
    },
    {
     "cell_type": "code",
     "collapsed": false,
     "input": [
      "\n",
      "\n",
      "# variable declaration\n",
      "R1=68.0*10**3;      #resistance in ohm\n",
      "R2=47.0*10**3;      #resistance in ohm\n",
      "R_C=1.8*10**3;      #resistance in ohm\n",
      "R_E=2.2*10**3;      #resistance in ohm\n",
      "V_CC=-6.0;          #voltage in volt\n",
      "V_BE=0.7;           #voltage in volt\n",
      "B_DC=75.0;          #DC value\n",
      "\n",
      "#calculation\n",
      "R_IN_base=B_DC*R_E;\n",
      "print \"input resistance as seen from base\"\n",
      "print \"is not greater than 10 times R2 so it should be taken into account\"\n",
      "#R_IN_base  in parallel with R2\n",
      "V_B=((R2*R_IN_base)/(R2+R_IN_base)/(R1+(R2*R_IN_base)/(R2+R_IN_base)))*V_CC;\n",
      "V_E=V_B+V_BE;      #emitter voltage\n",
      "I_E=V_E/R_E;       #emitter current\n",
      "I_C=I_E;           #currents are equal\n",
      "V_C=V_CC-I_C*R_C;  #collector voltage\n",
      "V_CE=V_C-V_E;      #collector-emitter voltage\n",
      "\n",
      "#result\n",
      "print \"collector current = %.4f amperes\" %I_C\n",
      "print \"collector emitter voltage = %.2f volts\" %V_CE"
     ],
     "language": "python",
     "metadata": {},
     "outputs": [
      {
       "output_type": "stream",
       "stream": "stdout",
       "text": [
        "input resistance as seen from base\n",
        "is not greater than 10 times R2 so it should be taken into account\n",
        "collector current = -0.0006 amperes\n",
        "collector emitter voltage = -3.46 volts"
       ]
      }
     ],
     "prompt_number": 6
    },
    {
     "cell_type": "markdown",
     "metadata": {},
     "source": [
      "<h3>Example 5.6, Page Number: 156<h3>"
     ]
    },
    {
     "cell_type": "code",
     "collapsed": false,
     "input": [
      "\n",
      "# variable declaration\n",
      "V_CC=12.0;       #voltage in volt\n",
      "R_B=100.0*10**3; #resistance in ohm\n",
      "R_C=560.0;       #resistance in ohm\n",
      "#FOR B_DC=85 AND V_BE=0.7V\n",
      "B_DC=85.0;       #DC value\n",
      "V_BE=0.7;        #base-emitter voltage\n",
      "\n",
      "#calculation\n",
      "I_C_1=B_DC*(V_CC-V_BE)/R_B;  #collector current\n",
      "V_CE_1=V_CC-I_C_1*R_C;       #collector-emittor voltage\n",
      "#FOR B_DC=100 AND V_BE=0.6V\n",
      "B_DC=100.0;                  #DC value \n",
      "V_BE=0.6;                    #base emitter voltage\n",
      "I_C_2=B_DC*(V_CC-V_BE)/R_B;               #collector current\n",
      "V_CE_2=V_CC-I_C_2*R_C;                    #voltage in volt\n",
      "p_del_I_C=((I_C_2-I_C_1)/I_C_1)*100;      #percent change in collector current   \n",
      "p_del_V_CE=((V_CE_2-V_CE_1)/V_CE_1)*100;  #percent change in C-E voltage\n",
      "\n",
      "#result\n",
      "print \"percent change in collector current = %.2f\" %p_del_I_C\n",
      "print \"percent change in collector emitter voltage = %.2f\" %p_del_V_CE"
     ],
     "language": "python",
     "metadata": {},
     "outputs": [
      {
       "output_type": "stream",
       "stream": "stdout",
       "text": [
        "percent change in collector current = 18.69\n",
        "percent change in collector emitter voltage = -15.18"
       ]
      }
     ],
     "prompt_number": 7
    },
    {
     "cell_type": "markdown",
     "metadata": {},
     "source": [
      "<h3>Example 5.7, Page Number: 159<h3>"
     ]
    },
    {
     "cell_type": "code",
     "collapsed": false,
     "input": [
      "\n",
      "\n",
      "# variable declaration\n",
      "V_CC=20.0;         #voltage in volt\n",
      "R_C=4.7*10**3;     #resistance in ohm\n",
      "R_E=10.0*10**3;    #resistance in ohm\n",
      "V_EE=-20.0;        #voltage in volt\n",
      "R_B=100*10**3;     #resistance in ohm\n",
      "#FOR B_DC=85 AND V_BE=0.7V\n",
      "B_DC=85;           #DC value\n",
      "V_BE=0.7;          #base-emitter voltage\n",
      "I_C_1=(-V_EE-V_BE)/(R_E+(R_B/B_DC));\n",
      "V_C=V_CC-I_C_1*R_C;  #colector voltage\n",
      "I_E=I_C_1;           #emittor current\n",
      "V_E=V_EE+I_E*R_E;    #emittor voltage\n",
      "V_CE_1=V_C-V_E;      #CE voltage\n",
      "print \"I_C_1 = %.3f\" %I_C_1\n",
      "print \"V_CE_1 = %.2f\" %V_CE_1\n",
      "#FOR B_DC=100 AND V_BE=0.6V\n",
      "B_DC=100;          #DC value     \n",
      "V_BE=0.6;          #base-emitter voltage\n",
      "I_C_2=(-V_EE-V_BE)/(R_E+(R_B/B_DC));\n",
      "V_C=V_CC-I_C_2*R_C;#colector voltage\n",
      "I_E=I_C_2;         #emittor current\n",
      "V_E=V_EE+I_E*R_E;  #emittor voltage\n",
      "V_CE_2=V_C-V_E;    #CE voltage\n",
      "print \"I_C_2 = %.3f\" %I_C_2\n",
      "print \"V_CE_2 = %.2f\" %V_CE_2\n",
      "\n",
      "p_del_I_C=((I_C_2-I_C_1)/I_C_1)*100;\n",
      "p_del_V_CE=((V_CE_2-V_CE_1)/V_CE_1)*100;\n",
      "print \"percent change in collector currrent = %.2f\" %p_del_I_C\n",
      "print \"percent change in collector emitter voltage = %.2f\" %p_del_V_CE\n",
      "print \"answers in book are approximated\""
     ],
     "language": "python",
     "metadata": {},
     "outputs": [
      {
       "output_type": "stream",
       "stream": "stdout",
       "text": [
        "I_C_1 = 0.002\n",
        "V_CE_1 = 14.61\n",
        "I_C_2 = 0.002\n",
        "V_CE_2 = 14.07\n",
        "percent change in collector currrent = 2.13\n",
        "percent change in collector emitter voltage = -3.69\n",
        "answers in book are approximated"
       ]
      }
     ],
     "prompt_number": 8
    },
    {
     "cell_type": "markdown",
     "metadata": {},
     "source": [
      "<h3>Example 5.8, Page Number: 161<h3>"
     ]
    },
    {
     "cell_type": "code",
     "collapsed": false,
     "input": [
      "\n",
      "\n",
      "# variable declaratio\n",
      "V_CC=10.0;        #voltage in volt\n",
      "B_DC=100.0;       #Dc value\n",
      "R_C=10.0*10**3;   #resistance in ohm\n",
      "R_B=100.0*10**3;  #resistance in ohm\n",
      "V_BE=0.7;         #base-emittor voltage\n",
      "\n",
      "#calculation\n",
      "I_C=(V_CC-V_BE)/(R_C+(R_B/B_DC));  #collector current\n",
      "V_CE=V_CC-I_C*R_C;                 #CE voltage\n",
      "\n",
      "#result\n",
      "print \"Q point of collector current %.4f amperes\" %I_C\n",
      "print \"Q point of collector-emitter voltage %.3f volts\" %V_CE"
     ],
     "language": "python",
     "metadata": {},
     "outputs": [
      {
       "output_type": "stream",
       "stream": "stdout",
       "text": [
        "Q point of collector current 0.0008 amperes\n",
        "Q point of collector-emitter voltage 1.545 volts"
       ]
      }
     ],
     "prompt_number": 9
    }
   ],
   "metadata": {}
  }
 ]
}