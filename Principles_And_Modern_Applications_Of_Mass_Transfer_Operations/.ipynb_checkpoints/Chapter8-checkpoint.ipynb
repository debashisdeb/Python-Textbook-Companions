{
 "metadata": {
  "name": "",
  "signature": "sha256:bace9e702292e3d3629b1af1b04f785ea7b14f0684491da077287b62be815475"
 },
 "nbformat": 3,
 "nbformat_minor": 0,
 "worksheets": [
  {
   "cells": [
    {
     "cell_type": "markdown",
     "metadata": {},
     "source": [
      "<h1>Chapter 8: FET Amplifiers<h1>"
     ]
    },
    {
     "cell_type": "markdown",
     "metadata": {},
     "source": [
      "<h3>Example 8.1, Page Number: 253<h3>"
     ]
    },
    {
     "cell_type": "code",
     "collapsed": false,
     "input": [
      "\n",
      "# variable declaration\n",
      "g_m=4.0*10**-3; #gm value\n",
      "R_d=1.5*10**3;  #resistance\n",
      "\n",
      "#calculation\n",
      "A_v=g_m*R_d;     #voltage gain\n",
      "\n",
      "#result\n",
      "print \"Voltage gain = %.2f\" %A_v"
     ],
     "language": "python",
     "metadata": {},
     "outputs": [
      {
       "output_type": "stream",
       "stream": "stdout",
       "text": [
        "Voltage gain = 6.00"
       ]
      }
     ],
     "prompt_number": 1
    },
    {
     "cell_type": "markdown",
     "metadata": {},
     "source": [
      "<h3>Example 8.2, Page Number: 253<h3>"
     ]
    },
    {
     "cell_type": "code",
     "collapsed": false,
     "input": [
      "\n",
      "\n",
      "# variable declaration\n",
      "r_ds=10.0*10**3;\n",
      "R_d=1.5*10**3;    #from previous question\n",
      "g_m=4.0*10**-3;   #from previous question\n",
      "\n",
      "#calculation\n",
      "A_v=g_m*((R_d*r_ds)/(R_d+r_ds));  #voltage gain\n",
      "\n",
      "#result\n",
      "print \"Voltage gain = %.2f\" %A_v"
     ],
     "language": "python",
     "metadata": {},
     "outputs": [
      {
       "output_type": "stream",
       "stream": "stdout",
       "text": [
        "Voltage gain = 5.22"
       ]
      }
     ],
     "prompt_number": 2
    },
    {
     "cell_type": "markdown",
     "metadata": {},
     "source": [
      "<h3>Example 8.3, Page Number:254<h3>"
     ]
    },
    {
     "cell_type": "code",
     "collapsed": false,
     "input": [
      "\n",
      "\n",
      "# variable declaration\n",
      "R_s=560;       #resistance in ohm\n",
      "R_d=1.5*10**3;  #resistance in ohm\n",
      "g_m=4*10**-3;   #g_m value\n",
      "\n",
      "#calculation\n",
      "A_v=(g_m*R_d)/(1+(g_m*R_s))  #voltage gain\n",
      "\n",
      "#result\n",
      "print \"Voltage gain = %.2f\" %A_v"
     ],
     "language": "python",
     "metadata": {},
     "outputs": [
      {
       "output_type": "stream",
       "stream": "stdout",
       "text": [
        "Voltage gain = 1.85"
       ]
      }
     ],
     "prompt_number": 3
    },
    {
     "cell_type": "markdown",
     "metadata": {},
     "source": [
      "<h3>Example 8.4, Page Number: 257<h3>"
     ]
    },
    {
     "cell_type": "code",
     "collapsed": false,
     "input": [
      "\n",
      "\n",
      "#Variable declaration\n",
      "vdd=12.0 #volts\n",
      "Id=1.96*10**-3 #Amp\n",
      "Rd=3.3*10**3 #ohm\n",
      "Idss=12.0*10**-3 #Amp\n",
      "Rs=910           # Ohm\n",
      "vgsoff= 3         #v\n",
      "vin=0.1          #V\n",
      "\n",
      "#calculation\n",
      "vd=vdd-(Id*Rd)\n",
      "vgs=-Id*Rs\n",
      "gm0=2*Idss/(abs(vgsoff))\n",
      "gm=0.00325         #mS\n",
      "vout=gm*Rd*vin\n",
      "vout=vout*2*1.414\n",
      "#Result\n",
      "print\"Total output ac voltage(peak-to-peak) = %f V \\nridig on DC value of %fV \"%(vout,vd)"
     ],
     "language": "python",
     "metadata": {},
     "outputs": [
      {
       "output_type": "stream",
       "stream": "stdout",
       "text": [
        "Total output ac voltage(peak-to-peak) = 3.033030 V \n",
        "ridig on DC value of 5.532000V "
       ]
      }
     ],
     "prompt_number": 4
    },
    {
     "cell_type": "markdown",
     "metadata": {},
     "source": [
      "<h3>Example 8.5, Page Number: 258<h3>"
     ]
    },
    {
     "cell_type": "code",
     "collapsed": false,
     "input": [
      "\n",
      "# variable declaration\n",
      "R_D=3.3*10**3;    #resistance in ohm\n",
      "R_L=4.7*10**3;    #load resistance in ohm\n",
      "g_m=3.25*10**-3;   #from previous question\n",
      "V_in=100.0*10**-3;   #previous question\n",
      "\n",
      "#calculation\n",
      "R_d=(R_D*R_L)/(R_D+R_L);    #Equivalent drain resistance\n",
      "V_out=g_m*R_d*V_in;         #output RMS voltage in volt\n",
      "\n",
      "#result\n",
      "print \"Output voltage rms value = %.2f Volts\" %V_out"
     ],
     "language": "python",
     "metadata": {},
     "outputs": [
      {
       "output_type": "stream",
       "stream": "stdout",
       "text": [
        "Output voltage rms value = 0.63 Volts"
       ]
      }
     ],
     "prompt_number": 5
    },
    {
     "cell_type": "markdown",
     "metadata": {},
     "source": [
      "<h3>Example 8.6, Page Number: 259<h3>"
     ]
    },
    {
     "cell_type": "code",
     "collapsed": false,
     "input": [
      "\n",
      "# variable declaration\n",
      "I_GSS=30.0*10**-9;           #current in ampere\n",
      "V_GS=10.0;                   #ground-source voltage\n",
      "R_G=10.0*10**6;              #resistance in ohm\n",
      "\n",
      "#calculation\n",
      "R_IN_gate=V_GS/I_GSS;                    #gate input resistance\n",
      "R_in=(R_IN_gate*R_G)/(R_IN_gate+R_G);    #parallel combination\n",
      "\n",
      "#result\n",
      "print \"Input resistance as seen by signal source = %.2f ohm\" %R_in"
     ],
     "language": "python",
     "metadata": {},
     "outputs": [
      {
       "output_type": "stream",
       "stream": "stdout",
       "text": [
        "Input resistance as seen by signal source = 9708737.86 ohm"
       ]
      }
     ],
     "prompt_number": 6
    },
    {
     "cell_type": "markdown",
     "metadata": {},
     "source": [
      "<h3>Example 8.7, Page Number: 260<h3>"
     ]
    },
    {
     "cell_type": "code",
     "collapsed": false,
     "input": [
      "\n",
      "\n",
      "# variable declaration\n",
      "I_DSS=200.0*10**-3;\n",
      "g_m=200.0*10**-3;\n",
      "V_in=500.0*10**-3;\n",
      "V_DD=15.0;\n",
      "R_D=33.0;\n",
      "R_L=8.2*10**3;\n",
      "\n",
      "#calculation\n",
      "I_D=I_DSS;    #Amplifier is zero biased\n",
      "V_D=V_DD-I_D*R_D;\n",
      "R_d=(R_D*R_L)/(R_D+R_L);\n",
      "V_out=g_m*R_d*V_in;\n",
      "\n",
      "#result\n",
      "print \"DC output voltage = %.2f Volts\" %V_D\n",
      "print \"AC output voltage = %.2f volts\" %V_out"
     ],
     "language": "python",
     "metadata": {},
     "outputs": [
      {
       "output_type": "stream",
       "stream": "stdout",
       "text": [
        "DC output voltage = 8.40 Volts\n",
        "AC output voltage = 3.29 volts"
       ]
      }
     ],
     "prompt_number": 7
    },
    {
     "cell_type": "markdown",
     "metadata": {},
     "source": [
      "<h3>Example 8.8, Page Number: 262<h3>"
     ]
    },
    {
     "cell_type": "code",
     "collapsed": false,
     "input": [
      "\n",
      "\n",
      "\n",
      "print \"Part A:\\nQ point: V_GS=-2V I_D=2.5mA. At V_GS=-1V, I_D=3.4mA,\"\n",
      "print \"At V_GS=-3V, I_D=1.8mA. So peak to peak drain current is\" \n",
      "print \"the difference of the two drain currents=1.6mA\"\n",
      "print \"\\nPart B:\\nQ point: V_GS=0V I_D=4mA. At V_GS=1V, I_D=5.3mA,\"\n",
      "print \"At V_GS=-1V, I_D=2.5mA. So peak to peak drain current is\"\n",
      "print\" the difference of the two drain currents=2.8mA\"\n",
      "print \"\\nPart C:\\nQ point: V_GS=8V I_D=2.5mA. At V_GS=9V, I_D=3.9mA,\"\n",
      "print \" At V_GS=7V, I_D=1.7mA. So peak to peak drain current is\"\n",
      "print \" the difference of the two drain currents=2.2mA\""
     ],
     "language": "python",
     "metadata": {},
     "outputs": [
      {
       "output_type": "stream",
       "stream": "stdout",
       "text": [
        "Part A:\n",
        "Q point: V_GS=-2V I_D=2.5mA. At V_GS=-1V, I_D=3.4mA,\n",
        "At V_GS=-3V, I_D=1.8mA. So peak to peak drain current is\n",
        "the difference of the two drain currents=1.6mA\n",
        "\n",
        "Part B:\n",
        "Q point: V_GS=0V I_D=4mA. At V_GS=1V, I_D=5.3mA,\n",
        "At V_GS=-1V, I_D=2.5mA. So peak to peak drain current is\n",
        " the difference of the two drain currents=2.8mA\n",
        "\n",
        "Part C:\n",
        "Q point: V_GS=8V I_D=2.5mA. At V_GS=9V, I_D=3.9mA,\n",
        " At V_GS=7V, I_D=1.7mA. So peak to peak drain current is\n",
        " the difference of the two drain currents=2.2mA"
       ]
      }
     ],
     "prompt_number": 8
    },
    {
     "cell_type": "markdown",
     "metadata": {},
     "source": [
      "<h3>Example 8.9, Page Number:263 <h3>"
     ]
    },
    {
     "cell_type": "code",
     "collapsed": false,
     "input": [
      "\n",
      "\n",
      "# variable declaration\n",
      "R_1=47.0*10**3;\n",
      "R_2=8.2*10**3;\n",
      "R_D=3.3*10**3;\n",
      "R_L=33.0*10**3;\n",
      "I_D_on=200.0*10**-3;\n",
      "V_GS=4.0;\n",
      "V_GS_th=2.0;\n",
      "g_m=23*10**-3;\n",
      "V_in=25*10**-3;\n",
      "V_DD=15.0;\n",
      "\n",
      "#calculation\n",
      "V_GSnew=(R_2/(R_1+R_2))*V_DD;\n",
      "K=I_D_on/((V_GS-V_GS_th)**2)\n",
      "#K=value_of_K(200*10**-3,4,2);\n",
      "K=K*1000;\n",
      "I_D=K*((V_GSnew-V_GS_th)**2);\n",
      "V_DS=V_DD-I_D*R_D/1000;\n",
      "R_d=(R_D*R_L)/(R_D+R_L);\n",
      "V_out=g_m*V_in*R_d;\n",
      "\n",
      "#result\n",
      "print \"Drain to source voltage = %.2f volts\" %V_GSnew\n",
      "print \"Drain current = %.2f mA\" %I_D\n",
      "print \"Gate to source voltage = %.2f volts\" %V_DS\n",
      "print \"AC output voltage = %.2f volts\" %V_out\n",
      "print \"Answer in textbook are approximated\""
     ],
     "language": "python",
     "metadata": {},
     "outputs": [
      {
       "output_type": "stream",
       "stream": "stdout",
       "text": [
        "Drain to source voltage = 2.23 volts\n",
        "Drain current = 2.61 mA\n",
        "Gate to source voltage = 6.40 volts\n",
        "AC output voltage = 1.72 volts\n",
        "Answer in textbook are approximated"
       ]
      }
     ],
     "prompt_number": 9
    },
    {
     "cell_type": "markdown",
     "metadata": {},
     "source": [
      "<h3>Example 8.10, Page Number: 266<h3>"
     ]
    },
    {
     "cell_type": "code",
     "collapsed": false,
     "input": [
      "\n",
      "\n",
      "# variable declaration\n",
      "V_DD=-15.0;    #p=channel MOSFET\n",
      "g_m=2000.0*10**-6;    #minimum value from datasheets\n",
      "R_D=10.0*10**3;\n",
      "R_L=10.0*10**3;\n",
      "R_S=4.7*10**3;\n",
      "\n",
      "#calculation\n",
      "R_d=(R_D*R_L)/(R_D+R_L);    #effective drain resistance\n",
      "A_v=g_m*R_d;\n",
      "R_in_source=1.0/g_m;\n",
      "#signal souce sees R_S in parallel with ip rest at source terminal(R_in_source)\n",
      "R_in=(R_in_source*R_S)/(R_in_source+R_S);   \n",
      "\n",
      "#result \n",
      "print \"minimum voltage gain = %.2f\" %A_v\n",
      "print \"Input resistance seen from signal source = %.2f ohms\" %R_in"
     ],
     "language": "python",
     "metadata": {},
     "outputs": [
      {
       "output_type": "stream",
       "stream": "stdout",
       "text": [
        "minimum voltage gain = 10.00\n",
        "Input resistance seen from signal source = 451.92 ohms"
       ]
      }
     ],
     "prompt_number": 10
    }
   ],
   "metadata": {}
  }
 ]
}