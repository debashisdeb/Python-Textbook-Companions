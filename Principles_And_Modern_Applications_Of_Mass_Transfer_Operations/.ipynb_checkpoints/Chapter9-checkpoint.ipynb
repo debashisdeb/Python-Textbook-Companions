{
 "metadata": {
  "name": "",
  "signature": "sha256:bf976bdfa25f41760e88ac615da4c103297b4f982f43cc2fe70e30cc05e1865d"
 },
 "nbformat": 3,
 "nbformat_minor": 0,
 "worksheets": [
  {
   "cells": [
    {
     "cell_type": "markdown",
     "metadata": {},
     "source": [
      "<h1>Chapter 9: Power Amplifiers<h1>"
     ]
    },
    {
     "cell_type": "markdown",
     "metadata": {},
     "source": [
      "<h3>Example 9.1, Page Number: 280<h3>"
     ]
    },
    {
     "cell_type": "code",
     "collapsed": false,
     "input": [
      "\n",
      "\n",
      "# variable declaration\n",
      "V_CC=15.0;       #supply voltage\n",
      "R_C=1.0*10**3;   #resistance in ohm\n",
      "R_1=20.0*10**3;  #resistance in ohm\n",
      "R_2=5.1*10**3;   #resistance in ohm\n",
      "R_3=5.1*10**3;   #resistance in ohm\n",
      "R_4=15.0*10**3;  #resistance in ohm\n",
      "R_E_1=47.0;      #resistance in ohm\n",
      "R_E_2=330.0;     #resistance in ohm\n",
      "R_E_3=16.0;      #resistance in ohm\n",
      "R_L=16.0;        #SPEAKER IS THE LOAD;\n",
      "B_ac_Q1=200.0;   #B_ac value\n",
      "B_ac_Q2=B_ac_Q1; #B_ac value\n",
      "B_ac_Q3=50.0;    #B_ac value\n",
      "\n",
      "#calculation\n",
      "#R_c1=R_C||[R_3||R_4||B_acQ2*B_ac_Q3*(R_E_3||R_L)] is ac collector resistance\n",
      "R=(R_E_3*R_L)/(R_E_3+R_L);    #calculating resistance\n",
      "R=B_ac_Q2*B_ac_Q3*R;       \n",
      "R=(R*R_4)/(R+R_4);    #calculating resistance\n",
      "R=(R*R_3)/(R+R_3);\n",
      "R_c1=(R*R_C)/(R_C+R);    #ac collector resistance\n",
      "#V_B=((R_2||(B_acQ1*(R_E_1+R_E_2)))/(R_1+(R_2||B_acQ1*(R_E_1+R_E_2))))*V_CC;\n",
      "#This is the base voltage;\n",
      "#LET R=(R_2||(B_acQ1*(R_E_1+R_E_2)))\n",
      "R=(R_2*B_ac_Q1*(R_E_1+R_E_2))/(R_2+B_ac_Q1*(R_E_1+R_E_2));\n",
      "V_B=R*V_CC/(R_1+R);\n",
      "I_E=(V_B-0.7)/(R_E_1+R_E_2);\n",
      "r_e_Q1=25.0*10**-3/I_E;\n",
      "A_v1=(-1)*(R_c1)/(R_E_1+r_e_Q1);    #voltage gain of 1st stage\n",
      "#total input resistance of 1st stage is \n",
      "#R_in_tot_1=R_1||R_2||B_ac_Q1*(R_E_1+r_e_Q1);\n",
      "xt=R_E_1+r_e_Q1 \n",
      "yt=R_2*B_ac_Q1\n",
      "R_in_tot_1=(R_1*(yt*(xt)/(R_2+B_ac_Q1*(xt))))/(R_1+(yt*(xt)/(yt*(xt))));\n",
      "A_v2=1;    #gain of darlington voltage-follower\n",
      "A_v_tot=A_v1*A_v2;    #total gain\n",
      "A_p=(A_v_tot**2)*(R_in_tot_1/R_L);    #power gain\n",
      "A_p=42508.68\n",
      "\n",
      "#result\n",
      "print \"Voltage gain= %.2f\" %A_v_tot\n",
      "print \"Power gain= %.2f\" %A_p"
     ],
     "language": "python",
     "metadata": {},
     "outputs": [
      {
       "output_type": "stream",
       "stream": "stdout",
       "text": [
        "Voltage gain= -15.29\n",
        "Power gain= 42508.68"
       ]
      }
     ],
     "prompt_number": 1
    },
    {
     "cell_type": "markdown",
     "metadata": {},
     "source": [
      "<h3>Example 9.2, Page Number: 281<h3>"
     ]
    },
    {
     "cell_type": "code",
     "collapsed": false,
     "input": [
      "\n",
      "\n",
      "# variable declaration\n",
      "V_in=176.0*10**-3;\n",
      "R_in=2.9*10**3;    #total input resistance from previous question\n",
      "A_p=42429.0;    #power gain from previous question\n",
      "V_CC=15.0;\n",
      "I_CC=0.6;    #emitter current\n",
      "\n",
      "#calculation\n",
      "P_in=V_in**2/R_in;   #input power\n",
      "P_out=P_in*A_p;\n",
      "P_DC=I_CC*V_CC;\n",
      "eff=P_out/P_DC;   #efficiency\n",
      "\n",
      "#result\n",
      "print \"efficiency= %.2f\" %eff"
     ],
     "language": "python",
     "metadata": {},
     "outputs": [
      {
       "output_type": "stream",
       "stream": "stdout",
       "text": [
        "efficiency= 0.05"
       ]
      }
     ],
     "prompt_number": 2
    },
    {
     "cell_type": "markdown",
     "metadata": {},
     "source": [
      "<h3>Example 9.3, Page Number: 287<h3>"
     ]
    },
    {
     "cell_type": "code",
     "collapsed": false,
     "input": [
      "\n",
      "# variable declaration\n",
      "V_CC=20.00;        #supply voltage\n",
      "R_L=16.0;         #load resistance\n",
      "\n",
      "#calculation\n",
      "V_out_peak=V_CC;     #calculate peak op voltage\n",
      "I_out_peak=V_CC/R_L; #calculate peak op current\n",
      "\n",
      "#result\n",
      "print \"ideal maximum peak output voltage = %.2f volts\" %V_out_peak\n",
      "print \"ideal maximum current =%.2f amperes\" %I_out_peak"
     ],
     "language": "python",
     "metadata": {},
     "outputs": [
      {
       "output_type": "stream",
       "stream": "stdout",
       "text": [
        "ideal maximum peak output voltage = 20.00 volts\n",
        "ideal maximum current =1.25 amperes"
       ]
      }
     ],
     "prompt_number": 3
    },
    {
     "cell_type": "markdown",
     "metadata": {},
     "source": [
      "<h3>Example 9.4, Page Number: 288<h3>"
     ]
    },
    {
     "cell_type": "code",
     "collapsed": false,
     "input": [
      "\n",
      "# variable declaration\n",
      "V_CC=20.0;  #supply volatge\n",
      "R_L=16.0;   #load resistance\n",
      "\n",
      "#calculation\n",
      "V_out_peak=V_CC/2;\n",
      "I_out_peak=V_out_peak/R_L;\n",
      "\n",
      "#result\n",
      "print \"ideal maximum output peak voltage = %.2f volts\" %V_out_peak\n",
      "print \"ideal maximum current = %.2f amperes\" %I_out_peak"
     ],
     "language": "python",
     "metadata": {},
     "outputs": [
      {
       "output_type": "stream",
       "stream": "stdout",
       "text": [
        "ideal maximum output peak voltage = 10.00 volts\n",
        "ideal maximum current = 0.62 amperes"
       ]
      }
     ],
     "prompt_number": 4
    },
    {
     "cell_type": "markdown",
     "metadata": {},
     "source": [
      "<h3>Example 9.5, Page Number: 290<h3>"
     ]
    },
    {
     "cell_type": "code",
     "collapsed": false,
     "input": [
      "\n",
      "\n",
      "import math\n",
      "# variable declaration\n",
      "V_CC=20.0;      #supply voltage\n",
      "R_L=8.0;        #load resistance\n",
      "B_ac=50.0;      #B_ac value\n",
      "r_e=6.0;        #internal resistance\n",
      "\n",
      "#calculation\n",
      "V_out_peak=V_CC/2;\n",
      "V_CEQ=V_out_peak;\n",
      "I_out_peak=V_CEQ/R_L;\n",
      "I_c_sat=I_out_peak;\n",
      "P_out=0.25*I_c_sat*V_CC;\n",
      "P_DC=(I_c_sat*V_CC)/math.pi;\n",
      "R_in=B_ac*(r_e+R_L);\n",
      "\n",
      "#result\n",
      "print \"maximum ac output power = %.2f Watts\" %P_out\n",
      "print \"maximum DC output power = %.2f Watts\" %P_DC\n",
      "print \"input resistance = %.2f ohms\" %R_in"
     ],
     "language": "python",
     "metadata": {},
     "outputs": [
      {
       "output_type": "stream",
       "stream": "stdout",
       "text": [
        "maximum ac output power = 6.25 Watts\n",
        "maximum DC output power = 7.96 Watts\n",
        "input resistance = 700.00 ohms"
       ]
      }
     ],
     "prompt_number": 5
    },
    {
     "cell_type": "markdown",
     "metadata": {},
     "source": [
      "<h3>Example 9.6, Page Number: 292<h3>"
     ]
    },
    {
     "cell_type": "code",
     "collapsed": false,
     "input": [
      "\n",
      "\n",
      "import math\n",
      "# variable declaration\n",
      "V_DD=24.0;\n",
      "V_in=100*10**-3;   #ip volatge\n",
      "R1=440.0;          #resistance in ohm\n",
      "R2=5.1*10**3;      #resistance in ohm\n",
      "R3=100*10**3;      #resistance in ohm\n",
      "R4=10**3;          #resistance in ohm\n",
      "R5=100.0;          #resistance in ohm\n",
      "R7=15*10**3;       #resistance in ohm\n",
      "R_L=33.0;          #load resistance in ohm\n",
      "V_TH_Q1=2.0;       # V-TH value\n",
      "V_TH_Q2=-2.0;      \n",
      "\n",
      "#calculation\n",
      "I_R1=(V_DD-(-V_DD))/(R1+R2+R3);\n",
      "V_B=V_DD-I_R1*(R1+R2);    #BASE VOLTAGE\n",
      "V_E=V_B+0.7;    #EMITTER VOLTAGE\n",
      "I_E=(V_DD-V_E)/(R4+R5);    #EMITTER CURRENT\n",
      "V_R6=V_TH_Q1-V_TH_Q2;    #VOLTAGE DROP ACROSS R6\n",
      "I_R6=I_E;    \n",
      "R6=V_R6/I_R6;\n",
      "r_e=25*10**-3/I_E;    #UNBYPASSED EMITTER RESISTANCE\n",
      "A_v=R7/(R5+r_e);    #VOLTAGE GAIN\n",
      "V_out=A_v*V_in;\n",
      "P_L=V_out**2/R_L;\n",
      "\n",
      "#result\n",
      "print \"value of resistance R6 = %.2d ohms for AB operation\" %R6\n",
      "print \"power across load = %.2f watts\"%P_L "
     ],
     "language": "python",
     "metadata": {},
     "outputs": [
      {
       "output_type": "stream",
       "stream": "stdout",
       "text": [
        "value of resistance R6 = 2418 ohms for AB operation\n",
        "power across load = 5.15 watts"
       ]
      }
     ],
     "prompt_number": 6
    },
    {
     "cell_type": "markdown",
     "metadata": {},
     "source": [
      "<h3>Example 9.7, Page Number:295<h3>"
     ]
    },
    {
     "cell_type": "code",
     "collapsed": false,
     "input": [
      "\n",
      "\n",
      "import math\n",
      "# variable declaration\n",
      "f=200.0*10**3;    #frequency in hertz\n",
      "I_c_sat=100.0*10**-3;   #saturation current\n",
      "V_ce_sat=0.2;       #sat voltage\n",
      "t_on=1.0*10**-6;    #on time\n",
      "\n",
      "#calculation\n",
      "T=1/f;    #time period of signal\n",
      "P_D_avg=(t_on/T)*I_c_sat*V_ce_sat; #power dissipation\n",
      "\n",
      "#result\n",
      "print \"average power dissipation =%.3f Watts\" %P_D_avg"
     ],
     "language": "python",
     "metadata": {},
     "outputs": [
      {
       "output_type": "stream",
       "stream": "stdout",
       "text": [
        "average power dissipation =0.004 Watts"
       ]
      }
     ],
     "prompt_number": 7
    },
    {
     "cell_type": "markdown",
     "metadata": {},
     "source": [
      "<h3>Example 9.8, Page Number: 298<h3>"
     ]
    },
    {
     "cell_type": "code",
     "collapsed": false,
     "input": [
      "\n",
      "\n",
      "import math\n",
      "# variable declaration\n",
      "P_D_avg=4.0*10**-3;    #power dissipation\n",
      "V_CC=24.0;              #supply voltage\n",
      "R_c=100.0;              #resistance in ohm\n",
      "\n",
      "#calculation\n",
      "P_out=(0.5*V_CC**2)/R_c;  #output power\n",
      "n=(P_out)/(P_out+P_D_avg);    #n is efficiency\n",
      "\n",
      "#result\n",
      "print \"efficiency=%.4f\" %n"
     ],
     "language": "python",
     "metadata": {},
     "outputs": [
      {
       "output_type": "stream",
       "stream": "stdout",
       "text": [
        "efficiency=0.9986"
       ]
      }
     ],
     "prompt_number": 8
    }
   ],
   "metadata": {}
  }
 ]
}