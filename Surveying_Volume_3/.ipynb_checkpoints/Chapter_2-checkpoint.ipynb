{
 "metadata": {
  "name": "",
  "signature": "sha256:6606ac19603447b1854104ff063c3146a52dcc3f72534593eb57dedb0abf3778"
 },
 "nbformat": 3,
 "nbformat_minor": 0,
 "worksheets": [
  {
   "cells": [
    {
     "cell_type": "heading",
     "level": 2,
     "metadata": {},
     "source": [
      "chapter 2:PHOTOGRAPHIC SURVEYING"
     ]
    },
    {
     "cell_type": "heading",
     "level": 3,
     "metadata": {},
     "source": [
      "Example 2.1, Page 215"
     ]
    },
    {
     "cell_type": "code",
     "collapsed": false,
     "input": [
      "\n",
      "\n",
      "# Initialization of Variable\n",
      "from math import pi\n",
      "from math import atan\n",
      "f =120.80 # focal length\n",
      "a = -35.52 # elevation of A\n",
      "b =8.48 # elevation of B\n",
      "c =48.26 # elevation of C\n",
      "\n",
      "#calculation\n",
      "alphaa = atan (a/f);\n",
      "alphab = atan (b/f);\n",
      "alphac = atan (c/f);\n",
      "phi =(354+30/60) *pi /180; # azimuth o f camera\n",
      "phia =phi - alphaa -360* pi /180; # azimuth o f a\n",
      "phib = phia + alphab; # azimuth o f b\n",
      "phic = phia + alphac ; # azimuth o f c\n",
      "\n",
      "#result\n",
      "print   \" azimuth of a in ( degrees ) \",round(phia /pi *180,2)\n",
      "print  \" azimuth of b in ( degrees ) \",round(phib /pi *180,2)\n",
      "print   \" azimuth of c in ( degrees ) \",round(phic /pi *180,2)"
     ],
     "language": "python",
     "metadata": {},
     "outputs": [
      {
       "output_type": "stream",
       "stream": "stdout",
       "text": [
        " azimuth of a in ( degrees )  10.39\n",
        " azimuth of b in ( degrees )  14.4\n",
        " azimuth of c in ( degrees )  32.16\n"
       ]
      }
     ],
     "prompt_number": 1
    },
    {
     "cell_type": "heading",
     "level": 3,
     "metadata": {},
     "source": [
      "Example 2.2,Page 216"
     ]
    },
    {
     "cell_type": "code",
     "collapsed": false,
     "input": [
      "\n",
      "\n",
      "#initialisation of variable\n",
      "from math import pi\n",
      "from math import atan,sin,sqrt\n",
      "f =150.0; # focal length of camera\n",
      "ap =20.2 # elevation of a from p\n",
      "aa1 =16.4; # distace to the right\n",
      "aq =35.2 # elevation of a from q\n",
      "PQ =100.0; # distace of PQ\n",
      "RL =126.845; # r educed level of instrument\n",
      "\n",
      "#calculation\n",
      "alphap = atan (ap/f);\n",
      "alphaq = atan (aq/f);\n",
      "P=pi /3- alphap ; # angle P\n",
      "Q =40* pi /180 - alphaq ; # angle Q\n",
      "A=pi -P-Q; # angle A;\n",
      "AP=PQ* sin (Q)/sin(A);\n",
      "AQ=PQ* sin (P)/sin(A);\n",
      "Pa1 = sqrt (ap **2+ f **2) ;\n",
      "AA1 = aa1 *AP/ Pa1 ;\n",
      "RLa =RL+AA1; # reduced level of A\n",
      "\n",
      "#result\n",
      "print  \" distance of AP (m)  \",round(AP,2);\n",
      "print \"distance of AQ (m) \",round(AQ,2);\n",
      "print \" reduced level of A in (M) \",round(RLa,2)"
     ],
     "language": "python",
     "metadata": {},
     "outputs": [
      {
       "output_type": "stream",
       "stream": "stdout",
       "text": [
        " distance of AP (m)   45.9\n",
        "distance of AQ (m)  80.6\n",
        " reduced level of A in (M)  131.82\n"
       ]
      }
     ],
     "prompt_number": 2
    },
    {
     "cell_type": "heading",
     "level": 3,
     "metadata": {},
     "source": [
      "Example 2.3,Page 218"
     ]
    },
    {
     "cell_type": "code",
     "collapsed": false,
     "input": [
      "\n",
      "\n",
      "#initialisation of variable\n",
      "from math import pi,tan,sqrt,sin\n",
      "theta =(44+30/60) *pi /180; # angle b/w two points\n",
      "x1 =68.24; #distance of 1st point\n",
      "x2 =58.48; #distance of 2nd point\n",
      "\n",
      "#calculation\n",
      "f=( x1+x2)/ tan ( theta ) /2+ sqrt (( x1+x2) **2/4/( tan ( theta ))\n",
      "**2+ x1*x2);\n",
      "\n",
      "#result\n",
      "print \" focal length of lens in (mm) \",round(f,2);"
     ],
     "language": "python",
     "metadata": {},
     "outputs": [
      {
       "output_type": "stream",
       "stream": "stdout",
       "text": [
        " focal length of lens in (mm)  156.69\n"
       ]
      }
     ],
     "prompt_number": 3
    },
    {
     "cell_type": "heading",
     "level": 3,
     "metadata": {},
     "source": [
      "Example 2.4, Page 240"
     ]
    },
    {
     "cell_type": "code",
     "collapsed": false,
     "input": [
      "\n",
      "\n",
      "#initialisation of variable\n",
      "from math import pi,tan,sqrt,sin\n",
      "# part 1\n",
      "\n",
      "H =1200.0;#altitude\n",
      "h =80.0; #elevation of hill\n",
      "f =15.0/100.0;\n",
      "\n",
      "#calculation\n",
      "R80 =f/(H-h);\n",
      "print \" representative fraction of hill is ( time s) \",round(R80,5);\n",
      "\n",
      "# part 2\n",
      "#initialisation of variable\n",
      "h =300.0; #elevation of hill\n",
      "\n",
      "#calculation\n",
      "R300 =f/(H-h);\n",
      "\n",
      "#result\n",
      "print \" representative fraction of hill is ( time s) \",round(R300,5) ;"
     ],
     "language": "python",
     "metadata": {},
     "outputs": [
      {
       "output_type": "stream",
       "stream": "stdout",
       "text": [
        " representative fraction of hill is ( time s)  0.00013\n",
        " representative fraction of hill is ( time s)  0.00017\n"
       ]
      }
     ],
     "prompt_number": 4
    },
    {
     "cell_type": "heading",
     "level": 3,
     "metadata": {},
     "source": [
      "Example 2.5,Page 240"
     ]
    },
    {
     "cell_type": "code",
     "collapsed": false,
     "input": [
      "\n",
      "#initialisation of variable\n",
      "from math import pi,tan,sqrt,sin\n",
      "R =1.0/8000.0;\n",
      "h =1500.0;\n",
      "f =20.0/100.0;\n",
      "\n",
      "#calculation\n",
      "H=h+f/R;\n",
      "\n",
      "#result\n",
      "print \" height above sea level in (m)  \",round(H,3);"
     ],
     "language": "python",
     "metadata": {},
     "outputs": [
      {
       "output_type": "stream",
       "stream": "stdout",
       "text": [
        " height above sea level in (m)   3100.0\n"
       ]
      }
     ],
     "prompt_number": 5
    },
    {
     "cell_type": "heading",
     "level": 3,
     "metadata": {},
     "source": [
      "Example 2.6,Page 241"
     ]
    },
    {
     "cell_type": "code",
     "collapsed": false,
     "input": [
      "\n",
      "#initialisation of variable\n",
      "from math import pi,tan,sqrt,sin\n",
      "h =500.0; #elevation of point\n",
      "f =20.0/100.0; # focal length\n",
      "v =8.65/100.0; # vertical distance of photograph\n",
      "ho =2000.0; # horizontal distance of photograph\n",
      "R=v/ho; # representative  fraction\n",
      "h1 =800;\n",
      "\n",
      "#calculation\n",
      "H=h+f/R;\n",
      "S=(H-h1)/f /100; # scale of photograph\n",
      "\n",
      "print \" height above sea level in (m)  \",round(H,2);\n",
      "print \" 1cm in photograph represents centimetres  \",round(S,3)"
     ],
     "language": "python",
     "metadata": {},
     "outputs": [
      {
       "output_type": "stream",
       "stream": "stdout",
       "text": [
        " height above sea level in (m)   5124.28\n",
        " 1cm in photograph represents centimetres   216.214\n"
       ]
      }
     ],
     "prompt_number": 6
    },
    {
     "cell_type": "heading",
     "level": 3,
     "metadata": {},
     "source": [
      "Example 2.7, Page 241"
     ]
    },
    {
     "cell_type": "code",
     "collapsed": false,
     "input": [
      "\n",
      "\n",
      "#initialisation of variable\n",
      "from math import pi,tan,sqrt,sin\n",
      "m =1.0/50000.0; #map scale\n",
      "pd =10.16; # photo distance\n",
      "md =2.54; #map distance\n",
      "f =16.0/100.0;\n",
      "h =200;\n",
      "\n",
      "#calculation\n",
      "R=pd/md*m; # representative  fraction\n",
      "H=h+f/R;\n",
      "\n",
      "#result\n",
      "print \" height above sea level in (m) \",round(H,3)"
     ],
     "language": "python",
     "metadata": {},
     "outputs": [
      {
       "output_type": "stream",
       "stream": "stdout",
       "text": [
        " height above sea level in (m)  2200.0\n"
       ]
      }
     ],
     "prompt_number": 7
    },
    {
     "cell_type": "heading",
     "level": 3,
     "metadata": {},
     "source": [
      "Example 2.8,Page 242"
     ]
    },
    {
     "cell_type": "code",
     "collapsed": false,
     "input": [
      "\n",
      "\n",
      "#initialisation of variable\n",
      "from math import pi,tan,sqrt,sin\n",
      "f =20 # f o c a l l e n g t h\n",
      "xa =2.65; # x coordinate of a\n",
      "xb = -1.92; # x coordinate of b\n",
      "ya =1.36; # x coordinate of a\n",
      "yb =3.65; # y coordinate of b\n",
      "H =2500.0;\n",
      "ha =500.0; # elevation of a\n",
      "hb =300.0; # elevation of b\n",
      "\n",
      "#calculation\n",
      "Xa =(H-ha)/f*xa;\n",
      "Xb =(H-hb)/f*xb;\n",
      "Ya =(H-ha)/f*ya;\n",
      "Yb =(H-hb)/f*yb;\n",
      "AB= sqrt ((Xa -Xb) **2+( Ya -Yb)**2);\n",
      "\n",
      "#result\n",
      "print \" distance between A & B in (m)  \",round(AB,3)"
     ],
     "language": "python",
     "metadata": {},
     "outputs": [
      {
       "output_type": "stream",
       "stream": "stdout",
       "text": [
        " distance between A & B in (m)   545.213\n"
       ]
      }
     ],
     "prompt_number": 8
    },
    {
     "cell_type": "heading",
     "level": 3,
     "metadata": {},
     "source": [
      "Example 2.9,Page 243"
     ]
    },
    {
     "cell_type": "code",
     "collapsed": false,
     "input": [
      "\n",
      "\n",
      "#initialisation of variable\n",
      "from math import pi,tan,sqrt,sin\n",
      "f =20.0 # focal length\n",
      "xa =2.65; # x coordinate of a\n",
      "xb = -1.92; # x coordinate of b\n",
      "ya =1.36; # y coordinate of a\n",
      "yb =3.65; # y coordinate of b\n",
      "ha =500.0; # elevation of a\n",
      "hb =300.0; # elevation of b\n",
      "ABg =545.0;\n",
      "ab =5.112;\n",
      "\n",
      "#calculation\n",
      "hab =ha /2+ hb /2;\n",
      "Happ =hab+ ABg *f/ab\n",
      "Xa =( Happ -ha)/f*xa;\n",
      "Xb =( Happ -hb)/f*xb;\n",
      "Ya =( Happ -ha)/f*ya;\n",
      "Yb =( Happ -hb)/f*yb;\n",
      "AB= sqrt ((Xa -Xb) **2+( Ya -Yb)**2);\n",
      "Hact =ABg/AB *( Happ - hab )+ hab ;\n",
      "\n",
      "#result\n",
      "print \" actual flying height of A & B in (m)  \",round(Hact,3);"
     ],
     "language": "python",
     "metadata": {},
     "outputs": [
      {
       "output_type": "stream",
       "stream": "stdout",
       "text": [
        " actual flying height of A & B in (m)   2499.706\n"
       ]
      }
     ],
     "prompt_number": 9
    },
    {
     "cell_type": "heading",
     "level": 3,
     "metadata": {},
     "source": [
      "Example 2.10,Page 243"
     ]
    },
    {
     "cell_type": "code",
     "collapsed": false,
     "input": [
      "\n",
      "\n",
      "#initialisation of variable\n",
      "from math import pi,tan,sqrt,sin\n",
      "\n",
      "f =20.0/100.0;\n",
      "Sd =1.0/10000.0;\n",
      "h =250.0; # elevation\n",
      "r =6.44;\n",
      "\n",
      "#calculation\n",
      "H=f/Sd;\n",
      "d=r*h/H;\n",
      "\n",
      "#result\n",
      "print \"relief displacement of the point in ( cm) \",round(d,3)"
     ],
     "language": "python",
     "metadata": {},
     "outputs": [
      {
       "output_type": "stream",
       "stream": "stdout",
       "text": [
        "relief displacement of the point in ( cm)  0.805\n"
       ]
      }
     ],
     "prompt_number": 10
    },
    {
     "cell_type": "heading",
     "level": 3,
     "metadata": {},
     "source": [
      "Example 2.11,Page 244"
     ]
    },
    {
     "cell_type": "code",
     "collapsed": false,
     "input": [
      "\n",
      "\n",
      "#initialisation of variable\n",
      "from math import pi,tan,sqrt,sin\n",
      "h =50.0; # elevation\n",
      "H =2500.0 -1250.0;\n",
      "r =6.35;\n",
      "\n",
      "#calculation\n",
      "d=r*h/H;\n",
      "\n",
      "#result\n",
      "print  \"releif displacement of the point in ( cm) \",round(d,3)"
     ],
     "language": "python",
     "metadata": {},
     "outputs": [
      {
       "output_type": "stream",
       "stream": "stdout",
       "text": [
        "releif displacement of the point in ( cm)  0.254\n"
       ]
      }
     ],
     "prompt_number": 11
    },
    {
     "cell_type": "heading",
     "level": 3,
     "metadata": {},
     "source": [
      "Example 2.12,Page 244"
     ]
    },
    {
     "cell_type": "code",
     "collapsed": false,
     "input": [
      "\n",
      "\n",
      "#initialisation of variable\n",
      "from math import pi,tan,sqrt,sin\n",
      "f =20.0/100.0; # focal length\n",
      "l =250; #length of line\n",
      "lp =8.5/100.0; #length of line in photograph\n",
      "\n",
      "#calculation\n",
      "H=l*f/lp; # height of camera above datum\n",
      "r =6.46; # distace of image of top o f the towe r\n",
      "d =0.46; # releif displacement\n",
      "h=d*H/r;\n",
      "\n",
      "#result\n",
      "print \" height of tower above its base in (m) \",round(h,2)"
     ],
     "language": "python",
     "metadata": {},
     "outputs": [
      {
       "output_type": "stream",
       "stream": "stdout",
       "text": [
        "41.89  height of tower above its base in (m) \n"
       ]
      }
     ],
     "prompt_number": 28
    },
    {
     "cell_type": "heading",
     "level": 3,
     "metadata": {},
     "source": [
      "Example 2.13,Page 267"
     ]
    },
    {
     "cell_type": "code",
     "collapsed": false,
     "input": [
      "\n",
      "\n",
      "#initialisation of variable\n",
      "from math import pi,tan,sqrt,sin\n",
      "l =20/100; # length of photograph\n",
      "w =20/100; # breadth of photograph\n",
      "Pl =0.6; # longitudinal  lap\n",
      "Pw =0.3; # side lap\n",
      "s =100*20;\n",
      "\n",
      "#calculation\n",
      "L=(1 - Pl)*s;\n",
      "W=(1 - Pw)*s;\n",
      "Ar=L*W /1000/1000;\n",
      "N =100/ Ar;\n",
      "A= round (N);\n",
      "\n",
      "#result\n",
      "print \"no . o f photographs to be taken \",A+1;\n"
     ],
     "language": "python",
     "metadata": {},
     "outputs": [
      {
       "output_type": "stream",
       "stream": "stdout",
       "text": [
        "no . o f photographs to be taken  90.0\n"
       ]
      }
     ],
     "prompt_number": 12
    },
    {
     "cell_type": "heading",
     "level": 3,
     "metadata": {},
     "source": [
      "Example 2.14,Page 267"
     ]
    },
    {
     "cell_type": "code",
     "collapsed": false,
     "input": [
      "\n",
      "\n",
      "#initialisation of variable\n",
      "from math import pi,tan,sqrt,sin\n",
      "Pl =0.6; # longitudinal lap\n",
      "Pw =0.3; # side lap\n",
      "L1 =10000.0;\n",
      "s =100.0*20.0;\n",
      "\n",
      "#calculation\n",
      "L2=L1;\n",
      "N1=L1 /((1 - Pl)*s) +1;\n",
      "A1= round (N1);\n",
      "if N1 -A1 <0:\n",
      "    N1=A1;\n",
      "else :\n",
      "    N1=A1+1;\n",
      "\n",
      "N2=L2 /((1 - Pw)*s) +1;\n",
      "A2= round (N2);\n",
      "if N2 -A2 <0:\n",
      "    N2=A2\n",
      "else :\n",
      "    N2=A2+1;\n",
      "\n",
      "N=N1*N2;\n",
      "\n",
      "#result\n",
      "print \"no . of photographs to be taken \",N;"
     ],
     "language": "python",
     "metadata": {},
     "outputs": [
      {
       "output_type": "stream",
       "stream": "stdout",
       "text": [
        "no . of photographs to be taken  126.0\n"
       ]
      }
     ],
     "prompt_number": 13
    },
    {
     "cell_type": "heading",
     "level": 3,
     "metadata": {},
     "source": [
      "Example 2.15,Page 268"
     ]
    },
    {
     "cell_type": "code",
     "collapsed": false,
     "input": [
      "\n",
      "\n",
      "#initialisation of variable\n",
      "from math import pi,tan,sqrt,sin\n",
      "Pl =0.6; # longitudinal lap\n",
      "Pw =0.3; # side lap\n",
      "L1 =12500.0;\n",
      "s =100.0*20.0;\n",
      "L2 =8000.0;\n",
      "\n",
      "#calculation\n",
      "N1=L1 /((1 - Pl)*s) +1;\n",
      "A1= round (N1);\n",
      "if N1 -A1 <0:\n",
      "    N1=A1;\n",
      "else :\n",
      "    N1=A1+1;\n",
      "\n",
      "N2=L2 /((1 - Pw)*s) +1;\n",
      "A2= round (N2);\n",
      "if N2 -A2 <0:\n",
      "    N2=A2\n",
      "else :\n",
      "    N2=A2+1;\n",
      "\n",
      "N=N1*N2;\n",
      "\n",
      "#result\n",
      "print \"no . of photographs to be taken \",N;"
     ],
     "language": "python",
     "metadata": {},
     "outputs": [
      {
       "output_type": "stream",
       "stream": "stdout",
       "text": [
        "no . of photographs to be taken  119.0\n"
       ]
      }
     ],
     "prompt_number": 14
    },
    {
     "cell_type": "heading",
     "level": 3,
     "metadata": {},
     "source": [
      "Example 2.16,Page 268"
     ]
    },
    {
     "cell_type": "code",
     "collapsed": false,
     "input": [
      "\n",
      "\n",
      "#initialisation of variable\n",
      "#part1\n",
      "from math import pi,tan,sqrt,sin\n",
      "f =30.0/100.0; # focal length\n",
      "h =400.0; #elevation of datum\n",
      "r =12000.0; # ratio\n",
      "s =120.0*20.0;\n",
      "L2 =24000.0;\n",
      "L1 =30000.0;\n",
      "Pl =0.6; # longitudinal lap\n",
      "Pw =0.3; # side lap\n",
      "\n",
      "#calculation\n",
      "H=h+r*f;\n",
      "\n",
      "#result\n",
      "print \" height above datum in (m)  \",round(H,2);\n",
      "\n",
      "# part 2\n",
      "#calculation\n",
      "W=(1 - Pw)*s;\n",
      "\n",
      "#result\n",
      "print \" ground width covered in each photograph (m) \",round(W,2);\n",
      "\n",
      "# part 3\n",
      "N2=L2 /((1 - Pw)*s) +1;\n",
      "A2= round (N2);\n",
      "if N2 -A2 <0:\n",
      "    N2=A2\n",
      "else :\n",
      "    N2=A2+1;\n",
      "\n",
      "#result\n",
      "print \"no . of flights required \",N2;\n",
      "\n",
      "#part 4-9\n",
      "#calculation\n",
      "Asf =L2 /(N2 -1) ; # actual spacing between flights\n",
      "Sfl = Asf /600; # spacing of flight lines\n",
      "gd =(1 - Pl)*s; # ground distance\n",
      "Ei=gd /55.5; # exposure interval\n",
      "Ei= round (Ei);\n",
      "Ags =55.56* Ei;# adgusted ground distance\n",
      "N1=L1/ Ags +1;\n",
      "A1= round (N1);\n",
      "if N1 -A1 <0:\n",
      "    N1=A1;\n",
      "else :\n",
      "    N1=A1+1;\n",
      "N=N1*N2;\n",
      "\n",
      "#result\n",
      "print \"actual spacing in m\",Asf\n",
      "print \"spacing of flight lines in cm\",round(Sfl,2)\n",
      "print \"exposure interval in s\",Ei\n",
      "print \"adjusted ground distance in m\",round(Ags)\n",
      "print \"no . of photographs to be taken per flight line\",N1\n",
      "print \"no . of photographs to be taken \",N;"
     ],
     "language": "python",
     "metadata": {},
     "outputs": [
      {
       "output_type": "stream",
       "stream": "stdout",
       "text": [
        " height above datum in (m)   4000.0\n",
        " ground width covered in each photograph (m)  1680.0\n",
        "no . of flights required  16.0\n",
        "actual spacing in m 1600.0\n",
        "spacing of flight lines in cm 2.67\n",
        "exposure interval in s 17.0\n",
        "adjusted ground distance in m 945.0\n",
        "no . of photographs to be taken per flight line 33.0\n",
        "no . of photographs to be taken  528.0\n"
       ]
      }
     ],
     "prompt_number": 15
    },
    {
     "cell_type": "heading",
     "level": 3,
     "metadata": {},
     "source": [
      "Example 2.17,Page 301"
     ]
    },
    {
     "cell_type": "code",
     "collapsed": false,
     "input": [
      "\n",
      "\n",
      "#initialisation of variable\n",
      "from math import pi,tan,sqrt,sin\n",
      "f =150.0/1000.0; # focal length\n",
      "r =20000.0; #ratio\n",
      "Pl =0.6; # longitudinal  lap\n",
      "l =23.0/100.0; # l e n g t h\n",
      "w =23.0/100.0; # width\n",
      "\n",
      "#calculation\n",
      "B=(1 - Pl)*l*r; # base length\n",
      "H=f*r;\n",
      "h =0;\n",
      "dh =(H-h) **2/ B/f *0.1/1000;\n",
      "\n",
      "#result\n",
      "print \" error in height in (m)  \",round(dh,3)"
     ],
     "language": "python",
     "metadata": {},
     "outputs": [
      {
       "output_type": "stream",
       "stream": "stdout",
       "text": [
        " error in height in (m)   3.261\n"
       ]
      }
     ],
     "prompt_number": 16
    },
    {
     "cell_type": "heading",
     "level": 3,
     "metadata": {},
     "source": [
      "Example 2.18,Page 302"
     ]
    },
    {
     "cell_type": "code",
     "collapsed": false,
     "input": [
      "\n",
      "#initialisation of variable\n",
      "from math import pi,tan,sqrt,sin\n",
      "H =600.0;\n",
      "f =150.0/1000.0;\n",
      "b =6.375/100.0;\n",
      "h1 =0.0;\n",
      "h2 =120.0; # height of chimney\n",
      "\n",
      "#calculation\n",
      "s=H/f;\n",
      "B=s*b; # datum elevation\n",
      "p1=B*f *1000/(H-h1);\n",
      "p2=B*f *1000/(H-h2);\n",
      "delp =p2 -p1;\n",
      "delh =H* delp /1000/( b+ delp /1000) ;\n",
      "\n",
      "#result\n",
      "print \" parallax height of the chimney in (m)\",round(delh,3)"
     ],
     "language": "python",
     "metadata": {},
     "outputs": [
      {
       "output_type": "stream",
       "stream": "stdout",
       "text": [
        " parallax height of the chimney in (m) 120.0\n"
       ]
      }
     ],
     "prompt_number": 17
    },
    {
     "cell_type": "heading",
     "level": 3,
     "metadata": {},
     "source": [
      "Example 2.19,Page 303"
     ]
    },
    {
     "cell_type": "code",
     "collapsed": false,
     "input": [
      "\n",
      "\n",
      "#initialisation of variable\n",
      "from math import pi,tan,sqrt,sin\n",
      "B =200.0;\n",
      "f =120.0;\n",
      "p2 =52.52; # parallax for top pole\n",
      "p1 =48.27; # parallax for bottom pole\n",
      "\n",
      "#calculation\n",
      "delh =(p2 -p1)/p2/p1*B*f;\n",
      "\n",
      "#result\n",
      "print \" difference in elevation  of two points in (m)  \",round(delh,3)\n",
      "print \"there is again  a miscalculation in the step of calculating elevation thus there is a change in the answer\""
     ],
     "language": "python",
     "metadata": {},
     "outputs": [
      {
       "output_type": "stream",
       "stream": "stdout",
       "text": [
        " difference in elevation  of two points in (m)   40.234\n",
        "there is again  a miscalculation in the step of calculating elevation thus there is a change in the answer\n"
       ]
      }
     ],
     "prompt_number": 1
    },
    {
     "cell_type": "heading",
     "level": 3,
     "metadata": {},
     "source": [
      "Example 2.20,Page 303"
     ]
    },
    {
     "cell_type": "code",
     "collapsed": false,
     "input": [
      "\n",
      "\n",
      "#initialisation of variable\n",
      "# part 1\n",
      "delp =1.48/1000.0;\n",
      "H =5000.0;\n",
      "h =500.0;\n",
      "b =90.0/1000.0; #mean principal base\n",
      "\n",
      "#calculation\n",
      "dh =(H-h) **2* delp /((H-h)* delp +b*H);\n",
      "\n",
      "#result\n",
      "print \" difference in height between two points in(m)  \",round(dh,3)\n",
      "\n",
      "# part 2\n",
      "#variable decleration\n",
      "delp =15.5/1000.0;\n",
      "\n",
      "#calculation\n",
      "dh =(H-h) **2* delp /((H-h)* delp +b*H);\n",
      "\n",
      "#result\n",
      "print \" difference in height between two points in(m)  \",round(dh,3)"
     ],
     "language": "python",
     "metadata": {},
     "outputs": [
      {
       "output_type": "stream",
       "stream": "stdout",
       "text": [
        " difference in height between two points in(m)   65.629\n",
        " difference in height between two points in(m)   603.896\n"
       ]
      }
     ],
     "prompt_number": 14
    },
    {
     "cell_type": "code",
     "collapsed": false,
     "input": [],
     "language": "python",
     "metadata": {},
     "outputs": []
    }
   ],
   "metadata": {}
  }
 ]
}