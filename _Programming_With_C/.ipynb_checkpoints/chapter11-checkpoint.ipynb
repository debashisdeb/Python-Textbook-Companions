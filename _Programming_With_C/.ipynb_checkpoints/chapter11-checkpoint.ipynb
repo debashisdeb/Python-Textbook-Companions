{
 "metadata": {
  "name": "chapter11"
 },
 "nbformat": 3,
 "nbformat_minor": 0,
 "worksheets": [
  {
   "cells": [
    {
     "cell_type": "markdown",
     "metadata": {},
     "source": "<h1>Chapter 11: Pointers<h1>"
    },
    {
     "cell_type": "markdown",
     "metadata": {},
     "source": "<h3>Example 11.1, Page 11.2<h3>"
    },
    {
     "cell_type": "code",
     "collapsed": false,
     "language": "python",
     "metadata": {},
     "outputs": [
      {
       "output_type": "stream",
       "stream": "stdout",
       "text": "u= 3 &u= 56575840 pu= 56575840 *pu 3\nv= 3 &v= 56575840 pv= 56575840 *pv 3\n"
      }
     ],
     "prompt_number": 11
    },
    {
     "cell_type": "markdown",
     "metadata": {},
     "source": "<h3>Example 11.2, Page number: 11.3<h3>"
    },
    {
     "cell_type": "code",
     "collapsed": false,
     "language": "python",
     "metadata": {},
     "outputs": [
      {
       "output_type": "stream",
       "stream": "stdout",
       "text": "u1=16 u2=16\n"
      }
     ],
     "prompt_number": 12
    },
    {
     "cell_type": "markdown",
     "metadata": {},
     "source": "<h3>Example 11.3, Page munber: 11.4<h3>"
    },
    {
     "cell_type": "code",
     "collapsed": false,
     "language": "python",
     "metadata": {},
     "outputs": [
      {
       "output_type": "stream",
       "stream": "stdout",
       "text": "*pv=3  v=3\n*pv=0  v=0\n"
      }
     ],
     "prompt_number": 13
    },
    {
     "cell_type": "markdown",
     "metadata": {},
     "source": "<h3>Example 11.7, Page number: 11.6<h3>"
    },
    {
     "cell_type": "code",
     "collapsed": false,
     "language": "python",
     "metadata": {},
     "outputs": [
      {
       "output_type": "stream",
       "stream": "stdout",
       "text": "Before calling funct1:   u=1    v=3\nWithin funct1        :   u=0    v=0\nAfter calling funct1 :   u=1    v=3\nBefore calling funct2:   u=1    v=3\nWithin funct2        :  *pu=0  *pv=0\nAfter calling funct2 :   u=0    v=0\n"
      }
     ],
     "prompt_number": 14
    },
    {
     "cell_type": "markdown",
     "metadata": {},
     "source": "<h3>Example 11.8, Page number: 11.8<h3>"
    },
    {
     "cell_type": "code",
     "collapsed": false,
     "language": "python",
     "metadata": {},
     "outputs": [
      {
       "output_type": "stream",
       "stream": "stdout",
       "text": "\n\n\nNo. of vowels                :  23\nNo. of consonants            :  35\nNo. of digits                :  4\nNo. of whitespace characters :  12\nNo. of other characters      :  1\n"
      }
     ],
     "prompt_number": 15
    },
    {
     "cell_type": "markdown",
     "metadata": {},
     "source": "<h3>Example 11.12, Page number: 11.15<h3>"
    },
    {
     "cell_type": "code",
     "collapsed": false,
     "language": "python",
     "metadata": {},
     "outputs": [
      {
       "output_type": "stream",
       "stream": "stdout",
       "text": "i=0   x[i]=10   *(x+1)=10    &x[i]= 30696620    x+i= 30696620\ni=1   x[i]=11   *(x+1)=11    &x[i]= 30696608    x+i= 30696608\ni=2   x[i]=12   *(x+1)=12    &x[i]= 30696596    x+i= 30696596\ni=3   x[i]=13   *(x+1)=13    &x[i]= 30696584    x+i= 30696584\ni=4   x[i]=14   *(x+1)=14    &x[i]= 30696572    x+i= 30696572\ni=5   x[i]=15   *(x+1)=15    &x[i]= 30696560    x+i= 30696560\ni=6   x[i]=16   *(x+1)=16    &x[i]= 30696548    x+i= 30696548\ni=7   x[i]=17   *(x+1)=17    &x[i]= 30696536    x+i= 30696536\ni=8   x[i]=18   *(x+1)=18    &x[i]= 30696524    x+i= 30696524\ni=9   x[i]=19   *(x+1)=19    &x[i]= 30696512    x+i= 30696512\n"
      }
     ],
     "prompt_number": 16
    },
    {
     "cell_type": "markdown",
     "metadata": {},
     "source": "<h3>Example 11.14, Page number: 11.17<h3>"
    },
    {
     "cell_type": "code",
     "collapsed": false,
     "language": "python",
     "metadata": {},
     "outputs": [
      {
       "output_type": "stream",
       "stream": "stdout",
       "text": "['T', 'h', 'i', 's', ' ', 's', 't', 'r', 'i', 'n', 'g', ' ', 'i', 's', ' ', 'd', 'e', 'c', 'l', 'a', 'r', 'e', 'd', ' ', 'e', 'x', 't', 'e', 'r', 'n', 'a', 'l', 'l', 'y']\n['T', 'h', 'i', 's', ' ', 's', 't', 'r', 'i', 'n', 'g', ' ', 'i', 's', ' ', 'd', 'e', 'c', 'l', 'a', 'r', 'e', 'd', ' ', 'w', 'i', 't', 'h', 'i', 'n', ' ', 'm', 'a', 'i', 'n']\n"
      }
     ],
     "prompt_number": 17
    },
    {
     "cell_type": "markdown",
     "metadata": {},
     "source": "<h3>Example 11.16, Page number: 11.19<h3>"
    },
    {
     "cell_type": "code",
     "collapsed": false,
     "language": "python",
     "metadata": {},
     "outputs": [
      {
       "output_type": "stream",
       "stream": "stdout",
       "text": "\ni=1 x=1 \ni=2 x=2 \ni=3 x=3 \ni=4 x=4 \ni=5 x=5 \ni=6 x=6 \ni=7 x=7 \ni=8 x=8 \ni=9 x=9 \ni=10 x=10 \n\ni=1  x=1\ni=2  x=2\ni=3  x=3\ni=4  x=4\ni=5  x=5\ni=6  x=6\ni=7  x=7\ni=8  x=8\ni=9  x=9\ni=10  x=10\n"
      }
     ],
     "prompt_number": 18
    },
    {
     "cell_type": "markdown",
     "metadata": {},
     "source": "<h3>Example 11.17, Page number: 11.21<h3>"
    },
    {
     "cell_type": "code",
     "collapsed": false,
     "language": "python",
     "metadata": {},
     "outputs": [
      {
       "output_type": "stream",
       "stream": "stdout",
       "text": "Values: i=1 f=0.300000 d=0.005000 c=* \n\nAddresses: &i=1D46518 &f=32BD940 &d=32BD950 &c=1D9F158 \n\nPointer Values: px=1D46518  px+1=1D4650C  px+2=1D46500  px+3=1D464F4\n"
      }
     ],
     "prompt_number": 19
    },
    {
     "cell_type": "markdown",
     "metadata": {},
     "source": "<h3>Example 11.18, Page number: 11.22<h3>"
    },
    {
     "cell_type": "code",
     "collapsed": false,
     "language": "python",
     "metadata": {},
     "outputs": [
      {
       "output_type": "stream",
       "stream": "stdout",
       "text": "px=1D46518   py=1D464DC \n\npy - px = -3C\n"
      }
     ],
     "prompt_number": 20
    },
    {
     "cell_type": "markdown",
     "metadata": {},
     "source": "<h3>Example 11.22, Page number: 11.26<h3>"
    },
    {
     "cell_type": "code",
     "collapsed": false,
     "language": "python",
     "metadata": {},
     "outputs": [
      {
       "output_type": "stream",
       "stream": "stdout",
       "text": "\n FIRST TABLE : \n\n   1    3    5    7    9\n  11   13   15   17   19\n  21   23   25   27   29\n  31   33   35   37   39\n  41   43   45   47   49\n\n SECOND TABLE : \n\n  50   52   54   56   58\n  60   62   64   66   68\n  70   72   74   76   78\n  80   82   84   86   88\n  90   92   94   96   98\nSums of the elements : \n\n  51   55   59   63   67\n  71   75   79   83   87\n  91   95   99  103  107\n 111  115  119  123  127\n 131  135  139  143  147\n"
      }
     ],
     "prompt_number": 21
    },
    {
     "cell_type": "markdown",
     "metadata": {},
     "source": "<h3>Example 11.24, Page number: 11.31<h3>"
    },
    {
     "cell_type": "code",
     "collapsed": false,
     "language": "python",
     "metadata": {},
     "outputs": [
      {
       "output_type": "stream",
       "stream": "stdout",
       "text": "\n FIRST TABLE : \n\n   1    3    5    7    9\n  11   13   15   17   19\n  21   23   25   27   29\n  31   33   35   37   39\n  41   43   45   47   49\n\n SECOND TABLE : \n\n  50   52   54   56   58\n  60   62   64   66   68\n  70   72   74   76   78\n  80   82   84   86   88\n  90   92   94   96   98\nSums of the elements : \n\n  51   55   59   63   67\n  71   75   79   83   87\n  91   95   99  103  107\n 111  115  119  123  127\n 131  135  139  143  147\n"
      }
     ],
     "prompt_number": 22
    },
    {
     "cell_type": "markdown",
     "metadata": {},
     "source": "<h3>Example 11.26, Page number: 11.34<h3>"
    },
    {
     "cell_type": "code",
     "collapsed": false,
     "language": "python",
     "metadata": {},
     "outputs": [
      {
       "output_type": "stream",
       "stream": "stdout",
       "text": "Original list of strings :\n\n\nString :  PACIFIC\nString :  ATLANTIC\nString :  INDIAN\nString :  CARIBBEAN\nString :  BERING\nString :  BLACK\nString :  RED\nString :  NORTH\nString :  BALTIC\nString :  CASPIAN\n\nReodered list of strings : \n\n\nString :  ATLANTIC\nString :  BALTIC\nString :  BERING\nString :  BLACK\nString :  CARIBBEAN\nString :  CASPIAN\nString :  INDIAN\nString :  NORTH\nString :  PACIFIC\nString :  RED\n"
      }
     ],
     "prompt_number": 23
    },
    {
     "cell_type": "markdown",
     "metadata": {},
     "source": "<h3>Example 11.28, Page number: 11.37<h3>"
    },
    {
     "cell_type": "code",
     "collapsed": false,
     "language": "python",
     "metadata": {},
     "outputs": [
      {
       "output_type": "stream",
       "stream": "stdout",
       "text": "Tuesday, October 29 1929\n\nWednesday, August 15 1945\n\nSunday, July 20 1969\n\nSaturday, May 24 1997\n\nMonday, August 30 2010\n\nFriday, April 12 2069\n"
      }
     ],
     "prompt_number": 24
    },
    {
     "cell_type": "markdown",
     "metadata": {},
     "source": "<h3>Example 11.30, Page number: 11.44<h3>"
    },
    {
     "cell_type": "code",
     "collapsed": false,
     "language": "python",
     "metadata": {},
     "outputs": [
      {
       "output_type": "stream",
       "stream": "stdout",
       "text": "FUTURE VALUE OF A SERIES OF MONTHLY DEPOSITS\n\n\nFrequency of Compunding (A,S,Q,M,D,C):  m\nAmount of Each Monthly Payement :  100\nNumber of years:  3\n\nMonthly Compounding\n\nInterest Rate          Future Amount\n\n\n     1                      3653.00\n     2                      3707.01\n     3                      3762.06\n     4                      3818.16\n     5                      3875.33\n     6                      3933.61\n     7                      3993.01\n     8                      4053.56\n     9                      4115.27\n    10                      4178.18\n    11                      4242.31\n    12                      4307.69\n    13                      4374.33\n    14                      4442.28\n    15                      4511.55\n    16                      4582.17\n    17                      4654.18\n    18                      4727.60\n    19                      4802.45\n    20                      4878.78\n"
      }
     ],
     "prompt_number": 25
    },
    {
     "cell_type": "code",
     "collapsed": false,
     "input": "",
     "language": "python",
     "metadata": {},
     "outputs": [],
     "prompt_number": 25
    }
   ],
   "metadata": {}
  }
 ]
}